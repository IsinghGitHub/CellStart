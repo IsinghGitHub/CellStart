{
  "nbformat": 4,
  "nbformat_minor": 0,
  "metadata": {
    "colab": {
      "name": "ML_Hackathon_Food_Demand_Forecasting.ipynb",
      "version": "0.3.2",
      "provenance": [],
      "private_outputs": true,
      "collapsed_sections": [],
      "include_colab_link": true
    },
    "kernelspec": {
      "name": "python3",
      "display_name": "Python 3"
    }
  },
  "cells": [
    {
      "cell_type": "markdown",
      "metadata": {
        "id": "view-in-github",
        "colab_type": "text"
      },
      "source": [
        "<a href=\"https://colab.research.google.com/github/IsinghGitHub/CellStrat/blob/master/ML_Hackathon_Food_Demand_Forecasting.ipynb\" target=\"_parent\"><img src=\"https://colab.research.google.com/assets/colab-badge.svg\" alt=\"Open In Colab\"/></a>"
      ]
    },
    {
      "cell_type": "code",
      "metadata": {
        "id": "0sQ0BBvDtTqc",
        "colab_type": "code",
        "colab": {}
      },
      "source": [
        "from google.colab import drive\n",
        "drive.mount('/content/gdrive')"
      ],
      "execution_count": 0,
      "outputs": []
    },
    {
      "cell_type": "code",
      "metadata": {
        "id": "URRPb0xPyLHF",
        "colab_type": "code",
        "colab": {}
      },
      "source": [
        "pip install catboost"
      ],
      "execution_count": 0,
      "outputs": []
    },
    {
      "cell_type": "code",
      "metadata": {
        "id": "4sdiAoo_ddWY",
        "colab_type": "code",
        "colab": {}
      },
      "source": [
        "\n",
        "import pandas as pd\n",
        "import numpy as np\n",
        "import seaborn as sns\n",
        "from matplotlib import pyplot as plt\n",
        "import pandas_profiling as pp\n",
        "from sklearn.preprocessing import LabelEncoder\n",
        "from sklearn.model_selection import train_test_split\n",
        "from sklearn.model_selection import KFold,StratifiedKFold\n",
        "from sklearn.metrics import mean_squared_error\n",
        "from catboost import CatBoostRegressor\n",
        "from catboost import Pool\n",
        "\n",
        "train = pd.read_csv(\"/content/gdrive/My Drive/CellStrat/Hackathon/ML/Food_Demand_Forecasting/data/train_GzS76OK/train.csv\")\n",
        "test = pd.read_csv(\"/content/gdrive/My Drive/CellStrat/Hackathon/ML/Food_Demand_Forecasting/data/test_QoiMO9B.csv\")"
      ],
      "execution_count": 0,
      "outputs": []
    },
    {
      "cell_type": "code",
      "metadata": {
        "id": "BrZwEq2LenEO",
        "colab_type": "code",
        "colab": {}
      },
      "source": [
        "train.head()"
      ],
      "execution_count": 0,
      "outputs": []
    },
    {
      "cell_type": "code",
      "metadata": {
        "id": "HOfQ6mwEeq0f",
        "colab_type": "code",
        "colab": {}
      },
      "source": [
        "test.head()"
      ],
      "execution_count": 0,
      "outputs": []
    },
    {
      "cell_type": "code",
      "metadata": {
        "id": "Fcpm7UZSevW6",
        "colab_type": "code",
        "colab": {}
      },
      "source": [
        "train.info()\n"
      ],
      "execution_count": 0,
      "outputs": []
    },
    {
      "cell_type": "code",
      "metadata": {
        "id": "2HOGfd5ifj5z",
        "colab_type": "code",
        "colab": {}
      },
      "source": [
        "train.isnull().sum()\n"
      ],
      "execution_count": 0,
      "outputs": []
    },
    {
      "cell_type": "code",
      "metadata": {
        "id": "qBEXx3XGfp_i",
        "colab_type": "code",
        "colab": {}
      },
      "source": [
        "train['num_orders'].describe()"
      ],
      "execution_count": 0,
      "outputs": []
    },
    {
      "cell_type": "code",
      "metadata": {
        "id": "VUnuTsSsgSIQ",
        "colab_type": "code",
        "colab": {}
      },
      "source": [
        "meal_info = pd.read_csv(\"/content/gdrive/My Drive/CellStrat/Hackathon/ML/Food_Demand_Forecasting/data/train_GzS76OK/meal_info.csv\")\n",
        "fulfilment_center = pd.read_csv(\"/content/gdrive/My Drive/CellStrat/Hackathon/ML/Food_Demand_Forecasting/data/train_GzS76OK/fulfilment_center_info.csv\")"
      ],
      "execution_count": 0,
      "outputs": []
    },
    {
      "cell_type": "code",
      "metadata": {
        "id": "4jMjKwlCmkHh",
        "colab_type": "code",
        "colab": {}
      },
      "source": [
        "fulfilment_center.head()"
      ],
      "execution_count": 0,
      "outputs": []
    },
    {
      "cell_type": "code",
      "metadata": {
        "id": "sWH2NWCJgdeC",
        "colab_type": "code",
        "colab": {}
      },
      "source": [
        "train = pd.merge(train,fulfilment_center, on='center_id')\n",
        "test = pd.merge(test,fulfilment_center, on='center_id')\n",
        "\n",
        "train = pd.merge(train,meal_info, on='meal_id')\n",
        "test = pd.merge(test,meal_info, on='meal_id')"
      ],
      "execution_count": 0,
      "outputs": []
    },
    {
      "cell_type": "code",
      "metadata": {
        "id": "Y3c6Fz3GrADJ",
        "colab_type": "code",
        "colab": {}
      },
      "source": [
        "pp.ProfileReport(train)"
      ],
      "execution_count": 0,
      "outputs": []
    },
    {
      "cell_type": "markdown",
      "metadata": {
        "id": "OcR8xXy5oY9h",
        "colab_type": "text"
      },
      "source": [
        "LabelEncoder is a utility class to help normalize labels such that they contain only values between 0 and n_classes-1."
      ]
    },
    {
      "cell_type": "markdown",
      "metadata": {
        "id": "y9hM5PoKo8HM",
        "colab_type": "text"
      },
      "source": [
        "Example\n",
        "\n",
        "An attribute having output classes mexico, paris, dubai. On Label Encoding this column, let mexico is replaced with 0 , paris is replaced with 1 and dubai is replaced with 2."
      ]
    },
    {
      "cell_type": "code",
      "metadata": {
        "id": "Tgy4lsFRndLa",
        "colab_type": "code",
        "colab": {}
      },
      "source": [
        "from sklearn.preprocessing import LabelEncoder\n"
      ],
      "execution_count": 0,
      "outputs": []
    },
    {
      "cell_type": "markdown",
      "metadata": {
        "id": "CrBoyup6pPWw",
        "colab_type": "text"
      },
      "source": [
        "## EXPLORATORY ANALYSIS"
      ]
    },
    {
      "cell_type": "code",
      "metadata": {
        "id": "gbCgIY1xpDEJ",
        "colab_type": "code",
        "colab": {}
      },
      "source": [
        "sns.lineplot(train['week'],train['num_orders'])\n"
      ],
      "execution_count": 0,
      "outputs": []
    },
    {
      "cell_type": "code",
      "metadata": {
        "id": "4jp5PRTxpRYx",
        "colab_type": "code",
        "colab": {}
      },
      "source": [
        "sns.barplot(train['center_id'],train['num_orders'])\n",
        "plt.xticks(rotation=90)"
      ],
      "execution_count": 0,
      "outputs": []
    },
    {
      "cell_type": "code",
      "metadata": {
        "id": "iMZpGBLnpTO6",
        "colab_type": "code",
        "colab": {}
      },
      "source": [
        "sns.lineplot(train['checkout_price'],train['num_orders'])"
      ],
      "execution_count": 0,
      "outputs": []
    },
    {
      "cell_type": "code",
      "metadata": {
        "id": "KBMVM4sfshlT",
        "colab_type": "code",
        "colab": {}
      },
      "source": [
        "sns.barplot(train['category'],train['num_orders'])\n",
        "plt.xticks(rotation = '90')"
      ],
      "execution_count": 0,
      "outputs": []
    },
    {
      "cell_type": "code",
      "metadata": {
        "id": "sv_1-n8Dspga",
        "colab_type": "code",
        "colab": {}
      },
      "source": [
        "sns.barplot(train['cuisine'],train['num_orders'])\n",
        "#plt.xticks(rotation = '90')"
      ],
      "execution_count": 0,
      "outputs": []
    },
    {
      "cell_type": "code",
      "metadata": {
        "id": "Oj2awtUcsxY_",
        "colab_type": "code",
        "colab": {}
      },
      "source": [
        "sns.barplot(train['region_code'],train['num_orders'])\n",
        "#plt.xticks(rotation = '90')"
      ],
      "execution_count": 0,
      "outputs": []
    },
    {
      "cell_type": "code",
      "metadata": {
        "id": "SsEIpjcws0OJ",
        "colab_type": "code",
        "colab": {}
      },
      "source": [
        "sns.barplot(train['op_area'],train['num_orders'])\n",
        "plt.xticks(rotation = '90')"
      ],
      "execution_count": 0,
      "outputs": []
    },
    {
      "cell_type": "code",
      "metadata": {
        "id": "ooE1J_Cds8WG",
        "colab_type": "code",
        "colab": {}
      },
      "source": [
        "sns.lineplot(train['city_code'],train['num_orders'])\n",
        "plt.xticks(rotation = '90')"
      ],
      "execution_count": 0,
      "outputs": []
    },
    {
      "cell_type": "code",
      "metadata": {
        "id": "EobyJVyCtCKc",
        "colab_type": "code",
        "colab": {}
      },
      "source": [
        "sns.boxplot(x='num_orders',data=train)"
      ],
      "execution_count": 0,
      "outputs": []
    },
    {
      "cell_type": "markdown",
      "metadata": {
        "id": "hl0tuCWUtOqH",
        "colab_type": "text"
      },
      "source": [
        "We need to removed outlier from num_orders"
      ]
    },
    {
      "cell_type": "code",
      "metadata": {
        "id": "-38KdVlQtIm7",
        "colab_type": "code",
        "colab": {}
      },
      "source": [
        "sns.boxplot(x='region_code',data=train)\n"
      ],
      "execution_count": 0,
      "outputs": []
    },
    {
      "cell_type": "code",
      "metadata": {
        "id": "iU3S14YatQB8",
        "colab_type": "code",
        "colab": {}
      },
      "source": [
        "sns.jointplot(x='checkout_price',y='num_orders',data=train)\n"
      ],
      "execution_count": 0,
      "outputs": []
    },
    {
      "cell_type": "markdown",
      "metadata": {
        "id": "cPxVWkTNtd8B",
        "colab_type": "text"
      },
      "source": [
        "We have removed outlier from check_out price and base price\n",
        "\n"
      ]
    },
    {
      "cell_type": "code",
      "metadata": {
        "id": "tZJirZpCtS_B",
        "colab_type": "code",
        "colab": {}
      },
      "source": [
        "sns.jointplot(x='op_area',y='num_orders',data=train)\n"
      ],
      "execution_count": 0,
      "outputs": []
    },
    {
      "cell_type": "code",
      "metadata": {
        "id": "Cd7ZiLuMtfdN",
        "colab_type": "code",
        "colab": {}
      },
      "source": [
        "sns.boxplot(x='category',y='num_orders',data=train)\n",
        "plt.xticks(rotation=90)"
      ],
      "execution_count": 0,
      "outputs": []
    },
    {
      "cell_type": "code",
      "metadata": {
        "id": "tJ1w-ODytoSg",
        "colab_type": "code",
        "colab": {}
      },
      "source": [
        "sns.boxplot(x='cuisine',y='num_orders',data=train)\n",
        "plt.xticks(rotation=90)"
      ],
      "execution_count": 0,
      "outputs": []
    },
    {
      "cell_type": "code",
      "metadata": {
        "id": "nTGw86Zatrxe",
        "colab_type": "code",
        "colab": {}
      },
      "source": [
        "sns.jointplot(x='center_id',y='num_orders',data=train)\n"
      ],
      "execution_count": 0,
      "outputs": []
    },
    {
      "cell_type": "code",
      "metadata": {
        "id": "I-EsjvmXtvJR",
        "colab_type": "code",
        "colab": {}
      },
      "source": [
        "print(\"Total number of centers : \",train['center_id'].nunique())\n"
      ],
      "execution_count": 0,
      "outputs": []
    },
    {
      "cell_type": "code",
      "metadata": {
        "id": "gDfvJXj6txWr",
        "colab_type": "code",
        "colab": {}
      },
      "source": [
        "print(\"Total Number of cities: \",train['city_code'].nunique())\n"
      ],
      "execution_count": 0,
      "outputs": []
    },
    {
      "cell_type": "markdown",
      "metadata": {
        "id": "UdyAHE34t5FX",
        "colab_type": "text"
      },
      "source": [
        "We have 77 stores in 51 cities, so some city have more than 1 center.\n",
        "\n"
      ]
    },
    {
      "cell_type": "code",
      "metadata": {
        "id": "jT7llpVetzyb",
        "colab_type": "code",
        "colab": {}
      },
      "source": [
        "fig, ax = plt.subplots(figsize=(5,8))\n",
        "sns.countplot(y = train['category'], hue = train['cuisine'], ax=ax)\n",
        "plt.show()"
      ],
      "execution_count": 0,
      "outputs": []
    },
    {
      "cell_type": "code",
      "metadata": {
        "id": "47TCW39Nt1nM",
        "colab_type": "code",
        "colab": {}
      },
      "source": [
        "center_meal_train = (train['center_id'].astype(str) + \"_\" + train['meal_id'].astype(str)).unique()\n",
        "print(\"There are\", len(center_meal_train),\"center-meal pairs in train data\")"
      ],
      "execution_count": 0,
      "outputs": []
    },
    {
      "cell_type": "code",
      "metadata": {
        "id": "IjBpCV9duMrv",
        "colab_type": "code",
        "colab": {}
      },
      "source": [
        "center_meal_test = (test['center_id'].astype(str) + \"_\" + test['meal_id'].astype(str)).unique()\n",
        "print(\"There are\", len(center_meal_test),\"center-meal pairs in train data\")"
      ],
      "execution_count": 0,
      "outputs": []
    },
    {
      "cell_type": "code",
      "metadata": {
        "id": "t-XTql2SuTjF",
        "colab_type": "code",
        "colab": {}
      },
      "source": [
        "# check if test set has any new center-mean pair or not\n",
        "print(\"There are\",len(set(center_meal_test) - set(center_meal_train)),\"New center-meal pairs in test dataset which are not present in train dataset\")\n",
        "print(set(center_meal_test) - set(center_meal_train))"
      ],
      "execution_count": 0,
      "outputs": []
    },
    {
      "cell_type": "code",
      "metadata": {
        "id": "bG1ZK9WEuV1a",
        "colab_type": "code",
        "colab": {}
      },
      "source": [
        "test[(test['center_id']==73) & (test['meal_id'].isin([2956, 1571]))].shape[0]\n"
      ],
      "execution_count": 0,
      "outputs": []
    },
    {
      "cell_type": "code",
      "metadata": {
        "id": "90E-lmdnucGP",
        "colab_type": "code",
        "colab": {}
      },
      "source": [
        "test[(test['center_id']==92) & (test['meal_id'].isin([2104]))].shape[0]\n"
      ],
      "execution_count": 0,
      "outputs": []
    },
    {
      "cell_type": "markdown",
      "metadata": {
        "id": "bwKJBq3sug50",
        "colab_type": "text"
      },
      "source": [
        "There should be 77*51 = 3927 center-meal pair, but we have 3597 pairs in train data, that means some centers did not sell some of the meals.\n",
        "\n",
        "There should be 3597*145 = 521565 records in past 145 week data, but we have 456548 records. which means some centers did not sell some meal for some week or they started selling some new type of meal after some weeks. Same with test data.\n",
        "\n",
        "Test set has only 3548 center-meal pair, that means some of the centers did not sell some type of meals in this 10 week.\n",
        "\n",
        "Here in the test set (future 10 week), center 73 started selling meal 2956 & 1571, center 92 started selling meal 2104, which they have never sold in last 145 weeks. There are only 13 records with unknown center-meal pair in test set."
      ]
    },
    {
      "cell_type": "markdown",
      "metadata": {
        "id": "RMaamn7ovlEz",
        "colab_type": "text"
      },
      "source": [
        "### Remove outlier\n"
      ]
    },
    {
      "cell_type": "code",
      "metadata": {
        "id": "ubxBqCT9uedB",
        "colab_type": "code",
        "colab": {}
      },
      "source": [
        "outlier_index = train[(train['num_orders']>15000)].index"
      ],
      "execution_count": 0,
      "outputs": []
    },
    {
      "cell_type": "code",
      "metadata": {
        "id": "e6WyQZmjvn6P",
        "colab_type": "code",
        "colab": {}
      },
      "source": [
        "train.drop(outlier_index,inplace = True)\n"
      ],
      "execution_count": 0,
      "outputs": []
    },
    {
      "cell_type": "markdown",
      "metadata": {
        "id": "AQGu1vLCvsOF",
        "colab_type": "text"
      },
      "source": [
        "### Feature Engineering"
      ]
    },
    {
      "cell_type": "code",
      "metadata": {
        "id": "eai4FEQlvpkX",
        "colab_type": "code",
        "colab": {}
      },
      "source": [
        "train['train_or_test'] = 'train'\n",
        "test['train_or_test'] = 'test'"
      ],
      "execution_count": 0,
      "outputs": []
    },
    {
      "cell_type": "code",
      "metadata": {
        "id": "PokXkXYRvuFp",
        "colab_type": "code",
        "colab": {}
      },
      "source": [
        "train['num_orders'] = np.log1p(train['num_orders'])\n"
      ],
      "execution_count": 0,
      "outputs": []
    },
    {
      "cell_type": "code",
      "metadata": {
        "id": "qR3bDuUNvwA9",
        "colab_type": "code",
        "colab": {}
      },
      "source": [
        "total_data = train.append(test).reset_index(drop=True)[train.columns]\n"
      ],
      "execution_count": 0,
      "outputs": []
    },
    {
      "cell_type": "code",
      "metadata": {
        "id": "DjFCNI8ovx9O",
        "colab_type": "code",
        "colab": {}
      },
      "source": [
        "total_data = total_data.sort_values(['center_id', 'meal_id', 'week']).reset_index(drop=True)\n"
      ],
      "execution_count": 0,
      "outputs": []
    },
    {
      "cell_type": "code",
      "metadata": {
        "id": "_a1lBwlUv0Gr",
        "colab_type": "code",
        "colab": {}
      },
      "source": [
        "total_data['checkout_price'] = np.log1p(total_data['checkout_price'])\n",
        "total_data['base_price'] = np.log1p(total_data['base_price'])"
      ],
      "execution_count": 0,
      "outputs": []
    },
    {
      "cell_type": "code",
      "metadata": {
        "id": "awbd2Tnkv30v",
        "colab_type": "code",
        "colab": {}
      },
      "source": [
        "total_data['discount_on_base'] = (total_data['base_price'] - total_data['checkout_price']) / total_data['base_price']"
      ],
      "execution_count": 0,
      "outputs": []
    },
    {
      "cell_type": "code",
      "metadata": {
        "id": "Q-gr8r7ov5ln",
        "colab_type": "code",
        "colab": {}
      },
      "source": [
        "total_data[\"discount_ratio\"] = total_data[\"base_price\"] / total_data[\"checkout_price\"]\n"
      ],
      "execution_count": 0,
      "outputs": []
    },
    {
      "cell_type": "code",
      "metadata": {
        "id": "gPo7Gov5v6x_",
        "colab_type": "code",
        "colab": {}
      },
      "source": [
        "sns.distplot(total_data['discount_on_base'], bins=500)\n",
        "plt.show()"
      ],
      "execution_count": 0,
      "outputs": []
    },
    {
      "cell_type": "code",
      "metadata": {
        "id": "2lVjvPtZv8de",
        "colab_type": "code",
        "colab": {}
      },
      "source": [
        "total_data['price_last_curr_diff'] = (total_data['checkout_price'].shift(1) - total_data['checkout_price']).fillna(1)/ total_data['checkout_price'].shift(1).fillna(1)\n"
      ],
      "execution_count": 0,
      "outputs": []
    },
    {
      "cell_type": "code",
      "metadata": {
        "id": "th-OVMw3v_Gj",
        "colab_type": "code",
        "colab": {}
      },
      "source": [
        "for _, r in total_data.groupby(['center_id', 'meal_id'])['week'].first().reset_index().iterrows():\n",
        "  total_data.loc[(total_data['center_id']==r['center_id']) & (total_data['meal_id']==r['meal_id']) & (total_data['week']==r['week']), 'price_last_curr_diff'] = total_data[(total_data['center_id']==r['center_id']) & (total_data['meal_id']==r['meal_id']) & (total_data['week']!=r['week'])]['price_last_curr_diff'].mean()\n",
        "                 "
      ],
      "execution_count": 0,
      "outputs": []
    },
    {
      "cell_type": "code",
      "metadata": {
        "id": "tEXA5COSwBKt",
        "colab_type": "code",
        "colab": {}
      },
      "source": [
        "total_data['price_last_curr_diff'] = total_data['price_last_curr_diff'].fillna(0)"
      ],
      "execution_count": 0,
      "outputs": []
    },
    {
      "cell_type": "markdown",
      "metadata": {
        "id": "WkigFSkuwx2C",
        "colab_type": "text"
      },
      "source": [
        "Some functions to create aggregated, rolling mean/median, and exponentially weighted features."
      ]
    },
    {
      "cell_type": "markdown",
      "metadata": {
        "id": "px979wJSxAtJ",
        "colab_type": "text"
      },
      "source": [
        "Code from : https://www.kaggle.com/abhilashawasthi/feature-engineering-lgb-model"
      ]
    },
    {
      "cell_type": "code",
      "metadata": {
        "id": "Z--Vkye4womB",
        "colab_type": "code",
        "colab": {}
      },
      "source": [
        "# Features constructed from previous sales values\n",
        "\n",
        "#Creating sales lag features\n",
        "def create_sales_lag_feats(df, gpby_cols, target_col, lags):\n",
        "    gpby = df.groupby(gpby_cols)\n",
        "    for i in lags:\n",
        "        df['_'.join([target_col, 'lag', str(i)])] = \\\n",
        "                gpby[target_col].shift(i).values + np.random.normal(scale=1.6, size=(len(df),))\n",
        "    return df\n",
        "\n",
        "# Creating sales exponentially weighted mean features\n",
        "def create_sales_ewm_feats(df, gpby_cols, target_col, alpha=[0.9], shift=[1]):\n",
        "    gpby = df.groupby(gpby_cols)\n",
        "    for a in alpha:\n",
        "        for s in shift:\n",
        "            df['_'.join([target_col, 'lag', str(s), 'ewm', str(a)])] = \\\n",
        "                gpby[target_col].shift(s).ewm(alpha=a).mean().values\n",
        "    return df"
      ],
      "execution_count": 0,
      "outputs": []
    },
    {
      "cell_type": "code",
      "metadata": {
        "id": "_HhtdCv0xCgv",
        "colab_type": "code",
        "colab": {}
      },
      "source": [
        "# Creating num_orders lag, rolling mean, rolling median, ohe features of the above train set\n",
        "total_data = create_sales_lag_feats(total_data, gpby_cols=['center_id','meal_id'], target_col='num_orders', \n",
        "                               lags=[10,11, 12])\n",
        "\n",
        "total_data = create_sales_ewm_feats(total_data, gpby_cols=['center_id','meal_id'], \n",
        "                               target_col='num_orders', \n",
        "                               alpha=[0.5], \n",
        "                               shift=[10,11,12,13,14,15])"
      ],
      "execution_count": 0,
      "outputs": []
    },
    {
      "cell_type": "code",
      "metadata": {
        "id": "5vvZm1drxFLs",
        "colab_type": "code",
        "colab": {}
      },
      "source": [
        "total_data.head()"
      ],
      "execution_count": 0,
      "outputs": []
    },
    {
      "cell_type": "code",
      "metadata": {
        "id": "B94gFT3-xHHq",
        "colab_type": "code",
        "colab": {}
      },
      "source": [
        "### Center count features ###\n",
        "gdf = total_data.groupby([\"center_id\", \"week\"])[\"id\"].agg(['size']).reset_index()\n",
        "gdf.columns = [\"center_id\", \"week\", \"center_week_count\"]\n",
        "total_data = pd.merge(total_data,gdf, on=[\"center_id\", \"week\"], how=\"left\")\n",
        "\n",
        "gdf = total_data.groupby([\"center_id\", \"category\"])[\"id\"].count().reset_index()\n",
        "gdf.columns = [\"center_id\", \"category\", \"center_cat_count\"]\n",
        "total_data = pd.merge(total_data,gdf, on=[\"center_id\", \"category\"], how=\"left\")\n",
        "\n",
        "gdf = total_data.groupby([\"center_id\", \"category\", \"week\"])[\"id\"].count().reset_index()\n",
        "gdf.columns = [\"center_id\", \"category\", \"week\", \"center_cat_week_count\"]\n",
        "total_data = pd.merge(total_data,gdf, on=[\"center_id\", \"category\", \"week\"], how=\"left\")\n",
        "\n",
        "gdf = total_data.groupby([\"center_id\", \"cuisine\"])[\"id\"].count().reset_index()\n",
        "gdf.columns = [\"center_id\", \"cuisine\", \"center_cui_count\"]\n",
        "total_data = pd.merge(total_data,gdf, on=[\"center_id\", \"cuisine\"], how=\"left\")"
      ],
      "execution_count": 0,
      "outputs": []
    },
    {
      "cell_type": "code",
      "metadata": {
        "id": "1TvyTyOhxKAT",
        "colab_type": "code",
        "colab": {}
      },
      "source": [
        "### Meal count features ###\n",
        "gdf = total_data.groupby([\"meal_id\"])[\"id\"].count().reset_index()\n",
        "gdf.columns = [\"meal_id\", \"meal_count\"]\n",
        "total_data = pd.merge(total_data,gdf, on=[\"meal_id\"], how=\"left\")\n",
        "\n",
        "gdf = total_data.groupby([\"region_code\", \"meal_id\"])[\"id\"].count().reset_index()\n",
        "gdf.columns = [\"region_code\", \"meal_id\", \"region_meal_count\"]\n",
        "total_data= pd.merge(total_data,gdf, on=[\"region_code\", \"meal_id\"], how=\"left\")\n",
        "\n",
        "gdf = total_data.groupby([\"meal_id\", \"week\"])[\"id\"].count().reset_index()\n",
        "gdf.columns = [\"meal_id\", \"week\", \"meal_week_count\"]\n",
        "total_data = pd.merge(total_data,gdf, on=[\"meal_id\", \"week\"], how=\"left\")\n",
        "\n",
        "gdf =total_data.groupby([\"center_type\", \"meal_id\", \"week\"])[\"id\"].count().reset_index()\n",
        "gdf.columns = [\"center_type\", \"meal_id\", \"week\", \"type_meal_week_count\"]\n",
        "total_data = pd.merge(total_data,gdf, on=[\"center_type\", \"meal_id\", \"week\"], how=\"left\")\n",
        "\n",
        "gdf = total_data.groupby([\"region_code\", \"meal_id\", \"week\"])[\"id\"].count().reset_index()\n",
        "gdf.columns = [\"region_code\", \"meal_id\", \"week\", \"region_meal_week_count\"]\n",
        "total_data = pd.merge(total_data,gdf, on=[\"region_code\", \"meal_id\", \"week\"], how=\"left\")\n",
        "\n",
        "gdf =total_data.groupby([\"city_code\", \"meal_id\", \"week\"])[\"id\"].count().reset_index()\n",
        "gdf.columns = [\"city_code\", \"meal_id\", \"week\", \"city_meal_week_count\"]\n",
        "total_data = pd.merge(total_data,gdf, on=[\"city_code\", \"meal_id\", \"week\"], how=\"left\")"
      ],
      "execution_count": 0,
      "outputs": []
    },
    {
      "cell_type": "code",
      "metadata": {
        "id": "Ab9MlonRxQd2",
        "colab_type": "code",
        "colab": {}
      },
      "source": [
        "### Price rank ###\n",
        "total_data[\"meal_price_rank\"] = total_data.groupby(\"meal_id\")[\"checkout_price\"].rank()\n",
        "total_data[\"meal_city_price_rank\"] =total_data.groupby([\"meal_id\", \"city_code\"])[\"checkout_price\"].rank()\n",
        "total_data[\"meal_region_price_rank\"] = total_data.groupby([\"meal_id\", \"region_code\"])[\"checkout_price\"].rank()\n",
        "total_data[\"meal_week_price_rank\"] = total_data.groupby([\"meal_id\", \"week\"])[\"checkout_price\"].rank()\n",
        "\n",
        "total_data[\"center_price_rank\"] = total_data.groupby(\"center_id\")[\"checkout_price\"].rank()\n",
        "total_data[\"center_week_price_rank\"] = total_data.groupby([\"center_id\", \"week\"])[\"checkout_price\"].rank()\n",
        "total_data[\"center_cat_price_rank\"] = total_data.groupby([\"center_id\", \"category\"])[\"checkout_price\"].rank()"
      ],
      "execution_count": 0,
      "outputs": []
    },
    {
      "cell_type": "code",
      "metadata": {
        "id": "TJRDV33gxVyP",
        "colab_type": "code",
        "colab": {}
      },
      "source": [
        "### Week features ###\n",
        "gdf = total_data.groupby([\"meal_id\"])[\"checkout_price\"].agg([\"min\", \"max\", \"mean\", \"std\"]).reset_index()\n",
        "gdf.columns = [\"meal_id\", \"meal_price_min\", \"meal_price_max\", \"meal_price_mean\", \"meal_price_std\"]\n",
        "total_data = pd.merge(total_data,gdf, on=[\"meal_id\"], how=\"left\")\n",
        "\n",
        "gdf = total_data.groupby([\"meal_id\"])[\"base_price\"].agg([\"min\", \"max\", \"mean\", \"std\"]).reset_index()\n",
        "gdf.columns = [\"meal_id\", \"disc_price_min\", \"disc_price_max\", \"disc_price_mean\", \"disc_price_std\"]\n",
        "total_data = pd.merge(total_data,gdf, on=[\"meal_id\"], how=\"left\")\n",
        "\n",
        "gdf = total_data.groupby([\"city_code\",\"meal_id\", \"week\"])[\"checkout_price\"].agg([\"min\", \"max\", \"mean\", \"std\"]).reset_index()\n",
        "gdf.columns = [\"city_code\", \"meal_id\", \"week\", \"meal_price2_min\", \"meal_price2_max\", \"meal_price2_mean\", \"meal_price2_std\"]\n",
        "total_data= pd.merge(total_data,gdf, on=[\"city_code\", \"meal_id\", \"week\"], how=\"left\")\n",
        "\n",
        "gdf = total_data.groupby([\"city_code\", \"category\"])[\"checkout_price\"].agg([\"mean\", \"std\"]).reset_index()\n",
        "gdf.columns = [\"city_code\", \"category\", \"meal_price3_mean\", \"meal_price3_std\"]\n",
        "total_datal = pd.merge(total_data,gdf, on=[\"city_code\", \"category\"], how=\"left\")"
      ],
      "execution_count": 0,
      "outputs": []
    },
    {
      "cell_type": "code",
      "metadata": {
        "id": "f48iCtflxYNl",
        "colab_type": "code",
        "colab": {}
      },
      "source": [
        "total_data['center_id'] = total_data['center_id'].astype(np.object)\n",
        "total_data['meal_id'] = total_data['meal_id'].astype(np.object)\n",
        "total_data['region_code'] = total_data['region_code'].astype(np.object)\n",
        "total_datal['city_code'] = total_data['city_code'].astype(np.object)"
      ],
      "execution_count": 0,
      "outputs": []
    },
    {
      "cell_type": "code",
      "metadata": {
        "id": "NuoItZ1xxbFc",
        "colab_type": "code",
        "colab": {}
      },
      "source": [
        "train_data = total_data.loc[total_data['train_or_test']=='train', :]\n",
        "test_data = total_data.loc[total_data['train_or_test']=='test', :]"
      ],
      "execution_count": 0,
      "outputs": []
    },
    {
      "cell_type": "code",
      "metadata": {
        "id": "pkf7cGGqxc1d",
        "colab_type": "code",
        "colab": {}
      },
      "source": [
        "center_meal_mean = train_data.groupby(['center_id','meal_id'])['num_orders'].mean()\n",
        "center_meal_mean = center_meal_mean.reset_index()\n",
        "center_meal_mean = center_meal_mean.rename(columns={'num_orders':'avg_orders'})\n",
        "train_data = pd.merge(train_data,center_meal_mean, how='left', left_on=['center_id','meal_id'], right_on = ['center_id','meal_id'])\n",
        "test_data = pd.merge(test_data,center_meal_mean, how='left', left_on=['center_id','meal_id'], right_on = ['center_id','meal_id'])\n",
        "center_mean = train_data.groupby('center_id')['num_orders'].mean()\n",
        "center_mean = center_mean.reset_index()\n",
        "center_mean = center_mean.rename(columns={'num_orders':'avg_center'})\n",
        "train_data = pd.merge(train_data,center_mean, how='left', left_on=['center_id'], right_on = ['center_id'])\n",
        "test_data = pd.merge(test_data,center_mean, how='left', left_on=['center_id'], right_on = ['center_id'])\n",
        "meal_mean = train_data.groupby('meal_id')['num_orders'].mean()\n",
        "meal_mean = meal_mean.reset_index()\n",
        "meal_mean = meal_mean.rename(columns={'num_orders':'avg_meal'})\n",
        "train_data = pd.merge(train_data, meal_mean,how='left',left_on=['meal_id'], right_on = ['meal_id'])\n",
        "test_data = pd.merge(test_data, meal_mean,how='left',left_on=['meal_id'], right_on = ['meal_id'])"
      ],
      "execution_count": 0,
      "outputs": []
    },
    {
      "cell_type": "code",
      "metadata": {
        "id": "-BRQOazuxe3i",
        "colab_type": "code",
        "colab": {}
      },
      "source": [
        "train_data.info()\n"
      ],
      "execution_count": 0,
      "outputs": []
    },
    {
      "cell_type": "markdown",
      "metadata": {
        "id": "cF8mJMU_xoTF",
        "colab_type": "text"
      },
      "source": [
        "### Catboost Model"
      ]
    },
    {
      "cell_type": "code",
      "metadata": {
        "id": "-CS_5m43xhlL",
        "colab_type": "code",
        "colab": {}
      },
      "source": [
        "avoid_column = ['id', 'num_orders', 'train_or_test']\n"
      ],
      "execution_count": 0,
      "outputs": []
    },
    {
      "cell_type": "code",
      "metadata": {
        "id": "0roR0Gglxp_R",
        "colab_type": "code",
        "colab": {}
      },
      "source": [
        "features = [col for col in test_data.columns if col not in avoid_column]\n"
      ],
      "execution_count": 0,
      "outputs": []
    },
    {
      "cell_type": "code",
      "metadata": {
        "id": "y-QoiYaUxrGc",
        "colab_type": "code",
        "colab": {}
      },
      "source": [
        "features"
      ],
      "execution_count": 0,
      "outputs": []
    },
    {
      "cell_type": "code",
      "metadata": {
        "id": "3Zpf6aDQxtKS",
        "colab_type": "code",
        "colab": {}
      },
      "source": [
        "categorical_features_indices = np.where(train_data[features].dtypes =='object')[0]\n",
        "categorical_features_indices"
      ],
      "execution_count": 0,
      "outputs": []
    },
    {
      "cell_type": "code",
      "metadata": {
        "id": "EGpTAz2xxxMA",
        "colab_type": "code",
        "colab": {}
      },
      "source": [
        "model = CatBoostRegressor(\n",
        "    iterations=2000, \n",
        "    learning_rate=0.02, \n",
        "    max_depth=8, \n",
        "    l2_leaf_reg=10, \n",
        "    loss_function='RMSE',\n",
        "    random_seed=2019,\n",
        "    od_type='Iter',\n",
        "    od_wait=25,\n",
        "    verbose=100,\n",
        "    use_best_model=True\n",
        "    )"
      ],
      "execution_count": 0,
      "outputs": []
    },
    {
      "cell_type": "code",
      "metadata": {
        "id": "_nEd4B5CxzWT",
        "colab_type": "code",
        "colab": {}
      },
      "source": [
        "errcb=[]\n",
        "y_pred_test=[]\n",
        "\n",
        "fold = KFold(n_splits=5,shuffle=True,random_state=2019)\n",
        "\n",
        "for train_index, test_index in fold.split(train_data[features],train_data['num_orders']):\n",
        "    X_train, X_valid =train_data[features].iloc[train_index], train_data[features].iloc[test_index]\n",
        "    y_train, y_valid = train_data['num_orders'][train_index],train_data['num_orders'][test_index]\n",
        "    model.fit(X_train,y_train,\n",
        "              cat_features = categorical_features_indices,\n",
        "              eval_set=(X_valid,y_valid),\n",
        "              early_stopping_rounds=300,\n",
        "              verbose=100)\n",
        "    preds = model.predict(X_valid)\n",
        "    print(\"err: \",np.sqrt(mean_squared_error(y_valid,preds)))\n",
        "    errcb.append(np.sqrt(mean_squared_error(y_valid,preds)))\n",
        "    p = model.predict(test_data[features])\n",
        "    y_pred_test.append(p)"
      ],
      "execution_count": 0,
      "outputs": []
    },
    {
      "cell_type": "code",
      "metadata": {
        "id": "CiIyO9GCyY_y",
        "colab_type": "code",
        "colab": {}
      },
      "source": [
        "model.fit(X=train_data[features], y=train_data['num_orders'], cat_features=categorical_features_indices, verbose=100)"
      ],
      "execution_count": 0,
      "outputs": []
    },
    {
      "cell_type": "code",
      "metadata": {
        "id": "kh6D7wYcyrKi",
        "colab_type": "code",
        "colab": {}
      },
      "source": [
        "pred = model.predict(test_data[features])"
      ],
      "execution_count": 0,
      "outputs": []
    },
    {
      "cell_type": "code",
      "metadata": {
        "id": "0pe94w2eyr9j",
        "colab_type": "code",
        "colab": {}
      },
      "source": [
        "pred = (np.exp(pred) - 1)"
      ],
      "execution_count": 0,
      "outputs": []
    },
    {
      "cell_type": "code",
      "metadata": {
        "id": "QuzSHrHNyuFh",
        "colab_type": "code",
        "colab": {}
      },
      "source": [
        "submission = pd.DataFrame({'id':test['id'],'num_orders':pred})\n",
        "submission = submission[['id','num_orders']]\n",
        "submission.head()"
      ],
      "execution_count": 0,
      "outputs": []
    },
    {
      "cell_type": "code",
      "metadata": {
        "id": "ROxBnkaNyv4b",
        "colab_type": "code",
        "colab": {}
      },
      "source": [
        "submission.to_csv('catboost_1.csv', index=False)\n"
      ],
      "execution_count": 0,
      "outputs": []
    },
    {
      "cell_type": "code",
      "metadata": {
        "id": "pUX_OI0jyyD0",
        "colab_type": "code",
        "colab": {}
      },
      "source": [
        "feature_score = pd.DataFrame(list(zip(train_data[features].dtypes.index, model.get_feature_importance(Pool(train_data[features], label=train_data['num_orders'], cat_features=categorical_features_indices)))),\n",
        "                columns=['Feature','Score'])\n",
        "\n",
        "feature_score = feature_score.sort_values(by='Score', ascending=False, inplace=False, kind='quicksort', na_position='last')"
      ],
      "execution_count": 0,
      "outputs": []
    },
    {
      "cell_type": "markdown",
      "metadata": {
        "id": "sQwGftqRy0Ge",
        "colab_type": "text"
      },
      "source": [
        "Dataset is provided, but PredictionValuesChange feature importance don't use it, since non-empty LeafWeights in model."
      ]
    },
    {
      "cell_type": "code",
      "metadata": {
        "id": "4ORMcRnmy1q8",
        "colab_type": "code",
        "colab": {}
      },
      "source": [
        "plt.rcParams[\"figure.figsize\"] = (24,7)\n",
        "ax = feature_score.plot('Feature', 'Score', kind='bar', color='c')\n",
        "ax.set_title(\"Catboost Feature Importance Ranking\", fontsize = 14)\n",
        "ax.set_xlabel('')\n",
        "\n",
        "rects = ax.patches\n",
        "\n",
        "labels = feature_score['Score'].round(2)\n",
        "\n",
        "for rect, label in zip(rects, labels):\n",
        "    height = rect.get_height()\n",
        "    ax.text(rect.get_x() + rect.get_width()/2, height + 0.35, label, ha='center', va='bottom')\n",
        "\n",
        "plt.show()"
      ],
      "execution_count": 0,
      "outputs": []
    }
  ]
}