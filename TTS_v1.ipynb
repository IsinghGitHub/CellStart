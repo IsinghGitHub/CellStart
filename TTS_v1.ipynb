{
  "nbformat": 4,
  "nbformat_minor": 0,
  "metadata": {
    "colab": {
      "name": "TTS.ipynb",
      "provenance": [],
      "private_outputs": true,
      "collapsed_sections": [],
      "include_colab_link": true
    },
    "kernelspec": {
      "name": "python3",
      "display_name": "Python 3"
    }
  },
  "cells": [
    {
      "cell_type": "markdown",
      "metadata": {
        "id": "view-in-github",
        "colab_type": "text"
      },
      "source": [
        "<a href=\"https://colab.research.google.com/github/IsinghGitHub/CellStrat/blob/master/TTS_v1.ipynb\" target=\"_parent\"><img src=\"https://colab.research.google.com/assets/colab-badge.svg\" alt=\"Open In Colab\"/></a>"
      ]
    },
    {
      "cell_type": "code",
      "metadata": {
        "id": "L0sB_fSOmYr2",
        "colab_type": "code",
        "colab": {}
      },
      "source": [
        "from google.colab import drive\n",
        "drive.mount('/content/gdrive')"
      ],
      "execution_count": 0,
      "outputs": []
    },
    {
      "cell_type": "code",
      "metadata": {
        "id": "Gp0RbtzlmkJi",
        "colab_type": "code",
        "colab": {}
      },
      "source": [
        "!tar -xvf '/content/gdrive/My Drive/CellStrat/TTS/LJSpeech-1.1.tar'"
      ],
      "execution_count": 0,
      "outputs": []
    },
    {
      "cell_type": "code",
      "metadata": {
        "id": "AvGzgMNKzhEv",
        "colab_type": "code",
        "colab": {}
      },
      "source": [
        "!pip install -r '/content/gdrive/My Drive/CellStrat/TTS/tacotron-master/requirements.txt'"
      ],
      "execution_count": 0,
      "outputs": []
    },
    {
      "cell_type": "code",
      "metadata": {
        "id": "MUAmlod-hG6V",
        "colab_type": "code",
        "colab": {}
      },
      "source": [
        "!curl http://data.keithito.com/data/speech/tacotron-20180906.tar.gz | tar xzC /tmp"
      ],
      "execution_count": 0,
      "outputs": []
    },
    {
      "cell_type": "code",
      "metadata": {
        "id": "g6KhQ9GGi9py",
        "colab_type": "code",
        "colab": {}
      },
      "source": [
        "!python3 '/content/gdrive/My Drive/CellStrat/TTS/tacotron-master/demo_server.py' --checkpoint /tmp/tacotron-20180906/model.ckpt"
      ],
      "execution_count": 0,
      "outputs": []
    },
    {
      "cell_type": "code",
      "metadata": {
        "id": "BVAY0LVylqFP",
        "colab_type": "code",
        "colab": {}
      },
      "source": [
        "!python3 '/content/gdrive/My Drive/CellStrat/TTS/tacotron-master/preprocess.py' --dataset ljspeech"
      ],
      "execution_count": 0,
      "outputs": []
    },
    {
      "cell_type": "code",
      "metadata": {
        "id": "x8U2IWpYjE7O",
        "colab_type": "code",
        "colab": {}
      },
      "source": [
        "!python3 '/content/gdrive/My Drive/CellStrat/TTS/tacotron-master/train.py' --hparams=\"batch_size=16,outputs_per_step=2\""
      ],
      "execution_count": 0,
      "outputs": []
    },
    {
      "cell_type": "code",
      "metadata": {
        "id": "M2ecHCi24LOv",
        "colab_type": "code",
        "colab": {}
      },
      "source": [
        "!tensorboard --logdir ~/tacotron/logs-tacotron"
      ],
      "execution_count": 0,
      "outputs": []
    },
    {
      "cell_type": "code",
      "metadata": {
        "id": "QIrihCtI0KoI",
        "colab_type": "code",
        "colab": {}
      },
      "source": [
        "!cd ~/tacotron/logs-tacotron/\n",
        "!ls"
      ],
      "execution_count": 0,
      "outputs": []
    },
    {
      "cell_type": "code",
      "metadata": {
        "id": "e4mn9dRt0N0P",
        "colab_type": "code",
        "colab": {}
      },
      "source": [
        "!ls"
      ],
      "execution_count": 0,
      "outputs": []
    },
    {
      "cell_type": "code",
      "metadata": {
        "id": "x2CWCweSy2qJ",
        "colab_type": "code",
        "colab": {}
      },
      "source": [
        "!python3 '/content/gdrive/My Drive/CellStrat/TTS/tacotron-master/demo_server.py' --checkpoint '/tmp/tacotron-20180906/model.ckpt.data-00000-of-00001'"
      ],
      "execution_count": 0,
      "outputs": []
    },
    {
      "cell_type": "code",
      "metadata": {
        "id": "26x4iD7zy8hm",
        "colab_type": "code",
        "colab": {}
      },
      "source": [
        "!python3 '/content/gdrive/My Drive/CellStrat/TTS/tacotron-master/eval.py' --checkpoint '/tmp/tacotron-20180906/model.ckpt.data-00000-of-00001'"
      ],
      "execution_count": 0,
      "outputs": []
    },
    {
      "cell_type": "code",
      "metadata": {
        "id": "nrbnTGM_1TMl",
        "colab_type": "code",
        "colab": {}
      },
      "source": [
        ""
      ],
      "execution_count": 0,
      "outputs": []
    }
  ]
}