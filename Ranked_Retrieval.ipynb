{
  "nbformat": 4,
  "nbformat_minor": 0,
  "metadata": {
    "colab": {
      "name": "Ranked Retrieval",
      "version": "0.3.2",
      "provenance": [],
      "collapsed_sections": [],
      "toc_visible": true,
      "include_colab_link": true
    },
    "kernelspec": {
      "name": "python3",
      "display_name": "Python 3"
    }
  },
  "cells": [
    {
      "cell_type": "markdown",
      "metadata": {
        "id": "view-in-github",
        "colab_type": "text"
      },
      "source": [
        "<a href=\"https://colab.research.google.com/github/IsinghGitHub/CellStrat/blob/master/Ranked_Retrieval.ipynb\" target=\"_parent\"><img src=\"https://colab.research.google.com/assets/colab-badge.svg\" alt=\"Open In Colab\"/></a>"
      ]
    },
    {
      "cell_type": "markdown",
      "metadata": {
        "id": "ozf7vADFMjWw",
        "colab_type": "text"
      },
      "source": [
        "### Jaccard Coefficient in Python is:\n"
      ]
    },
    {
      "cell_type": "code",
      "metadata": {
        "id": "7_n4kHMwM5Z7",
        "colab_type": "code",
        "colab": {}
      },
      "source": [
        "Query= 'ides of march'\n",
        "Document1= 'Caesar died in march'\n",
        "Document2= 'the long march'\n"
      ],
      "execution_count": 0,
      "outputs": []
    },
    {
      "cell_type": "code",
      "metadata": {
        "id": "p0mMIq_ZMobK",
        "colab_type": "code",
        "colab": {}
      },
      "source": [
        "def get_jaccard_coefficient(str1, str2): \n",
        "    a = set(str1.split()) \n",
        "    b = set(str2.split())\n",
        "    c = a.intersection(b)\n",
        "    return float(len(c)) / (len(a) + len(b) - len(c))"
      ],
      "execution_count": 0,
      "outputs": []
    },
    {
      "cell_type": "code",
      "metadata": {
        "id": "cPwz6myGNXLZ",
        "colab_type": "code",
        "outputId": "4a19c9de-f0ea-43fb-d187-b28d4467d23f",
        "colab": {
          "base_uri": "https://localhost:8080/",
          "height": 35
        }
      },
      "source": [
        "print(get_jaccard_coefficient(Query, Document1))"
      ],
      "execution_count": 0,
      "outputs": [
        {
          "output_type": "stream",
          "text": [
            "0.16666666666666666\n"
          ],
          "name": "stdout"
        }
      ]
    },
    {
      "cell_type": "markdown",
      "metadata": {
        "id": "zFKyZRFjLgVz",
        "colab_type": "text"
      },
      "source": [
        "## Term Frequency"
      ]
    },
    {
      "cell_type": "markdown",
      "metadata": {
        "id": "DJHalEk_O62V",
        "colab_type": "text"
      },
      "source": [
        "## To better explain this, let us consider an example. \n",
        "\n",
        "title = “car insurance auto insurance”\n",
        "\n",
        "body = “best car insurance”\n",
        "\n",
        "\n",
        "\n",
        "\n",
        "### What is the TF of word insurance in title? 1/4?\n",
        "\n",
        "\n",
        "\n",
        "TF-IDF(document) = TF-IDF(title) * alpha + TF-IDF(body) * (1-alpha)"
      ]
    },
    {
      "cell_type": "code",
      "metadata": {
        "id": "8NbC1HTjeeYe",
        "colab_type": "code",
        "colab": {}
      },
      "source": [
        "import nltk\n",
        "from nltk.probability import FreqDist\n",
        "from nltk.corpus import stopwords\n",
        "from nltk.tokenize import word_tokenize, sent_tokenize\n",
        "import math\n",
        "import numpy as np"
      ],
      "execution_count": 0,
      "outputs": []
    },
    {
      "cell_type": "code",
      "metadata": {
        "id": "GmhEuT3VsjZG",
        "colab_type": "code",
        "colab": {}
      },
      "source": [
        "corpus = \"\"\"\n",
        "car insurance auto insurance\n",
        "best car insurance\n",
        "\"\"\".split(\"\\n\")[1:-1]"
      ],
      "execution_count": 0,
      "outputs": []
    },
    {
      "cell_type": "code",
      "metadata": {
        "id": "-drTn99Xsj-s",
        "colab_type": "code",
        "outputId": "77058505-0d8d-4e76-ae05-82d325ffda8a",
        "colab": {
          "base_uri": "https://localhost:8080/",
          "height": 52
        }
      },
      "source": [
        "#2\n",
        "l_A = corpus[0].lower().split()\n",
        "l_B = corpus[1].lower().split()\n",
        "#l_C = corpus[2].lower().split()\n",
        "\n",
        "print(l_A)\n",
        "print(l_B)\n",
        "#print(l_C)"
      ],
      "execution_count": 0,
      "outputs": [
        {
          "output_type": "stream",
          "text": [
            "['car', 'insurance', 'auto', 'insurance']\n",
            "['best', 'car', 'insurance']\n"
          ],
          "name": "stdout"
        }
      ]
    },
    {
      "cell_type": "code",
      "metadata": {
        "id": "8lUiCjWOt--v",
        "colab_type": "code",
        "outputId": "e7654169-dedd-48b9-de4a-c680c36a7de3",
        "colab": {
          "base_uri": "https://localhost:8080/",
          "height": 35
        }
      },
      "source": [
        "#3\n",
        "word_set = set(l_A).union(set(l_B))#.union(set(l_C))\n",
        "print(word_set)"
      ],
      "execution_count": 0,
      "outputs": [
        {
          "output_type": "stream",
          "text": [
            "{'auto', 'insurance', 'best', 'car'}\n"
          ],
          "name": "stdout"
        }
      ]
    },
    {
      "cell_type": "code",
      "metadata": {
        "id": "vZN2C77yuFoa",
        "colab_type": "code",
        "outputId": "a881f713-690d-4251-b96e-6f950371b714",
        "colab": {
          "base_uri": "https://localhost:8080/",
          "height": 110
        }
      },
      "source": [
        "word_dict_A = dict.fromkeys(word_set, 0)\n",
        "word_dict_B = dict.fromkeys(word_set, 0)\n",
        "#word_dict_C = dict.fromkeys(word_set, 0)\n",
        "\n",
        "for word in l_A:\n",
        "    word_dict_A[word] += 1\n",
        "\n",
        "for word in l_B:\n",
        "    word_dict_B[word] += 1\n",
        "\n",
        "#for word in l_C:\n",
        "    #word_dict_C[word] += 1\n",
        "\n",
        "pd.DataFrame([word_dict_A, word_dict_B]) #word_dict_C])"
      ],
      "execution_count": 0,
      "outputs": [
        {
          "output_type": "execute_result",
          "data": {
            "text/html": [
              "<div>\n",
              "<style scoped>\n",
              "    .dataframe tbody tr th:only-of-type {\n",
              "        vertical-align: middle;\n",
              "    }\n",
              "\n",
              "    .dataframe tbody tr th {\n",
              "        vertical-align: top;\n",
              "    }\n",
              "\n",
              "    .dataframe thead th {\n",
              "        text-align: right;\n",
              "    }\n",
              "</style>\n",
              "<table border=\"1\" class=\"dataframe\">\n",
              "  <thead>\n",
              "    <tr style=\"text-align: right;\">\n",
              "      <th></th>\n",
              "      <th>auto</th>\n",
              "      <th>best</th>\n",
              "      <th>car</th>\n",
              "      <th>insurance</th>\n",
              "    </tr>\n",
              "  </thead>\n",
              "  <tbody>\n",
              "    <tr>\n",
              "      <th>0</th>\n",
              "      <td>1</td>\n",
              "      <td>0</td>\n",
              "      <td>1</td>\n",
              "      <td>2</td>\n",
              "    </tr>\n",
              "    <tr>\n",
              "      <th>1</th>\n",
              "      <td>0</td>\n",
              "      <td>1</td>\n",
              "      <td>1</td>\n",
              "      <td>1</td>\n",
              "    </tr>\n",
              "  </tbody>\n",
              "</table>\n",
              "</div>"
            ],
            "text/plain": [
              "   auto  best  car  insurance\n",
              "0     1     0    1          2\n",
              "1     0     1    1          1"
            ]
          },
          "metadata": {
            "tags": []
          },
          "execution_count": 165
        }
      ]
    },
    {
      "cell_type": "code",
      "metadata": {
        "id": "9-mhyXsTvbUN",
        "colab_type": "code",
        "colab": {}
      },
      "source": [
        "df_T = pd.DataFrame([word_dict_A, word_dict_B]) #word_dict_C])"
      ],
      "execution_count": 0,
      "outputs": []
    },
    {
      "cell_type": "code",
      "metadata": {
        "id": "XETW2qupvoSQ",
        "colab_type": "code",
        "outputId": "be9ac780-f739-4936-a8e2-47758cedbc2f",
        "colab": {
          "base_uri": "https://localhost:8080/",
          "height": 104
        }
      },
      "source": [
        "print(df_T.T)"
      ],
      "execution_count": 0,
      "outputs": [
        {
          "output_type": "stream",
          "text": [
            "           0  1\n",
            "auto       1  0\n",
            "best       0  1\n",
            "car        1  1\n",
            "insurance  2  1\n"
          ],
          "name": "stdout"
        }
      ]
    },
    {
      "cell_type": "markdown",
      "metadata": {
        "id": "Ga4qW8g9wEJY",
        "colab_type": "text"
      },
      "source": [
        "## tf - term frequency"
      ]
    },
    {
      "cell_type": "code",
      "metadata": {
        "id": "9lPgpFCAwGs6",
        "colab_type": "code",
        "colab": {}
      },
      "source": [
        "def compute_tf(word_dict, l):\n",
        "    tf = {}\n",
        "    sum_nk = len(l)\n",
        "    for word, count in word_dict.items():\n",
        "        tf[word] = (count/sum_nk)\n",
        "    return tf"
      ],
      "execution_count": 0,
      "outputs": []
    },
    {
      "cell_type": "code",
      "metadata": {
        "id": "2UDUsyKawMiK",
        "colab_type": "code",
        "colab": {}
      },
      "source": [
        "tf_A = compute_tf(word_dict_A, l_A)\n",
        "tf_B = compute_tf(word_dict_B, l_B)"
      ],
      "execution_count": 0,
      "outputs": []
    },
    {
      "cell_type": "code",
      "metadata": {
        "id": "k6Vf38XZwxZh",
        "colab_type": "code",
        "colab": {}
      },
      "source": [
        "tf_value= pd.DataFrame([tf_A, tf_B])"
      ],
      "execution_count": 0,
      "outputs": []
    },
    {
      "cell_type": "code",
      "metadata": {
        "id": "GdU7Q2DqxKyq",
        "colab_type": "code",
        "outputId": "1766ea2e-4053-40f1-e00b-4dc892c8d0dd",
        "colab": {
          "base_uri": "https://localhost:8080/",
          "height": 104
        }
      },
      "source": [
        "print(tf_value.T)"
      ],
      "execution_count": 0,
      "outputs": [
        {
          "output_type": "stream",
          "text": [
            "              0         1\n",
            "auto       0.25  0.000000\n",
            "best       0.00  0.333333\n",
            "car        0.25  0.333333\n",
            "insurance  0.50  0.333333\n"
          ],
          "name": "stdout"
        }
      ]
    },
    {
      "cell_type": "markdown",
      "metadata": {
        "id": "MgN8a4ifwVCP",
        "colab_type": "text"
      },
      "source": [
        "## idf - inverse document frequency"
      ]
    },
    {
      "cell_type": "code",
      "metadata": {
        "id": "tK1DE4fStk8O",
        "colab_type": "code",
        "colab": {}
      },
      "source": [
        "def compute_idf(strings_list):\n",
        "    n = len(strings_list)\n",
        "    idf = dict.fromkeys(strings_list[0].keys(), 0)\n",
        "    for l in strings_list:\n",
        "        for word, count in l.items():\n",
        "            if count > 0:\n",
        "                idf[word] += 1\n",
        "    \n",
        "    for word, v in idf.items():\n",
        "        idf[word] = np.log(n / float(v))\n",
        "    return idf"
      ],
      "execution_count": 0,
      "outputs": []
    },
    {
      "cell_type": "code",
      "metadata": {
        "id": "XpyEpG4qwYGL",
        "colab_type": "code",
        "colab": {}
      },
      "source": [
        "idf = compute_idf([word_dict_A, word_dict_B]) #word_dict_C])"
      ],
      "execution_count": 0,
      "outputs": []
    },
    {
      "cell_type": "code",
      "metadata": {
        "id": "TTwEo5RYyuKb",
        "colab_type": "code",
        "outputId": "415b36e1-edcd-4f92-84fa-ccd71c58681c",
        "colab": {
          "base_uri": "https://localhost:8080/",
          "height": 79
        }
      },
      "source": [
        "pd.DataFrame([idf])"
      ],
      "execution_count": 0,
      "outputs": [
        {
          "output_type": "execute_result",
          "data": {
            "text/html": [
              "<div>\n",
              "<style scoped>\n",
              "    .dataframe tbody tr th:only-of-type {\n",
              "        vertical-align: middle;\n",
              "    }\n",
              "\n",
              "    .dataframe tbody tr th {\n",
              "        vertical-align: top;\n",
              "    }\n",
              "\n",
              "    .dataframe thead th {\n",
              "        text-align: right;\n",
              "    }\n",
              "</style>\n",
              "<table border=\"1\" class=\"dataframe\">\n",
              "  <thead>\n",
              "    <tr style=\"text-align: right;\">\n",
              "      <th></th>\n",
              "      <th>auto</th>\n",
              "      <th>best</th>\n",
              "      <th>car</th>\n",
              "      <th>insurance</th>\n",
              "    </tr>\n",
              "  </thead>\n",
              "  <tbody>\n",
              "    <tr>\n",
              "      <th>0</th>\n",
              "      <td>0.693147</td>\n",
              "      <td>0.693147</td>\n",
              "      <td>0.0</td>\n",
              "      <td>0.0</td>\n",
              "    </tr>\n",
              "  </tbody>\n",
              "</table>\n",
              "</div>"
            ],
            "text/plain": [
              "       auto      best  car  insurance\n",
              "0  0.693147  0.693147  0.0        0.0"
            ]
          },
          "metadata": {
            "tags": []
          },
          "execution_count": 195
        }
      ]
    },
    {
      "cell_type": "markdown",
      "metadata": {
        "id": "Cc1MjqIZwi01",
        "colab_type": "text"
      },
      "source": [
        "## tf-idf"
      ]
    },
    {
      "cell_type": "code",
      "metadata": {
        "id": "kvluut3Wwaeo",
        "colab_type": "code",
        "colab": {}
      },
      "source": [
        "def compute_tf_idf(tf, idf):\n",
        "    tf_idf = dict.fromkeys(tf.keys(), 0)\n",
        "    for word, v in tf.items():\n",
        "        tf_idf[word] = v * idf[word]\n",
        "    return tf_idf"
      ],
      "execution_count": 0,
      "outputs": []
    },
    {
      "cell_type": "code",
      "metadata": {
        "id": "Pr03sAaSwlli",
        "colab_type": "code",
        "colab": {}
      },
      "source": [
        "tf_idf_A = compute_tf_idf(tf_A, idf)\n",
        "tf_idf_B = compute_tf_idf(tf_B, idf)"
      ],
      "execution_count": 0,
      "outputs": []
    },
    {
      "cell_type": "code",
      "metadata": {
        "id": "Oo0_dhGdwo9y",
        "colab_type": "code",
        "outputId": "0647637a-c771-4f9f-b4e8-7f01ad14116e",
        "colab": {
          "base_uri": "https://localhost:8080/",
          "height": 110
        }
      },
      "source": [
        "pd.DataFrame([tf_idf_A, tf_idf_B]) #tf_idf_C])"
      ],
      "execution_count": 0,
      "outputs": [
        {
          "output_type": "execute_result",
          "data": {
            "text/html": [
              "<div>\n",
              "<style scoped>\n",
              "    .dataframe tbody tr th:only-of-type {\n",
              "        vertical-align: middle;\n",
              "    }\n",
              "\n",
              "    .dataframe tbody tr th {\n",
              "        vertical-align: top;\n",
              "    }\n",
              "\n",
              "    .dataframe thead th {\n",
              "        text-align: right;\n",
              "    }\n",
              "</style>\n",
              "<table border=\"1\" class=\"dataframe\">\n",
              "  <thead>\n",
              "    <tr style=\"text-align: right;\">\n",
              "      <th></th>\n",
              "      <th>auto</th>\n",
              "      <th>best</th>\n",
              "      <th>car</th>\n",
              "      <th>insurance</th>\n",
              "    </tr>\n",
              "  </thead>\n",
              "  <tbody>\n",
              "    <tr>\n",
              "      <th>0</th>\n",
              "      <td>0.173287</td>\n",
              "      <td>0.000000</td>\n",
              "      <td>0.0</td>\n",
              "      <td>0.0</td>\n",
              "    </tr>\n",
              "    <tr>\n",
              "      <th>1</th>\n",
              "      <td>0.000000</td>\n",
              "      <td>0.231049</td>\n",
              "      <td>0.0</td>\n",
              "      <td>0.0</td>\n",
              "    </tr>\n",
              "  </tbody>\n",
              "</table>\n",
              "</div>"
            ],
            "text/plain": [
              "       auto      best  car  insurance\n",
              "0  0.173287  0.000000  0.0        0.0\n",
              "1  0.000000  0.231049  0.0        0.0"
            ]
          },
          "metadata": {
            "tags": []
          },
          "execution_count": 199
        }
      ]
    },
    {
      "cell_type": "code",
      "metadata": {
        "id": "sffENeXMMJhl",
        "colab_type": "code",
        "colab": {}
      },
      "source": [
        "a=pd.DataFrame([tf_idf_A])"
      ],
      "execution_count": 0,
      "outputs": []
    },
    {
      "cell_type": "markdown",
      "metadata": {
        "id": "Q0-BN9q_CG-F",
        "colab_type": "text"
      },
      "source": [
        "## Cosign Similarity"
      ]
    },
    {
      "cell_type": "code",
      "metadata": {
        "id": "-PB6U_ykCVej",
        "colab_type": "code",
        "outputId": "34b173b9-c179-40c4-8cb2-5ed043c0d41b",
        "colab": {
          "base_uri": "https://localhost:8080/",
          "height": 980
        }
      },
      "source": [
        "from numpy import *\n",
        "from numpy import dot\n",
        "from numpy.linalg import norm\n",
        "import numpy as np\n",
        "import pandas as pd\n",
        "import math\n",
        "import matplotlib.pyplot as plt\n",
        "\n",
        "\n",
        "def cosine_distance(a, b):\n",
        "    return 1 - cosine_similarity(a,b)\n",
        "\n",
        "\n",
        "def cosine_similarity(a, b):\n",
        "    return dot(a, b) / (norm(a) * norm(b))\n",
        "\n",
        "\n",
        "def find_end_points(point, angle, length):\n",
        "    '''\n",
        "    #Source - https://stackoverflow.com/questions/28417604/plotting-a-line-from-a-coordinate-with-and-angle\n",
        "    #\n",
        "    point - Tuple (x, y)\n",
        "    angle - Angle you want your end point at in degrees.\n",
        "    length - Length of the line you want to plot.\n",
        "\n",
        "    Will plot the line on a 10 x 10 plot.\n",
        "    '''\n",
        "\n",
        "    # unpack the first point\n",
        "    x, y = point\n",
        "\n",
        "    # find the end point\n",
        "    endy = length * math.sin(math.radians(angle))\n",
        "    endx = length * math.cos(math.radians(angle))\n",
        "\n",
        "    # plot the points\n",
        "    # fig = plt.figure()\n",
        "    # ax = plt.subplot(111)\n",
        "\n",
        "    return ([x, endx], [y, endy])\n",
        "    # ax.plot([x, endx], [y, endy])\n",
        "\n",
        "    # return fig\n",
        "\n",
        "\n",
        "column_header = ['D0', 'D1', 'D2', 'D3', 'D4', 'D5', 'D6', 'D7', 'D8', 'D9', 'D10']\n",
        "row_header = ['D0', 'D1', 'D2', 'D3', 'D4', 'D5', 'D6', 'D7', 'D8', 'D9', 'D10']\n",
        "doc_term = array([\n",
        "    # D0   D1   D2   D3   D4   D5   D6   D7   D8   D9   D10  D11\n",
        "    [0.1, 0.1, 0.0, 0.1, 0.2, 0.0, 0.1, 0.9, 0.9, 0.3, 0.0, 0.8],\n",
        "    [0.1, 0.1, 0.0, 0.1, 0.0, 0.0, 0.1, 0.9, 0.0, 0.3, 0.0, 0.8],\n",
        "    [0.0, 0.0, 0.9, 0.0, 0.3, 0.1, 0.7, 0.0, 0.2, 0.7, 0.5, 0.5],\n",
        "    [0.0, 0.0, 0.9, 0.1, 0.0, 0.1, 0.9, 0.3, 0.8, 0.4, 0.1, 0.4],\n",
        "    [0.0, 0.0, 0.0, 0.0, 0.5, 0.9, 0.3, 0.7, 0.4, 0.6, 0.0, 0.3],\n",
        "    [0.5, 0.6, 0.0, 0.7, 0.3, 0.3, 0.9, 0.1, 0.0, 0.0, 0.0, 0.3],\n",
        "    [0.0, 0.0, 0.8, 0.0, 0.6, 0.6, 0.0, 0.1, 0.4, 0.9, 0.3, 0.1],\n",
        "    [0.35, 0.4, 0.0, 0.5, 0.5, 0.1, 0.7, 0.1, 0.5, 0.3, 0.8, 0.1],\n",
        "    [0.3, 0.3, 0.0, 0.2, 0.8, 0.7, 0.7, 0.8, 0.0, 0.6, 0.8, 0.0],\n",
        "    [0.0, 0.0, 0.5, 0.0, 0.2, 0.0, 0.0, 0.1, 0.0, 0.4, 0.5, 0.3]\n",
        "])\n",
        "\n",
        "cos_similarity_list = []\n",
        "pd_cols_cos_similarity = []\n",
        "cos_distance_list = []\n",
        "pd_cols_cos_distance = []\n",
        "\n",
        "for i in range(0, 11):\n",
        "    for j in range(0, 11):\n",
        "        cos_value = cosine_similarity(transpose(doc_term[:, [i]]), doc_term[:, [j]])\n",
        "        cos_distance = 1.0 - cos_value\n",
        "        cos_distance_list.append(asscalar(around(cos_distance,decimals=3)))\n",
        "        cos_similarity_list.append(\n",
        "            asscalar(around(math.degrees(math.acos(min(max(cos_value, -1.0), 1.0))), decimals=1)))\n",
        "    pd_cols_cos_similarity.append(cos_similarity_list)\n",
        "    pd_cols_cos_distance.append(cos_distance_list)\n",
        "\n",
        "    cos_similarity_list = []\n",
        "    cos_distance_list = []\n",
        "\n",
        "df_cos_sim = pd.DataFrame(pd_cols_cos_similarity, columns=column_header, index=row_header)\n",
        "print(df_cos_sim)\n",
        "\n",
        "df_cos_dist = pd.DataFrame(pd_cols_cos_distance, columns=column_header, index=row_header)\n",
        "print(df_cos_dist)\n",
        "\n",
        "fig = plt.figure()\n",
        "ax = plt.subplot(111)\n",
        "ax.set_ylim([0, 1.75])\n",
        "ax.set_xlim([0, 1.75])\n",
        "\n",
        "ref_doc = 0\n",
        "for i in range(0, 11):\n",
        "    X, Y = find_end_points([0, 0], df_cos_sim.iloc[ref_doc][i], norm(doc_term[:, [i]]))\n",
        "    ax.plot(X, Y)\n",
        "    ax.annotate(\"\", xy=(X[1], Y[1]), xytext=(0, 0), arrowprops=dict(arrowstyle=\"->\"))\n",
        "    ax.text(X[1], Y[1], \"D\" + str(ref_doc) + \"-\" + \"D\" + str(i) + \"-(\" + str(df_cos_sim.iloc[ref_doc][i]) + u\"\\u00b0\" + \")\")\n",
        "fig.show()\n",
        "query = \"D\" + str(ref_doc)\n",
        "rank_order = df_cos_sim.sort_values(query)\n",
        "print (\"\\n\\nDocument Rank for the query \", query)\n",
        "print(rank_order[query])"
      ],
      "execution_count": 0,
      "outputs": [
        {
          "output_type": "stream",
          "text": [
            "       D0    D1    D2    D3    D4    D5    D6    D7    D8    D9   D10\n",
            "D0    0.0   4.0  90.0  14.6  50.6  64.8  41.9  64.6  74.6  72.1  56.9\n",
            "D1    4.0   0.0  90.0  11.5  52.6  66.0  42.3  67.3  75.3  73.7  59.0\n",
            "D2   90.0  90.0   0.0  86.4  66.1  71.8  59.5  81.4  57.6  41.7  61.7\n",
            "D3   14.6  11.5  86.4   0.0  57.6  70.0  40.2  71.3  71.0  75.3  62.5\n",
            "D4   50.6  52.6  66.1  57.6   0.0  29.5  48.9  53.8  60.8  31.9  36.1\n",
            "D5   64.8  66.0  71.8  70.0  29.5   0.0  58.1  54.3  66.9  40.5  61.2\n",
            "D6   41.9  42.3  59.5  40.2  48.9  58.1   0.0  63.0  56.4  53.5  50.5\n",
            "D7   64.6  67.3  81.4  71.3  53.8  54.3  63.0   0.0  54.3  51.1  69.1\n",
            "D8   74.6  75.3  57.6  71.0  60.8  66.9  56.4  54.3   0.0  50.3  69.2\n",
            "D9   72.1  73.7  41.7  75.3  31.9  40.5  53.5  51.1  50.3   0.0  44.5\n",
            "D10  56.9  59.0  61.7  62.5  36.1  61.2  50.5  69.1  69.2  44.5   0.0\n",
            "        D0     D1     D2     D3     D4  ...     D6     D7     D8     D9    D10\n",
            "D0   0.000  0.002  1.000  0.032  0.365  ...  0.256  0.572  0.734  0.693  0.454\n",
            "D1   0.002  0.000  1.000  0.020  0.392  ...  0.260  0.614  0.745  0.719  0.485\n",
            "D2   1.000  1.000  0.000  0.937  0.596  ...  0.492  0.851  0.463  0.254  0.526\n",
            "D3   0.032  0.020  0.937  0.000  0.464  ...  0.236  0.679  0.675  0.746  0.538\n",
            "D4   0.365  0.392  0.596  0.464  0.000  ...  0.343  0.409  0.512  0.151  0.192\n",
            "D5   0.574  0.594  0.688  0.659  0.130  ...  0.472  0.417  0.608  0.239  0.519\n",
            "D6   0.256  0.260  0.492  0.236  0.343  ... -0.000  0.545  0.447  0.405  0.364\n",
            "D7   0.572  0.614  0.851  0.679  0.409  ...  0.545 -0.000  0.417  0.373  0.643\n",
            "D8   0.734  0.745  0.463  0.675  0.512  ...  0.447  0.417 -0.000  0.362  0.644\n",
            "D9   0.693  0.719  0.254  0.746  0.151  ...  0.405  0.373  0.362  0.000  0.287\n",
            "D10  0.454  0.485  0.526  0.538  0.192  ...  0.364  0.643  0.644  0.287 -0.000\n",
            "\n",
            "[11 rows x 11 columns]\n",
            "\n",
            "\n",
            "Document Rank for the query  D0\n",
            "D0      0.0\n",
            "D1      4.0\n",
            "D3     14.6\n",
            "D6     41.9\n",
            "D4     50.6\n",
            "D10    56.9\n",
            "D7     64.6\n",
            "D5     64.8\n",
            "D9     72.1\n",
            "D8     74.6\n",
            "D2     90.0\n",
            "Name: D0, dtype: float64\n"
          ],
          "name": "stdout"
        },
        {
          "output_type": "display_data",
          "data": {
            "image/png": "[encoded data removed]",
            "text/plain": [
              "<Figure size 432x288 with 1 Axes>"
            ]
          },
          "metadata": {
            "tags": []
          }
        }
      ]
    },
    {
      "cell_type": "code",
      "metadata": {
        "id": "iki36Ww8Dx0y",
        "colab_type": "code",
        "colab": {}
      },
      "source": [
        ""
      ],
      "execution_count": 0,
      "outputs": []
    }
  ]
}