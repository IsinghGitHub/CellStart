{
 "cells": [
  {
   "cell_type": "code",
   "execution_count": 1,
   "metadata": {},
   "outputs": [],
   "source": [
    "import spacy\n",
    "import numpy as np\n",
    "from spacy.lang.en.stop_words import STOP_WORDS\n",
    "from string import punctuation\n",
    "from spacy.lang.en.examples import sentences "
   ]
  },
  {
   "cell_type": "code",
   "execution_count": 9,
   "metadata": {},
   "outputs": [],
   "source": [
    "doc2 = 'Web-service created from AXON side is using the username and password as the part of XML body.Because of XML end point structure, It is compulsory pass username and password in the mapping while using from IDQ.Because of security reason customer cannot allow to parse the value in mapping.AXON API is out of box solution so I think there should be some more secure way to deal with the same (generation of token). If not , can you please raise a change request for your AXON API.'"
   ]
  },
  {
   "cell_type": "code",
   "execution_count": 10,
   "metadata": {},
   "outputs": [],
   "source": [
    "doc1 = 'Dear Support,We are running Informatica 10.2.0 on Windows 2012 and SQL server 2014.We are facing an unusual CPU time consumption by one Java service of Informatica. This morning we recycled the DIS due to a huge amount of RAM consumption but now the CPU issue appears.Here is the command line of the problematic process :C:\\Informatica\\10.2.0\\java\\jre\\bin\\java -DINFA_PLUGINS_HOME=C:\\Informatica\\10.2.0\\plugins -DINFA_HOME=C:\\Informatica\\10.2.0 -Djava.net.preferIPv4Stack=true -Xmx512M -DPLUGIN_DIR_LOC=EmailService -DBOOTSTRAP_CLASS=com.informatica.isp.domainservice.serviceprocesscontroller.jsfspcprocess.JSFSPCProcessMain -DBOOTSTRAP_DIR=C:\\Informatica\\10.2.0\\services\\shared\\jars\\platform\\ -DSystemLogDirectory=C:\\Informatica\\10.2.0\\logs\\node01 -DServiceLogDirectory=C:\\Informatica\\10.2.0\\logs\\node01\\services\\EmailService -DFrameworksLogFilePath=C:\\Informatica\\10.2.0\\logs\\node01\\services\\EmailService\\Email_Service_jsf.log -Djava.util.logging.config.file=C:\\Informatica\\10.2.0\\java\\jre\\lib\\logging.properties -DINFA_DOMAINS_FILE=C:\\Informatica\\10.2.0\\domains.infa -Djava.rmi.server.hostname=CHGVA-SRV-ETL01 -Dcom.informatica.ssl.enabledProtocols=TLSv1.1,TLSv1.2 -Dcom.informatica.ssl.contextProtocol=TLSv1.2 -jar C:\\Informatica\\10.2.0\\services\\shared\\jars\\platform\\jsf-service-bootstrap.jar MTU1MzA4ODU2MjQ2OQ== RG9tYWluX0Rldg== RW1haWxfU2VydmljZQ== bm9kZTAx aHR0cDovL0NIR1ZBLVNSVi1FVEwwMTo2MDA2 QzpcSW5mb3JtYXRpY2FcMTAuMi4wXGlzcFxjb25maWdca2V5c1xzaXRlS2V5 ZmFsc2U= V1NoSXRZYlR5YlZvUDZ6TUg2aWdCa0N5dFE3TTM3aXc1QXdoVFBvTTRDYS9oV2dNdU1QM2dkZ3M1aVNkb3Q4VTFPZ0NXT0JUZTZ3UmtvL1hpTFF5QkxvRFRTNTJRR1gzUDBTSXBpMDRvUlgvMU1vdmV4QjNCdkdJR0ZvVGFQZnJCM1dwY2hqcnpWdDVBMWJxOVV5aERtMjlLS29WeXlkZWhpblJIOURuSmVjem5xSUpESWIwMGZMOU15YjBBalE1RFQ0SkxRaHp5cDkrMTZoU3hLeXVmZ256Q0NoZXpDV1huWXVPbyttSnowdmtoZ1FRbjNaYUtnVG9uTmFVSFVReGNaREhKMVNJYmFmN2pHcnJkRTdmTHc9PQ== ZmFsc2U= MA== Y29tLmluZm9ybWF0aWNhLnByb2R1Y3RzLmVtYWlsbm90aWZpY2F0aW9uc2VydmljZS5pc3BzZXJ2aWNlLkxpZmVDeWNsZUhhbmRsZXI= Tk9fUkVTSUxJRU5DWQ== TkE= TkE= TkE=Please find attached some domain logs.Could you please investigate on that?Best regards,Alexis Legrand'"
   ]
  },
  {
   "cell_type": "code",
   "execution_count": 11,
   "metadata": {},
   "outputs": [],
   "source": [
    "stopwords = list(STOP_WORDS)"
   ]
  },
  {
   "cell_type": "code",
   "execution_count": 12,
   "metadata": {},
   "outputs": [
    {
     "data": {
      "text/plain": [
       "305"
      ]
     },
     "execution_count": 12,
     "metadata": {},
     "output_type": "execute_result"
    }
   ],
   "source": [
    "len(stopwords)"
   ]
  },
  {
   "cell_type": "code",
   "execution_count": 13,
   "metadata": {},
   "outputs": [],
   "source": [
    "nlp = spacy.load('en_core_web_sm')"
   ]
  },
  {
   "cell_type": "code",
   "execution_count": 14,
   "metadata": {},
   "outputs": [],
   "source": [
    "#nlp = spacy.load('en')"
   ]
  },
  {
   "cell_type": "code",
   "execution_count": 15,
   "metadata": {},
   "outputs": [],
   "source": [
    "docx = nlp(doc2)"
   ]
  },
  {
   "cell_type": "code",
   "execution_count": 16,
   "metadata": {},
   "outputs": [
    {
     "data": {
      "text/plain": [
       "Web-service created from AXON side is using the username and password as the part of XML body.Because of XML end point structure, It is compulsory pass username and password in the mapping while using from IDQ.Because of security reason customer cannot allow to parse the value in mapping.AXON API is out of box solution so I think there should be some more secure way to deal with the same (generation of token). If not , can you please raise a change request for your AXON API."
      ]
     },
     "execution_count": 16,
     "metadata": {},
     "output_type": "execute_result"
    }
   ],
   "source": [
    "docx"
   ]
  },
  {
   "cell_type": "code",
   "execution_count": 17,
   "metadata": {},
   "outputs": [
    {
     "name": "stdout",
     "output_type": "stream",
     "text": [
      "Web\n",
      "-\n",
      "service\n",
      "created\n",
      "from\n",
      "AXON\n",
      "side\n",
      "is\n",
      "using\n",
      "the\n",
      "username\n",
      "and\n",
      "password\n",
      "as\n",
      "the\n",
      "part\n",
      "of\n",
      "XML\n",
      "body\n",
      ".\n",
      "Because\n",
      "of\n",
      "XML\n",
      "end\n",
      "point\n",
      "structure\n",
      ",\n",
      "It\n",
      "is\n",
      "compulsory\n",
      "pass\n",
      "username\n",
      "and\n",
      "password\n",
      "in\n",
      "the\n",
      "mapping\n",
      "while\n",
      "using\n",
      "from\n",
      "IDQ.Because\n",
      "of\n",
      "security\n",
      "reason\n",
      "customer\n",
      "can\n",
      "not\n",
      "allow\n",
      "to\n",
      "parse\n",
      "the\n",
      "value\n",
      "in\n",
      "mapping\n",
      ".\n",
      "AXON\n",
      "API\n",
      "is\n",
      "out\n",
      "of\n",
      "box\n",
      "solution\n",
      "so\n",
      "I\n",
      "think\n",
      "there\n",
      "should\n",
      "be\n",
      "some\n",
      "more\n",
      "secure\n",
      "way\n",
      "to\n",
      "deal\n",
      "with\n",
      "the\n",
      "same\n",
      "(\n",
      "generation\n",
      "of\n",
      "token\n",
      ")\n",
      ".\n",
      "If\n",
      "not\n",
      ",\n",
      "can\n",
      "you\n",
      "please\n",
      "raise\n",
      "a\n",
      "change\n",
      "request\n",
      "for\n",
      "your\n",
      "AXON\n",
      "API\n",
      ".\n"
     ]
    }
   ],
   "source": [
    "for token in docx:\n",
    "    print(token.text)"
   ]
  },
  {
   "cell_type": "code",
   "execution_count": 175,
   "metadata": {},
   "outputs": [],
   "source": [
    "word_frequencies = {}\n",
    "for words in docx:    \n",
    "        if words.text not in stopwords:\n",
    "            \n",
    "            if words.text not in word_frequencies.keys():                \n",
    "                word_frequencies[words.text] = 1\n",
    "            else: \n",
    "                word_frequencies[words.text] += 1       "
   ]
  },
  {
   "cell_type": "code",
   "execution_count": 176,
   "metadata": {},
   "outputs": [
    {
     "data": {
      "text/plain": [
       "{'Web': 1,\n",
       " '-': 1,\n",
       " 'service': 1,\n",
       " 'created': 1,\n",
       " 'AXON': 3,\n",
       " 'username': 2,\n",
       " 'password': 2,\n",
       " 'XML': 2,\n",
       " 'body': 1,\n",
       " '.': 4,\n",
       " 'Because': 1,\n",
       " 'end': 1,\n",
       " 'point': 1,\n",
       " 'structure': 1,\n",
       " ',': 2,\n",
       " 'It': 1,\n",
       " 'compulsory': 1,\n",
       " 'pass': 1,\n",
       " 'mapping': 2,\n",
       " 'IDQ.Because': 1,\n",
       " 'security': 1,\n",
       " 'reason': 1,\n",
       " 'customer': 1,\n",
       " 'allow': 1,\n",
       " 'parse': 1,\n",
       " 'value': 1,\n",
       " 'API': 2,\n",
       " 'box': 1,\n",
       " 'solution': 1,\n",
       " 'I': 1,\n",
       " 'think': 1,\n",
       " 'secure': 1,\n",
       " 'way': 1,\n",
       " 'deal': 1,\n",
       " '(': 1,\n",
       " 'generation': 1,\n",
       " 'token': 1,\n",
       " ')': 1,\n",
       " 'If': 1,\n",
       " 'raise': 1,\n",
       " 'change': 1,\n",
       " 'request': 1}"
      ]
     },
     "execution_count": 176,
     "metadata": {},
     "output_type": "execute_result"
    }
   ],
   "source": [
    "word_frequencies"
   ]
  },
  {
   "cell_type": "code",
   "execution_count": 177,
   "metadata": {},
   "outputs": [],
   "source": [
    "maximum_frequency = max(word_frequencies.values())"
   ]
  },
  {
   "cell_type": "code",
   "execution_count": 178,
   "metadata": {},
   "outputs": [
    {
     "data": {
      "text/plain": [
       "4"
      ]
     },
     "execution_count": 178,
     "metadata": {},
     "output_type": "execute_result"
    }
   ],
   "source": [
    "maximum_frequency"
   ]
  },
  {
   "cell_type": "code",
   "execution_count": 179,
   "metadata": {},
   "outputs": [],
   "source": [
    "for word in word_frequencies.keys():\n",
    "    word_frequencies[word] = (word_frequencies[word]/maximum_frequency)"
   ]
  },
  {
   "cell_type": "code",
   "execution_count": 180,
   "metadata": {},
   "outputs": [
    {
     "data": {
      "text/plain": [
       "{'Web': 0.25,\n",
       " '-': 0.25,\n",
       " 'service': 0.25,\n",
       " 'created': 0.25,\n",
       " 'AXON': 0.75,\n",
       " 'username': 0.5,\n",
       " 'password': 0.5,\n",
       " 'XML': 0.5,\n",
       " 'body': 0.25,\n",
       " '.': 1.0,\n",
       " 'Because': 0.25,\n",
       " 'end': 0.25,\n",
       " 'point': 0.25,\n",
       " 'structure': 0.25,\n",
       " ',': 0.5,\n",
       " 'It': 0.25,\n",
       " 'compulsory': 0.25,\n",
       " 'pass': 0.25,\n",
       " 'mapping': 0.5,\n",
       " 'IDQ.Because': 0.25,\n",
       " 'security': 0.25,\n",
       " 'reason': 0.25,\n",
       " 'customer': 0.25,\n",
       " 'allow': 0.25,\n",
       " 'parse': 0.25,\n",
       " 'value': 0.25,\n",
       " 'API': 0.5,\n",
       " 'box': 0.25,\n",
       " 'solution': 0.25,\n",
       " 'I': 0.25,\n",
       " 'think': 0.25,\n",
       " 'secure': 0.25,\n",
       " 'way': 0.25,\n",
       " 'deal': 0.25,\n",
       " '(': 0.25,\n",
       " 'generation': 0.25,\n",
       " 'token': 0.25,\n",
       " ')': 0.25,\n",
       " 'If': 0.25,\n",
       " 'raise': 0.25,\n",
       " 'change': 0.25,\n",
       " 'request': 0.25}"
      ]
     },
     "execution_count": 180,
     "metadata": {},
     "output_type": "execute_result"
    }
   ],
   "source": [
    "word_frequencies"
   ]
  },
  {
   "cell_type": "markdown",
   "metadata": {},
   "source": [
    "# Sentence Tokenization\n",
    "\n",
    "### * Sentence Scores\n",
    "### * Scoring every sentence based on number of words\n",
    "### * (non-stopwords in our word frequency table\n"
   ]
  },
  {
   "cell_type": "code",
   "execution_count": 181,
   "metadata": {},
   "outputs": [],
   "source": [
    "sentence_list = [ sentence for sentence in docx.sents]"
   ]
  },
  {
   "cell_type": "code",
   "execution_count": 182,
   "metadata": {},
   "outputs": [
    {
     "data": {
      "text/plain": [
       "[Web-service created from AXON side is using the username and password as the part of XML body.,\n",
       " Because of XML end point structure, It is compulsory pass username and password in the mapping while using from IDQ.Because of security reason customer cannot allow to parse the value in mapping.,\n",
       " AXON API is out of box solution so I think there should be some more secure way to deal with the same (generation of token).,\n",
       " If not , can you please raise a change request for your AXON API.]"
      ]
     },
     "execution_count": 182,
     "metadata": {},
     "output_type": "execute_result"
    }
   ],
   "source": [
    "sentence_list"
   ]
  },
  {
   "cell_type": "code",
   "execution_count": 183,
   "metadata": {},
   "outputs": [],
   "source": [
    "sentence_scores = {}\n",
    "for sent in sentence_list:\n",
    "    for word in sent:\n",
    "        if word.text.lower() in word_frequencies.keys():\n",
    "            if len(sent.text.split(' ')) < 30:\n",
    "                if sent not in sentence_scores.keys():\n",
    "                    sentence_scores[sent] = word_frequencies[word.text.lower()]\n",
    "                else:\n",
    "                    sentence_scores[sent] += word_frequencies[word.text.lower()]          \n",
    "                    \n",
    "    "
   ]
  },
  {
   "cell_type": "code",
   "execution_count": 184,
   "metadata": {},
   "outputs": [
    {
     "data": {
      "text/plain": [
       "{Web-service created from AXON side is using the username and password as the part of XML body.: 3.0,\n",
       " AXON API is out of box solution so I think there should be some more secure way to deal with the same (generation of token).: 3.5,\n",
       " If not , can you please raise a change request for your AXON API.: 2.25}"
      ]
     },
     "execution_count": 184,
     "metadata": {},
     "output_type": "execute_result"
    }
   ],
   "source": [
    "sentence_scores"
   ]
  },
  {
   "cell_type": "code",
   "execution_count": 185,
   "metadata": {},
   "outputs": [],
   "source": [
    "from heapq import nlargest"
   ]
  },
  {
   "cell_type": "code",
   "execution_count": 186,
   "metadata": {},
   "outputs": [],
   "source": [
    "summarized_sentences = nlargest(7, sentence_scores, key=sentence_scores.get)"
   ]
  },
  {
   "cell_type": "code",
   "execution_count": 187,
   "metadata": {},
   "outputs": [
    {
     "data": {
      "text/plain": [
       "[AXON API is out of box solution so I think there should be some more secure way to deal with the same (generation of token).,\n",
       " Web-service created from AXON side is using the username and password as the part of XML body.,\n",
       " If not , can you please raise a change request for your AXON API.]"
      ]
     },
     "execution_count": 187,
     "metadata": {},
     "output_type": "execute_result"
    }
   ],
   "source": [
    "summarized_sentences"
   ]
  },
  {
   "cell_type": "code",
   "execution_count": 188,
   "metadata": {},
   "outputs": [],
   "source": [
    "final_sentences = [w.text for w in summarized_sentences]"
   ]
  },
  {
   "cell_type": "code",
   "execution_count": 189,
   "metadata": {},
   "outputs": [],
   "source": [
    "summary = ' '.join(final_sentences)"
   ]
  },
  {
   "cell_type": "code",
   "execution_count": 190,
   "metadata": {},
   "outputs": [
    {
     "data": {
      "text/plain": [
       "'AXON API is out of box solution so I think there should be some more secure way to deal with the same (generation of token). Web-service created from AXON side is using the username and password as the part of XML body. If not , can you please raise a change request for your AXON API.'"
      ]
     },
     "execution_count": 190,
     "metadata": {},
     "output_type": "execute_result"
    }
   ],
   "source": [
    "summary"
   ]
  },
  {
   "cell_type": "code",
   "execution_count": null,
   "metadata": {},
   "outputs": [],
   "source": []
  }
 ],
 "metadata": {
  "kernelspec": {
   "display_name": "Python 3",
   "language": "python",
   "name": "python3"
  },
  "language_info": {
   "codemirror_mode": {
    "name": "ipython",
    "version": 3
   },
   "file_extension": ".py",
   "mimetype": "text/x-python",
   "name": "python",
   "nbconvert_exporter": "python",
   "pygments_lexer": "ipython3",
   "version": "3.7.3"
  }
 },
 "nbformat": 4,
 "nbformat_minor": 2
}
