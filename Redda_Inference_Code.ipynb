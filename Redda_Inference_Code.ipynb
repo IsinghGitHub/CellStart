{
  "nbformat": 4,
  "nbformat_minor": 0,
  "metadata": {
    "colab": {
      "provenance": [],
      "mount_file_id": "1xEOwAbCmTxfvUdl6UjKY7kUUBmqe2cTi",
      "authorship_tag": "ABX9TyNLk8wmKYND+j8TtiA75wkC",
      "include_colab_link": true
    },
    "kernelspec": {
      "name": "python3",
      "display_name": "Python 3"
    },
    "language_info": {
      "name": "python"
    }
  },
  "cells": [
    {
      "cell_type": "markdown",
      "metadata": {
        "id": "view-in-github",
        "colab_type": "text"
      },
      "source": [
        "<a href=\"https://colab.research.google.com/github/IsinghGitHub/CellStrat/blob/master/Redda_Inference_Code.ipynb\" target=\"_parent\"><img src=\"https://colab.research.google.com/assets/colab-badge.svg\" alt=\"Open In Colab\"/></a>"
      ]
    },
    {
      "cell_type": "code",
      "execution_count": 19,
      "metadata": {
        "colab": {
          "base_uri": "https://localhost:8080/"
        },
        "id": "Vne-ZsRkagTz",
        "outputId": "678f50ef-5711-4220-9908-b9811a5be612"
      },
      "outputs": [
        {
          "output_type": "stream",
          "name": "stdout",
          "text": [
            "Predicted the HR performance probality score (Percentage):\n",
            "[42.27742616]\n"
          ]
        }
      ],
      "source": [
        "import pickle\n",
        "import numpy as np\n",
        "\n",
        "# Load the best_rf_model from the pickle file\n",
        "with open('/content/drive/MyDrive/Redda/Models/best_rf_model.pickle', 'rb') as model_file:\n",
        "    best_rf_model = pickle.load(model_file)\n",
        "\n",
        "# Define a function for inference and convert to percentage\n",
        "def make_prediction(input_data):\n",
        "    # Make sure input_data is a list or array with 9 elements\n",
        "    if len(input_data) != 9:\n",
        "        raise ValueError(\"Input data should have 9 features.\")\n",
        "\n",
        "    # Convert the input data to a NumPy array\n",
        "    input_data_array = np.array(input_data).reshape(1, -1)  # Reshape to match model's input shape\n",
        "\n",
        "    # Make predictions using the loaded model\n",
        "    predictions = best_rf_model.predict(input_data_array)\n",
        "\n",
        "    # Define the range of your model's output (e.g., 0 to 1)\n",
        "    min_output = 0.0\n",
        "    max_output = 1.0\n",
        "\n",
        "    # Convert predictions to a percentage scale (0% to 100%)\n",
        "    predictions_percentage = ((predictions - min_output) / (max_output - min_output)) * 100\n",
        "\n",
        "    return predictions_percentage\n",
        "\n",
        "# Sample input data (assuming you have a list with 9 features)\n",
        "# feature_names = ['predictor1', 'predictor2', 'predictor3', 'predictor4', 'ctar',   'age', 'tenure', 'gender_M', 'decisionstd2_Not Hired']\n",
        "\n",
        "sample_input_data = [0.60, 0.96, 0.78, 0.85, 0.6, 0.76, 0.1, 1.0, 1.0]\n",
        "\n",
        "# Use the function to make predictions and convert to percentage\n",
        "percentage_predictions = make_prediction(sample_input_data)\n",
        "\n",
        "# Print or use the percentage predictions as needed\n",
        "print(\"Predicted the HR performance probality score (Percentage):\")\n",
        "print(percentage_predictions)\n"
      ]
    },
    {
      "cell_type": "code",
      "source": [],
      "metadata": {
        "id": "_lOE6y6aeI6Q"
      },
      "execution_count": null,
      "outputs": []
    }
  ]
}