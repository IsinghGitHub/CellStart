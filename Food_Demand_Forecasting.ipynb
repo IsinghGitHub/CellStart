{
  "nbformat": 4,
  "nbformat_minor": 0,
  "metadata": {
    "colab": {
      "name": "Food_Demand_Forecasting.ipynb",
      "version": "0.3.2",
      "provenance": [],
      "collapsed_sections": [],
      "toc_visible": true,
      "include_colab_link": true
    },
    "kernelspec": {
      "display_name": "Python 3",
      "language": "python",
      "name": "python3"
    },
    "language_info": {
      "codemirror_mode": {
        "name": "ipython",
        "version": 3
      },
      "file_extension": ".py",
      "mimetype": "text/x-python",
      "name": "python",
      "nbconvert_exporter": "python",
      "pygments_lexer": "ipython3",
      "version": "3.6.5"
    }
  },
  "cells": [
    {
      "cell_type": "markdown",
      "metadata": {
        "id": "view-in-github",
        "colab_type": "text"
      },
      "source": [
        "<a href=\"https://colab.research.google.com/github/IsinghGitHub/CellStrat/blob/master/Food_Demand_Forecasting.ipynb\" target=\"_parent\"><img src=\"https://colab.research.google.com/assets/colab-badge.svg\" alt=\"Open In Colab\"/></a>"
      ]
    },
    {
      "cell_type": "markdown",
      "metadata": {
        "colab_type": "text",
        "id": "B4qVRxFZ7kFz"
      },
      "source": [
        "# Genpact Machine Learning Hackathon\n"
      ]
    },
    {
      "cell_type": "code",
      "metadata": {
        "id": "GTHqkH6DGyK8",
        "colab_type": "code",
        "colab": {
          "base_uri": "https://localhost:8080/",
          "height": 124
        },
        "outputId": "21e2c3f6-da31-4b47-8881-d06685656244"
      },
      "source": [
        "from google.colab import drive\n",
        "drive.mount('/content/gdrive')"
      ],
      "execution_count": 9,
      "outputs": [
        {
          "output_type": "stream",
          "text": [
            "Go to this URL in a browser: https://accounts.google.com/o/oauth2/auth?client_id=947318989803-6bn6qk8qdgf4n4g3pfee6491hc0brc4i.apps.googleusercontent.com&redirect_uri=urn%3Aietf%3Awg%3Aoauth%3A2.0%3Aoob&scope=email%20https%3A%2F%2Fwww.googleapis.com%2Fauth%2Fdocs.test%20https%3A%2F%2Fwww.googleapis.com%2Fauth%2Fdrive%20https%3A%2F%2Fwww.googleapis.com%2Fauth%2Fdrive.photos.readonly%20https%3A%2F%2Fwww.googleapis.com%2Fauth%2Fpeopleapi.readonly&response_type=code\n",
            "\n",
            "Enter your authorization code:\n",
            "··········\n",
            "Mounted at /content/gdrive\n"
          ],
          "name": "stdout"
        }
      ]
    },
    {
      "cell_type": "code",
      "metadata": {
        "colab_type": "code",
        "id": "E1BgK4Nu7kF7",
        "colab": {}
      },
      "source": [
        "import pandas as pd\n",
        "import numpy as np\n",
        "import matplotlib.pyplot as plt\n",
        "%matplotlib inline\n",
        "import seaborn as sns"
      ],
      "execution_count": 0,
      "outputs": []
    },
    {
      "cell_type": "code",
      "metadata": {
        "id": "6ww5XIuyGj-K",
        "colab_type": "code",
        "colab": {
          "base_uri": "https://localhost:8080/",
          "height": 367
        },
        "outputId": "a2601f2a-7d0e-4ad6-aced-18a31dcd1270"
      },
      "source": [
        "pip install catboost"
      ],
      "execution_count": 11,
      "outputs": [
        {
          "output_type": "stream",
          "text": [
            "Collecting catboost\n",
            "\u001b[?25l  Downloading https://files.pythonhosted.org/packages/40/83/5974e19d4d040442543e1e4eafa5ebb1c7ef396cbc53ea1084193d311d62/catboost-0.17.1-cp36-none-manylinux1_x86_64.whl (62.5MB)\n",
            "\u001b[K     |████████████████████████████████| 62.5MB 1.3MB/s \n",
            "\u001b[?25hRequirement already satisfied: matplotlib in /usr/local/lib/python3.6/dist-packages (from catboost) (3.0.3)\n",
            "Requirement already satisfied: pandas>=0.24.0 in /usr/local/lib/python3.6/dist-packages (from catboost) (0.24.2)\n",
            "Requirement already satisfied: scipy in /usr/local/lib/python3.6/dist-packages (from catboost) (1.3.1)\n",
            "Requirement already satisfied: graphviz in /usr/local/lib/python3.6/dist-packages (from catboost) (0.10.1)\n",
            "Requirement already satisfied: numpy>=1.16.0 in /usr/local/lib/python3.6/dist-packages (from catboost) (1.16.5)\n",
            "Requirement already satisfied: plotly in /usr/local/lib/python3.6/dist-packages (from catboost) (4.1.1)\n",
            "Requirement already satisfied: six in /usr/local/lib/python3.6/dist-packages (from catboost) (1.12.0)\n",
            "Requirement already satisfied: kiwisolver>=1.0.1 in /usr/local/lib/python3.6/dist-packages (from matplotlib->catboost) (1.1.0)\n",
            "Requirement already satisfied: pyparsing!=2.0.4,!=2.1.2,!=2.1.6,>=2.0.1 in /usr/local/lib/python3.6/dist-packages (from matplotlib->catboost) (2.4.2)\n",
            "Requirement already satisfied: cycler>=0.10 in /usr/local/lib/python3.6/dist-packages (from matplotlib->catboost) (0.10.0)\n",
            "Requirement already satisfied: python-dateutil>=2.1 in /usr/local/lib/python3.6/dist-packages (from matplotlib->catboost) (2.5.3)\n",
            "Requirement already satisfied: pytz>=2011k in /usr/local/lib/python3.6/dist-packages (from pandas>=0.24.0->catboost) (2018.9)\n",
            "Requirement already satisfied: retrying>=1.3.3 in /usr/local/lib/python3.6/dist-packages (from plotly->catboost) (1.3.3)\n",
            "Requirement already satisfied: setuptools in /usr/local/lib/python3.6/dist-packages (from kiwisolver>=1.0.1->matplotlib->catboost) (41.2.0)\n",
            "Installing collected packages: catboost\n",
            "Successfully installed catboost-0.17.1\n"
          ],
          "name": "stdout"
        }
      ]
    },
    {
      "cell_type": "code",
      "metadata": {
        "colab_type": "code",
        "id": "QLVdmo447kGI",
        "colab": {}
      },
      "source": [
        "import gc\n",
        "import catboost as cb\n",
        "from sklearn.metrics import mean_squared_log_error, mean_squared_error\n",
        "from sklearn.model_selection import train_test_split, KFold"
      ],
      "execution_count": 0,
      "outputs": []
    },
    {
      "cell_type": "code",
      "metadata": {
        "colab_type": "code",
        "id": "bFbTm3nZ7kGQ",
        "colab": {}
      },
      "source": [
        "#pd.set_option('display.max_rows', None)\n",
        "def show_all(df, nrow, ncol):\n",
        "    with pd.option_context('display.max_rows', nrow, 'display.max_columns', ncol):\n",
        "        display(df)"
      ],
      "execution_count": 0,
      "outputs": []
    },
    {
      "cell_type": "code",
      "metadata": {
        "colab_type": "code",
        "id": "3buWODjZ7kGY",
        "colab": {}
      },
      "source": [
        "FILES_PATH = \"/content/gdrive/My Drive/CellStrat/Hackathon/ML/Food_Demand_Forecasting/data/train_GzS76OK\"\n",
        "SUB_PATH = \"/content/gdrive/My Drive/CellStrat/Hackathon/ML/Food_Demand_Forecasting\""
      ],
      "execution_count": 0,
      "outputs": []
    },
    {
      "cell_type": "code",
      "metadata": {
        "colab_type": "code",
        "id": "8S6Q_FwB7kGg",
        "colab": {}
      },
      "source": [
        "fci_df = pd.read_csv(f\"{FILES_PATH}/fulfilment_center_info.csv\")\n",
        "mi_df = pd.read_csv(f\"{FILES_PATH}/meal_info.csv\")\n",
        "train_df = pd.read_csv(f\"{FILES_PATH}/train.csv\")\n",
        "test_df = pd.read_csv(f\"{FILES_PATH}/test.csv\")\n",
        "sub_df = pd.read_csv(f\"{FILES_PATH}/sample_submission.csv\")"
      ],
      "execution_count": 0,
      "outputs": []
    },
    {
      "cell_type": "code",
      "metadata": {
        "id": "Jy0prgBOZz3-",
        "colab_type": "code",
        "colab": {
          "base_uri": "https://localhost:8080/",
          "height": 222
        },
        "outputId": "a677043b-a717-4ce3-f253-6ccbee74912d"
      },
      "source": [
        "train_df.head()"
      ],
      "execution_count": 74,
      "outputs": [
        {
          "output_type": "execute_result",
          "data": {
            "text/html": [
              "<div>\n",
              "<style scoped>\n",
              "    .dataframe tbody tr th:only-of-type {\n",
              "        vertical-align: middle;\n",
              "    }\n",
              "\n",
              "    .dataframe tbody tr th {\n",
              "        vertical-align: top;\n",
              "    }\n",
              "\n",
              "    .dataframe thead th {\n",
              "        text-align: right;\n",
              "    }\n",
              "</style>\n",
              "<table border=\"1\" class=\"dataframe\">\n",
              "  <thead>\n",
              "    <tr style=\"text-align: right;\">\n",
              "      <th></th>\n",
              "      <th>id</th>\n",
              "      <th>week</th>\n",
              "      <th>center_id</th>\n",
              "      <th>meal_id</th>\n",
              "      <th>checkout_price</th>\n",
              "      <th>base_price</th>\n",
              "      <th>emailer_for_promotion</th>\n",
              "      <th>homepage_featured</th>\n",
              "      <th>num_orders</th>\n",
              "    </tr>\n",
              "  </thead>\n",
              "  <tbody>\n",
              "    <tr>\n",
              "      <th>0</th>\n",
              "      <td>1379560</td>\n",
              "      <td>1</td>\n",
              "      <td>55</td>\n",
              "      <td>1885</td>\n",
              "      <td>136.83</td>\n",
              "      <td>152.29</td>\n",
              "      <td>0</td>\n",
              "      <td>0</td>\n",
              "      <td>177</td>\n",
              "    </tr>\n",
              "    <tr>\n",
              "      <th>1</th>\n",
              "      <td>1466964</td>\n",
              "      <td>1</td>\n",
              "      <td>55</td>\n",
              "      <td>1993</td>\n",
              "      <td>136.83</td>\n",
              "      <td>135.83</td>\n",
              "      <td>0</td>\n",
              "      <td>0</td>\n",
              "      <td>270</td>\n",
              "    </tr>\n",
              "    <tr>\n",
              "      <th>2</th>\n",
              "      <td>1346989</td>\n",
              "      <td>1</td>\n",
              "      <td>55</td>\n",
              "      <td>2539</td>\n",
              "      <td>134.86</td>\n",
              "      <td>135.86</td>\n",
              "      <td>0</td>\n",
              "      <td>0</td>\n",
              "      <td>189</td>\n",
              "    </tr>\n",
              "    <tr>\n",
              "      <th>3</th>\n",
              "      <td>1338232</td>\n",
              "      <td>1</td>\n",
              "      <td>55</td>\n",
              "      <td>2139</td>\n",
              "      <td>339.50</td>\n",
              "      <td>437.53</td>\n",
              "      <td>0</td>\n",
              "      <td>0</td>\n",
              "      <td>54</td>\n",
              "    </tr>\n",
              "    <tr>\n",
              "      <th>4</th>\n",
              "      <td>1448490</td>\n",
              "      <td>1</td>\n",
              "      <td>55</td>\n",
              "      <td>2631</td>\n",
              "      <td>243.50</td>\n",
              "      <td>242.50</td>\n",
              "      <td>0</td>\n",
              "      <td>0</td>\n",
              "      <td>40</td>\n",
              "    </tr>\n",
              "  </tbody>\n",
              "</table>\n",
              "</div>"
            ],
            "text/plain": [
              "        id  week  ...  homepage_featured  num_orders\n",
              "0  1379560     1  ...                  0         177\n",
              "1  1466964     1  ...                  0         270\n",
              "2  1346989     1  ...                  0         189\n",
              "3  1338232     1  ...                  0          54\n",
              "4  1448490     1  ...                  0          40\n",
              "\n",
              "[5 rows x 9 columns]"
            ]
          },
          "metadata": {
            "tags": []
          },
          "execution_count": 74
        }
      ]
    },
    {
      "cell_type": "code",
      "metadata": {
        "colab_type": "code",
        "id": "GAJESuRz7kGp",
        "outputId": "8f594826-391a-4bfa-d627-c3de5c70e080",
        "colab": {
          "base_uri": "https://localhost:8080/",
          "height": 202
        }
      },
      "source": [
        "# head of fulfilment_center_info file\n",
        "fci_df.head()"
      ],
      "execution_count": 16,
      "outputs": [
        {
          "output_type": "execute_result",
          "data": {
            "text/html": [
              "<div>\n",
              "<style scoped>\n",
              "    .dataframe tbody tr th:only-of-type {\n",
              "        vertical-align: middle;\n",
              "    }\n",
              "\n",
              "    .dataframe tbody tr th {\n",
              "        vertical-align: top;\n",
              "    }\n",
              "\n",
              "    .dataframe thead th {\n",
              "        text-align: right;\n",
              "    }\n",
              "</style>\n",
              "<table border=\"1\" class=\"dataframe\">\n",
              "  <thead>\n",
              "    <tr style=\"text-align: right;\">\n",
              "      <th></th>\n",
              "      <th>center_id</th>\n",
              "      <th>city_code</th>\n",
              "      <th>region_code</th>\n",
              "      <th>center_type</th>\n",
              "      <th>op_area</th>\n",
              "    </tr>\n",
              "  </thead>\n",
              "  <tbody>\n",
              "    <tr>\n",
              "      <th>0</th>\n",
              "      <td>11</td>\n",
              "      <td>679</td>\n",
              "      <td>56</td>\n",
              "      <td>TYPE_A</td>\n",
              "      <td>3.7</td>\n",
              "    </tr>\n",
              "    <tr>\n",
              "      <th>1</th>\n",
              "      <td>13</td>\n",
              "      <td>590</td>\n",
              "      <td>56</td>\n",
              "      <td>TYPE_B</td>\n",
              "      <td>6.7</td>\n",
              "    </tr>\n",
              "    <tr>\n",
              "      <th>2</th>\n",
              "      <td>124</td>\n",
              "      <td>590</td>\n",
              "      <td>56</td>\n",
              "      <td>TYPE_C</td>\n",
              "      <td>4.0</td>\n",
              "    </tr>\n",
              "    <tr>\n",
              "      <th>3</th>\n",
              "      <td>66</td>\n",
              "      <td>648</td>\n",
              "      <td>34</td>\n",
              "      <td>TYPE_A</td>\n",
              "      <td>4.1</td>\n",
              "    </tr>\n",
              "    <tr>\n",
              "      <th>4</th>\n",
              "      <td>94</td>\n",
              "      <td>632</td>\n",
              "      <td>34</td>\n",
              "      <td>TYPE_C</td>\n",
              "      <td>3.6</td>\n",
              "    </tr>\n",
              "  </tbody>\n",
              "</table>\n",
              "</div>"
            ],
            "text/plain": [
              "   center_id  city_code  region_code center_type  op_area\n",
              "0         11        679           56      TYPE_A      3.7\n",
              "1         13        590           56      TYPE_B      6.7\n",
              "2        124        590           56      TYPE_C      4.0\n",
              "3         66        648           34      TYPE_A      4.1\n",
              "4         94        632           34      TYPE_C      3.6"
            ]
          },
          "metadata": {
            "tags": []
          },
          "execution_count": 16
        }
      ]
    },
    {
      "cell_type": "code",
      "metadata": {
        "colab_type": "code",
        "id": "AGSSD3rj7kG8",
        "outputId": "79059a76-5f4e-4112-d39f-54f34ac65ba6",
        "colab": {
          "base_uri": "https://localhost:8080/",
          "height": 35
        }
      },
      "source": [
        "print(\"Shape of fulfilment_center_info :\", fci_df.shape)"
      ],
      "execution_count": 17,
      "outputs": [
        {
          "output_type": "stream",
          "text": [
            "Shape of fulfilment_center_info : (77, 5)\n"
          ],
          "name": "stdout"
        }
      ]
    },
    {
      "cell_type": "code",
      "metadata": {
        "colab_type": "code",
        "id": "z93vZnlc7kHJ",
        "outputId": "fb5d42d9-7968-4cef-eeac-55716a34ee22",
        "colab": {
          "base_uri": "https://localhost:8080/",
          "height": 121
        }
      },
      "source": [
        "# NaN values in fulfilment_center_info\n",
        "fci_df.isnull().sum()"
      ],
      "execution_count": 18,
      "outputs": [
        {
          "output_type": "execute_result",
          "data": {
            "text/plain": [
              "center_id      0\n",
              "city_code      0\n",
              "region_code    0\n",
              "center_type    0\n",
              "op_area        0\n",
              "dtype: int64"
            ]
          },
          "metadata": {
            "tags": []
          },
          "execution_count": 18
        }
      ]
    },
    {
      "cell_type": "code",
      "metadata": {
        "colab_type": "code",
        "id": "Tn8loJc47kHV",
        "outputId": "2f93e813-30cb-46f7-e4cc-bc1b55b21e30",
        "colab": {
          "base_uri": "https://localhost:8080/",
          "height": 202
        }
      },
      "source": [
        "# head of meal_info file\n",
        "mi_df.head()"
      ],
      "execution_count": 19,
      "outputs": [
        {
          "output_type": "execute_result",
          "data": {
            "text/html": [
              "<div>\n",
              "<style scoped>\n",
              "    .dataframe tbody tr th:only-of-type {\n",
              "        vertical-align: middle;\n",
              "    }\n",
              "\n",
              "    .dataframe tbody tr th {\n",
              "        vertical-align: top;\n",
              "    }\n",
              "\n",
              "    .dataframe thead th {\n",
              "        text-align: right;\n",
              "    }\n",
              "</style>\n",
              "<table border=\"1\" class=\"dataframe\">\n",
              "  <thead>\n",
              "    <tr style=\"text-align: right;\">\n",
              "      <th></th>\n",
              "      <th>meal_id</th>\n",
              "      <th>category</th>\n",
              "      <th>cuisine</th>\n",
              "    </tr>\n",
              "  </thead>\n",
              "  <tbody>\n",
              "    <tr>\n",
              "      <th>0</th>\n",
              "      <td>1885</td>\n",
              "      <td>Beverages</td>\n",
              "      <td>Thai</td>\n",
              "    </tr>\n",
              "    <tr>\n",
              "      <th>1</th>\n",
              "      <td>1993</td>\n",
              "      <td>Beverages</td>\n",
              "      <td>Thai</td>\n",
              "    </tr>\n",
              "    <tr>\n",
              "      <th>2</th>\n",
              "      <td>2539</td>\n",
              "      <td>Beverages</td>\n",
              "      <td>Thai</td>\n",
              "    </tr>\n",
              "    <tr>\n",
              "      <th>3</th>\n",
              "      <td>1248</td>\n",
              "      <td>Beverages</td>\n",
              "      <td>Indian</td>\n",
              "    </tr>\n",
              "    <tr>\n",
              "      <th>4</th>\n",
              "      <td>2631</td>\n",
              "      <td>Beverages</td>\n",
              "      <td>Indian</td>\n",
              "    </tr>\n",
              "  </tbody>\n",
              "</table>\n",
              "</div>"
            ],
            "text/plain": [
              "   meal_id   category cuisine\n",
              "0     1885  Beverages    Thai\n",
              "1     1993  Beverages    Thai\n",
              "2     2539  Beverages    Thai\n",
              "3     1248  Beverages  Indian\n",
              "4     2631  Beverages  Indian"
            ]
          },
          "metadata": {
            "tags": []
          },
          "execution_count": 19
        }
      ]
    },
    {
      "cell_type": "code",
      "metadata": {
        "colab_type": "code",
        "id": "h8urChaW7kHj",
        "outputId": "f038e142-edd1-48a3-af1b-9bfe8023af32",
        "colab": {
          "base_uri": "https://localhost:8080/",
          "height": 35
        }
      },
      "source": [
        "print(\"Shape of meal_info: \", mi_df.shape)"
      ],
      "execution_count": 20,
      "outputs": [
        {
          "output_type": "stream",
          "text": [
            "Shape of meal_info:  (51, 3)\n"
          ],
          "name": "stdout"
        }
      ]
    },
    {
      "cell_type": "code",
      "metadata": {
        "colab_type": "code",
        "id": "S107YGrR7kHw",
        "outputId": "242f00f2-d242-4103-ea40-2e63aec75c4c",
        "colab": {
          "base_uri": "https://localhost:8080/",
          "height": 87
        }
      },
      "source": [
        "# NaN values in meal_info\n",
        "mi_df.isnull().sum()"
      ],
      "execution_count": 21,
      "outputs": [
        {
          "output_type": "execute_result",
          "data": {
            "text/plain": [
              "meal_id     0\n",
              "category    0\n",
              "cuisine     0\n",
              "dtype: int64"
            ]
          },
          "metadata": {
            "tags": []
          },
          "execution_count": 21
        }
      ]
    },
    {
      "cell_type": "code",
      "metadata": {
        "colab_type": "code",
        "id": "v5vbDm0j7kIA",
        "colab": {}
      },
      "source": [
        "# Head of Train file (historical demand data)\n",
        "#train_df.head()"
      ],
      "execution_count": 0,
      "outputs": []
    },
    {
      "cell_type": "code",
      "metadata": {
        "colab_type": "code",
        "id": "eYHJheYS7kIL",
        "outputId": "9d08c96c-0a80-4164-d8df-f2b0cd98c337",
        "colab": {
          "base_uri": "https://localhost:8080/",
          "height": 35
        }
      },
      "source": [
        "print(\"Shape of train: \", train_df.shape)"
      ],
      "execution_count": 23,
      "outputs": [
        {
          "output_type": "stream",
          "text": [
            "Shape of train:  (456548, 9)\n"
          ],
          "name": "stdout"
        }
      ]
    },
    {
      "cell_type": "code",
      "metadata": {
        "colab_type": "code",
        "id": "narJsfaI7kIX",
        "outputId": "39f1711e-5a10-4323-e0b6-cee81a582c2e",
        "colab": {
          "base_uri": "https://localhost:8080/",
          "height": 191
        }
      },
      "source": [
        "# NaN values in train data\n",
        "train_df.isnull().sum()"
      ],
      "execution_count": 24,
      "outputs": [
        {
          "output_type": "execute_result",
          "data": {
            "text/plain": [
              "id                       0\n",
              "week                     0\n",
              "center_id                0\n",
              "meal_id                  0\n",
              "checkout_price           0\n",
              "base_price               0\n",
              "emailer_for_promotion    0\n",
              "homepage_featured        0\n",
              "num_orders               0\n",
              "dtype: int64"
            ]
          },
          "metadata": {
            "tags": []
          },
          "execution_count": 24
        }
      ]
    },
    {
      "cell_type": "code",
      "metadata": {
        "colab_type": "code",
        "id": "juoAUnhZ7kIi",
        "outputId": "5c51d58c-42fb-4883-9f72-be5bc49fec7d",
        "colab": {
          "base_uri": "https://localhost:8080/",
          "height": 222
        }
      },
      "source": [
        "# Head of Test data\n",
        "test_df.head()"
      ],
      "execution_count": 25,
      "outputs": [
        {
          "output_type": "execute_result",
          "data": {
            "text/html": [
              "<div>\n",
              "<style scoped>\n",
              "    .dataframe tbody tr th:only-of-type {\n",
              "        vertical-align: middle;\n",
              "    }\n",
              "\n",
              "    .dataframe tbody tr th {\n",
              "        vertical-align: top;\n",
              "    }\n",
              "\n",
              "    .dataframe thead th {\n",
              "        text-align: right;\n",
              "    }\n",
              "</style>\n",
              "<table border=\"1\" class=\"dataframe\">\n",
              "  <thead>\n",
              "    <tr style=\"text-align: right;\">\n",
              "      <th></th>\n",
              "      <th>id</th>\n",
              "      <th>week</th>\n",
              "      <th>center_id</th>\n",
              "      <th>meal_id</th>\n",
              "      <th>checkout_price</th>\n",
              "      <th>base_price</th>\n",
              "      <th>emailer_for_promotion</th>\n",
              "      <th>homepage_featured</th>\n",
              "    </tr>\n",
              "  </thead>\n",
              "  <tbody>\n",
              "    <tr>\n",
              "      <th>0</th>\n",
              "      <td>1028232</td>\n",
              "      <td>146</td>\n",
              "      <td>55</td>\n",
              "      <td>1885</td>\n",
              "      <td>158.11</td>\n",
              "      <td>159.11</td>\n",
              "      <td>0</td>\n",
              "      <td>0</td>\n",
              "    </tr>\n",
              "    <tr>\n",
              "      <th>1</th>\n",
              "      <td>1127204</td>\n",
              "      <td>146</td>\n",
              "      <td>55</td>\n",
              "      <td>1993</td>\n",
              "      <td>160.11</td>\n",
              "      <td>159.11</td>\n",
              "      <td>0</td>\n",
              "      <td>0</td>\n",
              "    </tr>\n",
              "    <tr>\n",
              "      <th>2</th>\n",
              "      <td>1212707</td>\n",
              "      <td>146</td>\n",
              "      <td>55</td>\n",
              "      <td>2539</td>\n",
              "      <td>157.14</td>\n",
              "      <td>159.14</td>\n",
              "      <td>0</td>\n",
              "      <td>0</td>\n",
              "    </tr>\n",
              "    <tr>\n",
              "      <th>3</th>\n",
              "      <td>1082698</td>\n",
              "      <td>146</td>\n",
              "      <td>55</td>\n",
              "      <td>2631</td>\n",
              "      <td>162.02</td>\n",
              "      <td>162.02</td>\n",
              "      <td>0</td>\n",
              "      <td>0</td>\n",
              "    </tr>\n",
              "    <tr>\n",
              "      <th>4</th>\n",
              "      <td>1400926</td>\n",
              "      <td>146</td>\n",
              "      <td>55</td>\n",
              "      <td>1248</td>\n",
              "      <td>163.93</td>\n",
              "      <td>163.93</td>\n",
              "      <td>0</td>\n",
              "      <td>0</td>\n",
              "    </tr>\n",
              "  </tbody>\n",
              "</table>\n",
              "</div>"
            ],
            "text/plain": [
              "        id  week  ...  emailer_for_promotion  homepage_featured\n",
              "0  1028232   146  ...                      0                  0\n",
              "1  1127204   146  ...                      0                  0\n",
              "2  1212707   146  ...                      0                  0\n",
              "3  1082698   146  ...                      0                  0\n",
              "4  1400926   146  ...                      0                  0\n",
              "\n",
              "[5 rows x 8 columns]"
            ]
          },
          "metadata": {
            "tags": []
          },
          "execution_count": 25
        }
      ]
    },
    {
      "cell_type": "code",
      "metadata": {
        "colab_type": "code",
        "id": "g0lgl1RK7kIp",
        "outputId": "dbd96ba9-b809-4d20-8a41-c25419b3666f",
        "colab": {
          "base_uri": "https://localhost:8080/",
          "height": 35
        }
      },
      "source": [
        "print(\"Shape of Test: \", test_df.shape)"
      ],
      "execution_count": 26,
      "outputs": [
        {
          "output_type": "stream",
          "text": [
            "Shape of Test:  (32573, 8)\n"
          ],
          "name": "stdout"
        }
      ]
    },
    {
      "cell_type": "code",
      "metadata": {
        "colab_type": "code",
        "id": "BMPc9tJ17kI0",
        "outputId": "062a7ddd-ac8a-417b-a84d-d2b95f78a1fa",
        "colab": {
          "base_uri": "https://localhost:8080/",
          "height": 173
        }
      },
      "source": [
        "# NaN values in test data\n",
        "test_df.isnull().sum()"
      ],
      "execution_count": 27,
      "outputs": [
        {
          "output_type": "execute_result",
          "data": {
            "text/plain": [
              "id                       0\n",
              "week                     0\n",
              "center_id                0\n",
              "meal_id                  0\n",
              "checkout_price           0\n",
              "base_price               0\n",
              "emailer_for_promotion    0\n",
              "homepage_featured        0\n",
              "dtype: int64"
            ]
          },
          "metadata": {
            "tags": []
          },
          "execution_count": 27
        }
      ]
    },
    {
      "cell_type": "code",
      "metadata": {
        "colab_type": "code",
        "id": "TFTvEsoh7kTK",
        "colab": {}
      },
      "source": [
        "train_df = pd.merge(train_df, fci_df, on='center_id')\n",
        "test_df = pd.merge(test_df, fci_df, on='center_id')\n",
        "\n",
        "train_df = pd.merge(train_df, mi_df, on='meal_id')\n",
        "test_df = pd.merge(test_df, mi_df, on='meal_id')"
      ],
      "execution_count": 0,
      "outputs": []
    },
    {
      "cell_type": "code",
      "metadata": {
        "colab_type": "code",
        "id": "ws77JkkJ7kTL",
        "outputId": "c333667b-b43a-44d0-920d-59e232a0aa1f",
        "colab": {
          "base_uri": "https://localhost:8080/",
          "height": 222
        }
      },
      "source": [
        "train_df.head()"
      ],
      "execution_count": 70,
      "outputs": [
        {
          "output_type": "execute_result",
          "data": {
            "text/html": [
              "<div>\n",
              "<style scoped>\n",
              "    .dataframe tbody tr th:only-of-type {\n",
              "        vertical-align: middle;\n",
              "    }\n",
              "\n",
              "    .dataframe tbody tr th {\n",
              "        vertical-align: top;\n",
              "    }\n",
              "\n",
              "    .dataframe thead th {\n",
              "        text-align: right;\n",
              "    }\n",
              "</style>\n",
              "<table border=\"1\" class=\"dataframe\">\n",
              "  <thead>\n",
              "    <tr style=\"text-align: right;\">\n",
              "      <th></th>\n",
              "      <th>id</th>\n",
              "      <th>week</th>\n",
              "      <th>center_id</th>\n",
              "      <th>meal_id</th>\n",
              "      <th>checkout_price</th>\n",
              "      <th>base_price</th>\n",
              "      <th>emailer_for_promotion</th>\n",
              "      <th>homepage_featured</th>\n",
              "      <th>num_orders</th>\n",
              "      <th>city_code</th>\n",
              "      <th>region_code</th>\n",
              "      <th>center_type</th>\n",
              "      <th>op_area</th>\n",
              "      <th>category</th>\n",
              "      <th>cuisine</th>\n",
              "      <th>train_or_test</th>\n",
              "    </tr>\n",
              "  </thead>\n",
              "  <tbody>\n",
              "    <tr>\n",
              "      <th>0</th>\n",
              "      <td>1379560</td>\n",
              "      <td>1</td>\n",
              "      <td>55</td>\n",
              "      <td>1885</td>\n",
              "      <td>136.83</td>\n",
              "      <td>152.29</td>\n",
              "      <td>0</td>\n",
              "      <td>0</td>\n",
              "      <td>5.181784</td>\n",
              "      <td>647</td>\n",
              "      <td>56</td>\n",
              "      <td>TYPE_C</td>\n",
              "      <td>2.0</td>\n",
              "      <td>Beverages</td>\n",
              "      <td>Thai</td>\n",
              "      <td>train</td>\n",
              "    </tr>\n",
              "    <tr>\n",
              "      <th>1</th>\n",
              "      <td>1018704</td>\n",
              "      <td>2</td>\n",
              "      <td>55</td>\n",
              "      <td>1885</td>\n",
              "      <td>135.83</td>\n",
              "      <td>152.29</td>\n",
              "      <td>0</td>\n",
              "      <td>0</td>\n",
              "      <td>5.780744</td>\n",
              "      <td>647</td>\n",
              "      <td>56</td>\n",
              "      <td>TYPE_C</td>\n",
              "      <td>2.0</td>\n",
              "      <td>Beverages</td>\n",
              "      <td>Thai</td>\n",
              "      <td>train</td>\n",
              "    </tr>\n",
              "    <tr>\n",
              "      <th>2</th>\n",
              "      <td>1196273</td>\n",
              "      <td>3</td>\n",
              "      <td>55</td>\n",
              "      <td>1885</td>\n",
              "      <td>132.92</td>\n",
              "      <td>133.92</td>\n",
              "      <td>0</td>\n",
              "      <td>0</td>\n",
              "      <td>4.574711</td>\n",
              "      <td>647</td>\n",
              "      <td>56</td>\n",
              "      <td>TYPE_C</td>\n",
              "      <td>2.0</td>\n",
              "      <td>Beverages</td>\n",
              "      <td>Thai</td>\n",
              "      <td>train</td>\n",
              "    </tr>\n",
              "    <tr>\n",
              "      <th>3</th>\n",
              "      <td>1116527</td>\n",
              "      <td>4</td>\n",
              "      <td>55</td>\n",
              "      <td>1885</td>\n",
              "      <td>135.86</td>\n",
              "      <td>134.86</td>\n",
              "      <td>0</td>\n",
              "      <td>0</td>\n",
              "      <td>5.099866</td>\n",
              "      <td>647</td>\n",
              "      <td>56</td>\n",
              "      <td>TYPE_C</td>\n",
              "      <td>2.0</td>\n",
              "      <td>Beverages</td>\n",
              "      <td>Thai</td>\n",
              "      <td>train</td>\n",
              "    </tr>\n",
              "    <tr>\n",
              "      <th>4</th>\n",
              "      <td>1343872</td>\n",
              "      <td>5</td>\n",
              "      <td>55</td>\n",
              "      <td>1885</td>\n",
              "      <td>146.50</td>\n",
              "      <td>147.50</td>\n",
              "      <td>0</td>\n",
              "      <td>0</td>\n",
              "      <td>5.375278</td>\n",
              "      <td>647</td>\n",
              "      <td>56</td>\n",
              "      <td>TYPE_C</td>\n",
              "      <td>2.0</td>\n",
              "      <td>Beverages</td>\n",
              "      <td>Thai</td>\n",
              "      <td>train</td>\n",
              "    </tr>\n",
              "  </tbody>\n",
              "</table>\n",
              "</div>"
            ],
            "text/plain": [
              "        id  week  center_id  meal_id  ...  op_area   category  cuisine  train_or_test\n",
              "0  1379560     1         55     1885  ...      2.0  Beverages     Thai          train\n",
              "1  1018704     2         55     1885  ...      2.0  Beverages     Thai          train\n",
              "2  1196273     3         55     1885  ...      2.0  Beverages     Thai          train\n",
              "3  1116527     4         55     1885  ...      2.0  Beverages     Thai          train\n",
              "4  1343872     5         55     1885  ...      2.0  Beverages     Thai          train\n",
              "\n",
              "[5 rows x 16 columns]"
            ]
          },
          "metadata": {
            "tags": []
          },
          "execution_count": 70
        }
      ]
    },
    {
      "cell_type": "code",
      "metadata": {
        "colab_type": "code",
        "id": "5Ub-zRN77kTN",
        "colab": {}
      },
      "source": [
        "train_df['train_or_test'] = 'train'\n",
        "test_df['train_or_test'] = 'test'"
      ],
      "execution_count": 0,
      "outputs": []
    },
    {
      "cell_type": "code",
      "metadata": {
        "colab_type": "code",
        "id": "1JoOnr1i7kTR",
        "colab": {}
      },
      "source": [
        "train_df['num_orders'] = np.log1p(train_df['num_orders'])"
      ],
      "execution_count": 0,
      "outputs": []
    },
    {
      "cell_type": "code",
      "metadata": {
        "id": "AvQX6z0OZl8e",
        "colab_type": "code",
        "colab": {
          "base_uri": "https://localhost:8080/",
          "height": 1000
        },
        "outputId": "ae6fc538-7f4c-4bc7-82ab-a805ad64a097"
      },
      "source": [
        "train_df['num_orders']"
      ],
      "execution_count": 67,
      "outputs": [
        {
          "output_type": "execute_result",
          "data": {
            "text/plain": [
              "0         5.181784\n",
              "1         5.780744\n",
              "2         4.574711\n",
              "3         5.099866\n",
              "4         5.375278\n",
              "5         5.655992\n",
              "6         5.003946\n",
              "7         4.912655\n",
              "8         5.170484\n",
              "9         5.170484\n",
              "10        5.501258\n",
              "11        5.252273\n",
              "12        4.234107\n",
              "13        4.912655\n",
              "14        5.905362\n",
              "15        4.219508\n",
              "16        5.602119\n",
              "17        5.860786\n",
              "18        5.501258\n",
              "19        5.241747\n",
              "20        4.919981\n",
              "21        5.693732\n",
              "22        5.241747\n",
              "23        5.087596\n",
              "24        4.025352\n",
              "25        5.176150\n",
              "26        5.313206\n",
              "27        5.693732\n",
              "28        4.682131\n",
              "29        4.912655\n",
              "            ...   \n",
              "456518    2.639057\n",
              "456519    4.219508\n",
              "456520    4.007333\n",
              "456521    3.737670\n",
              "456522    3.332205\n",
              "456523    2.708050\n",
              "456524    3.295837\n",
              "456525    3.367296\n",
              "456526    2.708050\n",
              "456527    3.988984\n",
              "456528    4.007333\n",
              "456529    3.367296\n",
              "456530    3.988984\n",
              "456531    4.804021\n",
              "456532    5.937536\n",
              "456533    5.602119\n",
              "456534    5.828946\n",
              "456535    4.682131\n",
              "456536    3.737670\n",
              "456537    3.367296\n",
              "456538    2.772589\n",
              "456539    3.737670\n",
              "456540    5.017280\n",
              "456541    5.746203\n",
              "456542    5.010635\n",
              "456543    2.639057\n",
              "456544    3.761200\n",
              "456545    3.713572\n",
              "456546    3.988984\n",
              "456547    3.332205\n",
              "Name: num_orders, Length: 456548, dtype: float64"
            ]
          },
          "metadata": {
            "tags": []
          },
          "execution_count": 67
        }
      ]
    },
    {
      "cell_type": "code",
      "metadata": {
        "colab_type": "code",
        "id": "dw1QtKCH7kTW",
        "colab": {
          "base_uri": "https://localhost:8080/",
          "height": 176
        },
        "outputId": "ba71b712-78c8-436b-de6e-451af5cb0c11"
      },
      "source": [
        "all_df = train_df.append(test_df).reset_index(drop=True)[train_df.columns]"
      ],
      "execution_count": 32,
      "outputs": [
        {
          "output_type": "stream",
          "text": [
            "/usr/local/lib/python3.6/dist-packages/pandas/core/frame.py:6692: FutureWarning: Sorting because non-concatenation axis is not aligned. A future version\n",
            "of pandas will change to not sort by default.\n",
            "\n",
            "To accept the future behavior, pass 'sort=False'.\n",
            "\n",
            "To retain the current behavior and silence the warning, pass 'sort=True'.\n",
            "\n",
            "  sort=sort)\n"
          ],
          "name": "stderr"
        }
      ]
    },
    {
      "cell_type": "code",
      "metadata": {
        "colab_type": "code",
        "id": "rgHk_DO27kTZ",
        "colab": {}
      },
      "source": [
        "all_df = all_df.sort_values(['center_id', 'meal_id', 'week']).reset_index(drop=True)"
      ],
      "execution_count": 0,
      "outputs": []
    },
    {
      "cell_type": "code",
      "metadata": {
        "colab_type": "code",
        "id": "tP2PxrPI7kTb",
        "colab": {}
      },
      "source": [
        "all_df['checkout_price'] = np.log1p(all_df['checkout_price'])\n",
        "all_df['base_price'] = np.log1p(all_df['base_price'])"
      ],
      "execution_count": 0,
      "outputs": []
    },
    {
      "cell_type": "code",
      "metadata": {
        "colab_type": "code",
        "id": "cv0V3lD57kTf",
        "colab": {}
      },
      "source": [
        "all_df['discount_on_base'] = (all_df['base_price'] - all_df['checkout_price']) / all_df['base_price']"
      ],
      "execution_count": 0,
      "outputs": []
    },
    {
      "cell_type": "code",
      "metadata": {
        "colab_type": "code",
        "id": "LIbTfZhG7kTi",
        "outputId": "df328a21-e07f-428c-c886-6c2918a03829",
        "colab": {
          "base_uri": "https://localhost:8080/",
          "height": 222
        }
      },
      "source": [
        "all_df.head()"
      ],
      "execution_count": 36,
      "outputs": [
        {
          "output_type": "execute_result",
          "data": {
            "text/html": [
              "<div>\n",
              "<style scoped>\n",
              "    .dataframe tbody tr th:only-of-type {\n",
              "        vertical-align: middle;\n",
              "    }\n",
              "\n",
              "    .dataframe tbody tr th {\n",
              "        vertical-align: top;\n",
              "    }\n",
              "\n",
              "    .dataframe thead th {\n",
              "        text-align: right;\n",
              "    }\n",
              "</style>\n",
              "<table border=\"1\" class=\"dataframe\">\n",
              "  <thead>\n",
              "    <tr style=\"text-align: right;\">\n",
              "      <th></th>\n",
              "      <th>id</th>\n",
              "      <th>week</th>\n",
              "      <th>center_id</th>\n",
              "      <th>meal_id</th>\n",
              "      <th>checkout_price</th>\n",
              "      <th>base_price</th>\n",
              "      <th>emailer_for_promotion</th>\n",
              "      <th>homepage_featured</th>\n",
              "      <th>num_orders</th>\n",
              "      <th>city_code</th>\n",
              "      <th>region_code</th>\n",
              "      <th>center_type</th>\n",
              "      <th>op_area</th>\n",
              "      <th>category</th>\n",
              "      <th>cuisine</th>\n",
              "      <th>train_or_test</th>\n",
              "      <th>discount_on_base</th>\n",
              "    </tr>\n",
              "  </thead>\n",
              "  <tbody>\n",
              "    <tr>\n",
              "      <th>0</th>\n",
              "      <td>1436842</td>\n",
              "      <td>1</td>\n",
              "      <td>10</td>\n",
              "      <td>1062</td>\n",
              "      <td>5.206147</td>\n",
              "      <td>5.206147</td>\n",
              "      <td>0</td>\n",
              "      <td>0</td>\n",
              "      <td>6.763885</td>\n",
              "      <td>590</td>\n",
              "      <td>56</td>\n",
              "      <td>TYPE_B</td>\n",
              "      <td>6.3</td>\n",
              "      <td>Beverages</td>\n",
              "      <td>Italian</td>\n",
              "      <td>train</td>\n",
              "      <td>0.000000</td>\n",
              "    </tr>\n",
              "    <tr>\n",
              "      <th>1</th>\n",
              "      <td>1205013</td>\n",
              "      <td>2</td>\n",
              "      <td>10</td>\n",
              "      <td>1062</td>\n",
              "      <td>5.216890</td>\n",
              "      <td>5.211451</td>\n",
              "      <td>0</td>\n",
              "      <td>0</td>\n",
              "      <td>6.663133</td>\n",
              "      <td>590</td>\n",
              "      <td>56</td>\n",
              "      <td>TYPE_B</td>\n",
              "      <td>6.3</td>\n",
              "      <td>Beverages</td>\n",
              "      <td>Italian</td>\n",
              "      <td>train</td>\n",
              "      <td>-0.001044</td>\n",
              "    </tr>\n",
              "    <tr>\n",
              "      <th>2</th>\n",
              "      <td>1447751</td>\n",
              "      <td>3</td>\n",
              "      <td>10</td>\n",
              "      <td>1062</td>\n",
              "      <td>5.222300</td>\n",
              "      <td>5.211451</td>\n",
              "      <td>0</td>\n",
              "      <td>0</td>\n",
              "      <td>6.747587</td>\n",
              "      <td>590</td>\n",
              "      <td>56</td>\n",
              "      <td>TYPE_B</td>\n",
              "      <td>6.3</td>\n",
              "      <td>Beverages</td>\n",
              "      <td>Italian</td>\n",
              "      <td>train</td>\n",
              "      <td>-0.002082</td>\n",
              "    </tr>\n",
              "    <tr>\n",
              "      <th>3</th>\n",
              "      <td>1014968</td>\n",
              "      <td>4</td>\n",
              "      <td>10</td>\n",
              "      <td>1062</td>\n",
              "      <td>5.211451</td>\n",
              "      <td>5.216890</td>\n",
              "      <td>0</td>\n",
              "      <td>0</td>\n",
              "      <td>7.092574</td>\n",
              "      <td>590</td>\n",
              "      <td>56</td>\n",
              "      <td>TYPE_B</td>\n",
              "      <td>6.3</td>\n",
              "      <td>Beverages</td>\n",
              "      <td>Italian</td>\n",
              "      <td>train</td>\n",
              "      <td>0.001043</td>\n",
              "    </tr>\n",
              "    <tr>\n",
              "      <th>4</th>\n",
              "      <td>1003563</td>\n",
              "      <td>5</td>\n",
              "      <td>10</td>\n",
              "      <td>1062</td>\n",
              "      <td>5.217053</td>\n",
              "      <td>5.206147</td>\n",
              "      <td>0</td>\n",
              "      <td>0</td>\n",
              "      <td>6.865891</td>\n",
              "      <td>590</td>\n",
              "      <td>56</td>\n",
              "      <td>TYPE_B</td>\n",
              "      <td>6.3</td>\n",
              "      <td>Beverages</td>\n",
              "      <td>Italian</td>\n",
              "      <td>train</td>\n",
              "      <td>-0.002095</td>\n",
              "    </tr>\n",
              "  </tbody>\n",
              "</table>\n",
              "</div>"
            ],
            "text/plain": [
              "        id  week  center_id  ...  cuisine  train_or_test  discount_on_base\n",
              "0  1436842     1         10  ...  Italian          train          0.000000\n",
              "1  1205013     2         10  ...  Italian          train         -0.001044\n",
              "2  1447751     3         10  ...  Italian          train         -0.002082\n",
              "3  1014968     4         10  ...  Italian          train          0.001043\n",
              "4  1003563     5         10  ...  Italian          train         -0.002095\n",
              "\n",
              "[5 rows x 17 columns]"
            ]
          },
          "metadata": {
            "tags": []
          },
          "execution_count": 36
        }
      ]
    },
    {
      "cell_type": "code",
      "metadata": {
        "colab_type": "code",
        "id": "V_ADelO_7kTl",
        "outputId": "6661c838-609d-4ba9-8789-9cb2364db9e3",
        "colab": {
          "base_uri": "https://localhost:8080/",
          "height": 284
        }
      },
      "source": [
        "sns.distplot(all_df['discount_on_base'], bins=500)\n",
        "plt.show()"
      ],
      "execution_count": 37,
      "outputs": [
        {
          "output_type": "display_data",
          "data": {
            "image/png": "[encoded data removed]",
            "text/plain": [
              "<Figure size 432x288 with 1 Axes>"
            ]
          },
          "metadata": {
            "tags": []
          }
        }
      ]
    },
    {
      "cell_type": "code",
      "metadata": {
        "colab_type": "code",
        "id": "YE_N0D6p7kT0",
        "colab": {}
      },
      "source": [
        "all_df['neg_discount'] = (all_df['discount_on_base'] < 0).astype(int)"
      ],
      "execution_count": 0,
      "outputs": []
    },
    {
      "cell_type": "code",
      "metadata": {
        "colab_type": "code",
        "id": "N0NPuuEp7kT2",
        "colab": {}
      },
      "source": [
        "all_df['price_last_curr_diff'] = (all_df['checkout_price'].shift(1) - all_df['checkout_price']).fillna(1)/ all_df['checkout_price'].shift(1).fillna(1)"
      ],
      "execution_count": 0,
      "outputs": []
    },
    {
      "cell_type": "code",
      "metadata": {
        "colab_type": "code",
        "id": "2t-wZU537kT5",
        "colab": {}
      },
      "source": [
        "for _, r in all_df.groupby(['center_id', 'meal_id'])['week'].first().reset_index().iterrows():\n",
        "    all_df.loc[(all_df['center_id']==r['center_id']) & (all_df['meal_id']==r['meal_id']) & (all_df['week']==r['week']), 'price_last_curr_diff'] = all_df[(all_df['center_id']==r['center_id']) & (all_df['meal_id']==r['meal_id']) & (all_df['week']!=r['week'])]['price_last_curr_diff'].mean()"
      ],
      "execution_count": 0,
      "outputs": []
    },
    {
      "cell_type": "code",
      "metadata": {
        "colab_type": "code",
        "id": "F7LeqXmk7kT7",
        "colab": {}
      },
      "source": [
        "all_df['price_last_curr_diff'] = all_df['price_last_curr_diff'].fillna(0)"
      ],
      "execution_count": 0,
      "outputs": []
    },
    {
      "cell_type": "code",
      "metadata": {
        "colab_type": "code",
        "id": "2JHEzIG17kT-",
        "colab": {}
      },
      "source": [
        "all_df['price_increase'] = (all_df['price_last_curr_diff'] < 0).astype(int)"
      ],
      "execution_count": 0,
      "outputs": []
    },
    {
      "cell_type": "code",
      "metadata": {
        "colab_type": "code",
        "id": "gyz3LtsH7kUX",
        "outputId": "07d33c59-7401-4013-8829-1ccdd2aabdc2",
        "colab": {
          "base_uri": "https://localhost:8080/",
          "height": 222
        }
      },
      "source": [
        "all_df.head()"
      ],
      "execution_count": 43,
      "outputs": [
        {
          "output_type": "execute_result",
          "data": {
            "text/html": [
              "<div>\n",
              "<style scoped>\n",
              "    .dataframe tbody tr th:only-of-type {\n",
              "        vertical-align: middle;\n",
              "    }\n",
              "\n",
              "    .dataframe tbody tr th {\n",
              "        vertical-align: top;\n",
              "    }\n",
              "\n",
              "    .dataframe thead th {\n",
              "        text-align: right;\n",
              "    }\n",
              "</style>\n",
              "<table border=\"1\" class=\"dataframe\">\n",
              "  <thead>\n",
              "    <tr style=\"text-align: right;\">\n",
              "      <th></th>\n",
              "      <th>id</th>\n",
              "      <th>week</th>\n",
              "      <th>center_id</th>\n",
              "      <th>meal_id</th>\n",
              "      <th>checkout_price</th>\n",
              "      <th>base_price</th>\n",
              "      <th>emailer_for_promotion</th>\n",
              "      <th>homepage_featured</th>\n",
              "      <th>num_orders</th>\n",
              "      <th>city_code</th>\n",
              "      <th>region_code</th>\n",
              "      <th>center_type</th>\n",
              "      <th>op_area</th>\n",
              "      <th>category</th>\n",
              "      <th>cuisine</th>\n",
              "      <th>train_or_test</th>\n",
              "      <th>discount_on_base</th>\n",
              "      <th>neg_discount</th>\n",
              "      <th>price_last_curr_diff</th>\n",
              "      <th>price_increase</th>\n",
              "    </tr>\n",
              "  </thead>\n",
              "  <tbody>\n",
              "    <tr>\n",
              "      <th>0</th>\n",
              "      <td>1436842</td>\n",
              "      <td>1</td>\n",
              "      <td>10</td>\n",
              "      <td>1062</td>\n",
              "      <td>5.206147</td>\n",
              "      <td>5.206147</td>\n",
              "      <td>0</td>\n",
              "      <td>0</td>\n",
              "      <td>6.763885</td>\n",
              "      <td>590</td>\n",
              "      <td>56</td>\n",
              "      <td>TYPE_B</td>\n",
              "      <td>6.3</td>\n",
              "      <td>Beverages</td>\n",
              "      <td>Italian</td>\n",
              "      <td>train</td>\n",
              "      <td>0.000000</td>\n",
              "      <td>0</td>\n",
              "      <td>0.000086</td>\n",
              "      <td>0</td>\n",
              "    </tr>\n",
              "    <tr>\n",
              "      <th>1</th>\n",
              "      <td>1205013</td>\n",
              "      <td>2</td>\n",
              "      <td>10</td>\n",
              "      <td>1062</td>\n",
              "      <td>5.216890</td>\n",
              "      <td>5.211451</td>\n",
              "      <td>0</td>\n",
              "      <td>0</td>\n",
              "      <td>6.663133</td>\n",
              "      <td>590</td>\n",
              "      <td>56</td>\n",
              "      <td>TYPE_B</td>\n",
              "      <td>6.3</td>\n",
              "      <td>Beverages</td>\n",
              "      <td>Italian</td>\n",
              "      <td>train</td>\n",
              "      <td>-0.001044</td>\n",
              "      <td>1</td>\n",
              "      <td>-0.002064</td>\n",
              "      <td>1</td>\n",
              "    </tr>\n",
              "    <tr>\n",
              "      <th>2</th>\n",
              "      <td>1447751</td>\n",
              "      <td>3</td>\n",
              "      <td>10</td>\n",
              "      <td>1062</td>\n",
              "      <td>5.222300</td>\n",
              "      <td>5.211451</td>\n",
              "      <td>0</td>\n",
              "      <td>0</td>\n",
              "      <td>6.747587</td>\n",
              "      <td>590</td>\n",
              "      <td>56</td>\n",
              "      <td>TYPE_B</td>\n",
              "      <td>6.3</td>\n",
              "      <td>Beverages</td>\n",
              "      <td>Italian</td>\n",
              "      <td>train</td>\n",
              "      <td>-0.002082</td>\n",
              "      <td>1</td>\n",
              "      <td>-0.001037</td>\n",
              "      <td>1</td>\n",
              "    </tr>\n",
              "    <tr>\n",
              "      <th>3</th>\n",
              "      <td>1014968</td>\n",
              "      <td>4</td>\n",
              "      <td>10</td>\n",
              "      <td>1062</td>\n",
              "      <td>5.211451</td>\n",
              "      <td>5.216890</td>\n",
              "      <td>0</td>\n",
              "      <td>0</td>\n",
              "      <td>7.092574</td>\n",
              "      <td>590</td>\n",
              "      <td>56</td>\n",
              "      <td>TYPE_B</td>\n",
              "      <td>6.3</td>\n",
              "      <td>Beverages</td>\n",
              "      <td>Italian</td>\n",
              "      <td>train</td>\n",
              "      <td>0.001043</td>\n",
              "      <td>0</td>\n",
              "      <td>0.002077</td>\n",
              "      <td>0</td>\n",
              "    </tr>\n",
              "    <tr>\n",
              "      <th>4</th>\n",
              "      <td>1003563</td>\n",
              "      <td>5</td>\n",
              "      <td>10</td>\n",
              "      <td>1062</td>\n",
              "      <td>5.217053</td>\n",
              "      <td>5.206147</td>\n",
              "      <td>0</td>\n",
              "      <td>0</td>\n",
              "      <td>6.865891</td>\n",
              "      <td>590</td>\n",
              "      <td>56</td>\n",
              "      <td>TYPE_B</td>\n",
              "      <td>6.3</td>\n",
              "      <td>Beverages</td>\n",
              "      <td>Italian</td>\n",
              "      <td>train</td>\n",
              "      <td>-0.002095</td>\n",
              "      <td>1</td>\n",
              "      <td>-0.001075</td>\n",
              "      <td>1</td>\n",
              "    </tr>\n",
              "  </tbody>\n",
              "</table>\n",
              "</div>"
            ],
            "text/plain": [
              "        id  week  center_id  ...  neg_discount  price_last_curr_diff  price_increase\n",
              "0  1436842     1         10  ...             0              0.000086               0\n",
              "1  1205013     2         10  ...             1             -0.002064               1\n",
              "2  1447751     3         10  ...             1             -0.001037               1\n",
              "3  1014968     4         10  ...             0              0.002077               0\n",
              "4  1003563     5         10  ...             1             -0.001075               1\n",
              "\n",
              "[5 rows x 20 columns]"
            ]
          },
          "metadata": {
            "tags": []
          },
          "execution_count": 43
        }
      ]
    },
    {
      "cell_type": "markdown",
      "metadata": {
        "colab_type": "text",
        "id": "dFDVjtZx7kU3"
      },
      "source": [
        "#### Some functions to create aggregated, rolling mean/median, and exponentially weighted features.\n"
      ]
    },
    {
      "cell_type": "code",
      "metadata": {
        "id": "yZvwcJYkcrOr",
        "colab_type": "code",
        "colab": {}
      },
      "source": [
        "# Monthwise aggregated sales values\n",
        "def create_sales_agg_monthwise_features(df, gpby_cols, target_col, agg_funcs):\n",
        "    '''\n",
        "    Creates various sales agg features with given agg functions  \n",
        "    '''\n",
        "    gpby = df.groupby(gpby_cols)\n",
        "    newdf = df[gpby_cols].drop_duplicates().reset_index(drop=True)\n",
        "    for agg_name, agg_func in agg_funcs.items():\n",
        "        aggdf = gpby[target_col].agg(agg_func).reset_index()\n",
        "        aggdf.rename(columns={target_col:target_col+'_'+agg_name}, inplace=True)\n",
        "        newdf = newdf.merge(aggdf, on=gpby_cols, how='left')\n",
        "    return newdf"
      ],
      "execution_count": 0,
      "outputs": []
    },
    {
      "cell_type": "code",
      "metadata": {
        "colab_type": "code",
        "id": "AamBqWtd7kU7",
        "colab": {}
      },
      "source": [
        "# Features constructed from previous sales values\n",
        "\n",
        "#Creating sales lag features\n",
        "def create_sales_lag_feats(df, gpby_cols, target_col, lags):\n",
        "    gpby = df.groupby(gpby_cols)\n",
        "    for i in lags:\n",
        "        df['_'.join([target_col, 'lag', str(i)])] = \\\n",
        "                gpby[target_col].shift(i).values + np.random.normal(scale=1.6, size=(len(df),))\n",
        "    return df\n",
        "\n",
        "\n",
        "# Creating sales rolling mean features\n",
        "def create_sales_rmean_feats(df, gpby_cols, target_col, windows, min_periods=2, \n",
        "                             shift=1, win_type=None):\n",
        "    gpby = df.groupby(gpby_cols)\n",
        "    for w in windows:\n",
        "        df['_'.join([target_col, 'rmean', str(w)])] = \\\n",
        "            gpby[target_col].shift(shift).rolling(window=w, \n",
        "                                                  min_periods=min_periods,\n",
        "                                                  win_type=win_type).mean().values +\\\n",
        "            np.random.normal(scale=1.6, size=(len(df),))\n",
        "    return df\n",
        "\n",
        "\n",
        "# Creating sales rolling median features\n",
        "def create_sales_rmed_feats(df, gpby_cols, target_col, windows, min_periods=2, \n",
        "                            shift=1, win_type=None):\n",
        "    gpby = df.groupby(gpby_cols)\n",
        "    for w in windows:\n",
        "        df['_'.join([target_col, 'rmed', str(w)])] = \\\n",
        "            gpby[target_col].shift(shift).rolling(window=w, \n",
        "                                                  min_periods=min_periods,\n",
        "                                                  win_type=win_type).median().values +\\\n",
        "            np.random.normal(scale=1.6, size=(len(df),))\n",
        "    return df\n",
        "\n",
        "# Creating sales exponentially weighted mean features\n",
        "def create_sales_ewm_feats(df, gpby_cols, target_col, alpha=[0.9], shift=[1]):\n",
        "    gpby = df.groupby(gpby_cols)\n",
        "    for a in alpha:\n",
        "        for s in shift:\n",
        "            df['_'.join([target_col, 'lag', str(s), 'ewm', str(a)])] = \\\n",
        "                gpby[target_col].shift(s).ewm(alpha=a).mean().values\n",
        "    return df"
      ],
      "execution_count": 0,
      "outputs": []
    },
    {
      "cell_type": "code",
      "metadata": {
        "colab_type": "code",
        "id": "6P68BOBU7kU9",
        "colab": {}
      },
      "source": [
        "def one_hot_encoder(df, ohe_cols):\n",
        "    '''\n",
        "    One-Hot Encoder function\n",
        "    '''\n",
        "    print('Creating OHE features..\\nOld df shape:{}'.format(df.shape))\n",
        "    df = pd.get_dummies(df, columns=ohe_cols)\n",
        "    print('New df shape:{}'.format(df.shape))\n",
        "    return df"
      ],
      "execution_count": 0,
      "outputs": []
    },
    {
      "cell_type": "code",
      "metadata": {
        "colab_type": "code",
        "id": "kwc4SNbZ7kVC",
        "colab": {}
      },
      "source": [
        "# # Creating num_orders lag, rolling mean, rolling median, ohe features of the above train set\n",
        "all_df = create_sales_lag_feats(all_df, gpby_cols=['center_id','meal_id'], target_col='num_orders', \n",
        "                               lags=[10,11, 12])\n",
        "\n",
        "## all_df = create_sales_rmean_feats(all_df, gpby_cols=['center_id','meal_id'], \n",
        "##                                 target_col='num_orders', windows=[26,52,104], \n",
        "##                                 min_periods=3, win_type='triang')\n",
        "\n",
        "## all_df = create_sales_rmed_feats(all_df, gpby_cols=['center_id','meal_id'], \n",
        "##                                 target_col='num_orders', windows=[26,52,104], \n",
        "##                                 min_periods=3, win_type=None)\n",
        "\n",
        "all_df = create_sales_ewm_feats(all_df, gpby_cols=['center_id','meal_id'], \n",
        "                               target_col='num_orders', \n",
        "                               alpha=[0.5], \n",
        "                               shift=[10,11,12,13,14,15])\n"
      ],
      "execution_count": 0,
      "outputs": []
    },
    {
      "cell_type": "code",
      "metadata": {
        "colab_type": "code",
        "id": "YHGQCo9_7kVZ",
        "outputId": "68de025e-14c4-4c60-ba20-d4a513e7fbca",
        "colab": {
          "base_uri": "https://localhost:8080/",
          "height": 35
        }
      },
      "source": [
        "all_df.shape"
      ],
      "execution_count": 48,
      "outputs": [
        {
          "output_type": "execute_result",
          "data": {
            "text/plain": [
              "(489121, 29)"
            ]
          },
          "metadata": {
            "tags": []
          },
          "execution_count": 48
        }
      ]
    },
    {
      "cell_type": "code",
      "metadata": {
        "colab_type": "code",
        "id": "yvo0a1dJ7kVp",
        "outputId": "fe00a85a-9543-42a7-a7b6-b1d17b4f766a",
        "colab": {
          "base_uri": "https://localhost:8080/",
          "height": 251
        }
      },
      "source": [
        "show_all(all_df, 5, None)"
      ],
      "execution_count": 49,
      "outputs": [
        {
          "output_type": "display_data",
          "data": {
            "text/html": [
              "<div>\n",
              "<style scoped>\n",
              "    .dataframe tbody tr th:only-of-type {\n",
              "        vertical-align: middle;\n",
              "    }\n",
              "\n",
              "    .dataframe tbody tr th {\n",
              "        vertical-align: top;\n",
              "    }\n",
              "\n",
              "    .dataframe thead th {\n",
              "        text-align: right;\n",
              "    }\n",
              "</style>\n",
              "<table border=\"1\" class=\"dataframe\">\n",
              "  <thead>\n",
              "    <tr style=\"text-align: right;\">\n",
              "      <th></th>\n",
              "      <th>id</th>\n",
              "      <th>week</th>\n",
              "      <th>center_id</th>\n",
              "      <th>meal_id</th>\n",
              "      <th>checkout_price</th>\n",
              "      <th>base_price</th>\n",
              "      <th>emailer_for_promotion</th>\n",
              "      <th>homepage_featured</th>\n",
              "      <th>num_orders</th>\n",
              "      <th>city_code</th>\n",
              "      <th>region_code</th>\n",
              "      <th>center_type</th>\n",
              "      <th>op_area</th>\n",
              "      <th>category</th>\n",
              "      <th>cuisine</th>\n",
              "      <th>train_or_test</th>\n",
              "      <th>discount_on_base</th>\n",
              "      <th>neg_discount</th>\n",
              "      <th>price_last_curr_diff</th>\n",
              "      <th>price_increase</th>\n",
              "      <th>num_orders_lag_10</th>\n",
              "      <th>num_orders_lag_11</th>\n",
              "      <th>num_orders_lag_12</th>\n",
              "      <th>num_orders_lag_10_ewm_0.5</th>\n",
              "      <th>num_orders_lag_11_ewm_0.5</th>\n",
              "      <th>num_orders_lag_12_ewm_0.5</th>\n",
              "      <th>num_orders_lag_13_ewm_0.5</th>\n",
              "      <th>num_orders_lag_14_ewm_0.5</th>\n",
              "      <th>num_orders_lag_15_ewm_0.5</th>\n",
              "    </tr>\n",
              "  </thead>\n",
              "  <tbody>\n",
              "    <tr>\n",
              "      <th>0</th>\n",
              "      <td>1436842</td>\n",
              "      <td>1</td>\n",
              "      <td>10</td>\n",
              "      <td>1062</td>\n",
              "      <td>5.206147</td>\n",
              "      <td>5.206147</td>\n",
              "      <td>0</td>\n",
              "      <td>0</td>\n",
              "      <td>6.763885</td>\n",
              "      <td>590</td>\n",
              "      <td>56</td>\n",
              "      <td>TYPE_B</td>\n",
              "      <td>6.3</td>\n",
              "      <td>Beverages</td>\n",
              "      <td>Italian</td>\n",
              "      <td>train</td>\n",
              "      <td>0.000000</td>\n",
              "      <td>0</td>\n",
              "      <td>0.000086</td>\n",
              "      <td>0</td>\n",
              "      <td>NaN</td>\n",
              "      <td>NaN</td>\n",
              "      <td>NaN</td>\n",
              "      <td>NaN</td>\n",
              "      <td>NaN</td>\n",
              "      <td>NaN</td>\n",
              "      <td>NaN</td>\n",
              "      <td>NaN</td>\n",
              "      <td>NaN</td>\n",
              "    </tr>\n",
              "    <tr>\n",
              "      <th>1</th>\n",
              "      <td>1205013</td>\n",
              "      <td>2</td>\n",
              "      <td>10</td>\n",
              "      <td>1062</td>\n",
              "      <td>5.216890</td>\n",
              "      <td>5.211451</td>\n",
              "      <td>0</td>\n",
              "      <td>0</td>\n",
              "      <td>6.663133</td>\n",
              "      <td>590</td>\n",
              "      <td>56</td>\n",
              "      <td>TYPE_B</td>\n",
              "      <td>6.3</td>\n",
              "      <td>Beverages</td>\n",
              "      <td>Italian</td>\n",
              "      <td>train</td>\n",
              "      <td>-0.001044</td>\n",
              "      <td>1</td>\n",
              "      <td>-0.002064</td>\n",
              "      <td>1</td>\n",
              "      <td>NaN</td>\n",
              "      <td>NaN</td>\n",
              "      <td>NaN</td>\n",
              "      <td>NaN</td>\n",
              "      <td>NaN</td>\n",
              "      <td>NaN</td>\n",
              "      <td>NaN</td>\n",
              "      <td>NaN</td>\n",
              "      <td>NaN</td>\n",
              "    </tr>\n",
              "    <tr>\n",
              "      <th>...</th>\n",
              "      <td>...</td>\n",
              "      <td>...</td>\n",
              "      <td>...</td>\n",
              "      <td>...</td>\n",
              "      <td>...</td>\n",
              "      <td>...</td>\n",
              "      <td>...</td>\n",
              "      <td>...</td>\n",
              "      <td>...</td>\n",
              "      <td>...</td>\n",
              "      <td>...</td>\n",
              "      <td>...</td>\n",
              "      <td>...</td>\n",
              "      <td>...</td>\n",
              "      <td>...</td>\n",
              "      <td>...</td>\n",
              "      <td>...</td>\n",
              "      <td>...</td>\n",
              "      <td>...</td>\n",
              "      <td>...</td>\n",
              "      <td>...</td>\n",
              "      <td>...</td>\n",
              "      <td>...</td>\n",
              "      <td>...</td>\n",
              "      <td>...</td>\n",
              "      <td>...</td>\n",
              "      <td>...</td>\n",
              "      <td>...</td>\n",
              "      <td>...</td>\n",
              "    </tr>\n",
              "    <tr>\n",
              "      <th>489119</th>\n",
              "      <td>1429037</td>\n",
              "      <td>115</td>\n",
              "      <td>186</td>\n",
              "      <td>2956</td>\n",
              "      <td>6.366522</td>\n",
              "      <td>6.369952</td>\n",
              "      <td>0</td>\n",
              "      <td>0</td>\n",
              "      <td>2.772589</td>\n",
              "      <td>649</td>\n",
              "      <td>34</td>\n",
              "      <td>TYPE_A</td>\n",
              "      <td>3.4</td>\n",
              "      <td>Fish</td>\n",
              "      <td>Continental</td>\n",
              "      <td>train</td>\n",
              "      <td>0.000539</td>\n",
              "      <td>0</td>\n",
              "      <td>0.000539</td>\n",
              "      <td>0</td>\n",
              "      <td>5.743528</td>\n",
              "      <td>6.457194</td>\n",
              "      <td>2.063513</td>\n",
              "      <td>3.097631</td>\n",
              "      <td>3.556204</td>\n",
              "      <td>3.398836</td>\n",
              "      <td>3.430377</td>\n",
              "      <td>3.564916</td>\n",
              "      <td>3.392163</td>\n",
              "    </tr>\n",
              "    <tr>\n",
              "      <th>489120</th>\n",
              "      <td>1285049</td>\n",
              "      <td>116</td>\n",
              "      <td>186</td>\n",
              "      <td>2956</td>\n",
              "      <td>5.680275</td>\n",
              "      <td>6.368239</td>\n",
              "      <td>0</td>\n",
              "      <td>0</td>\n",
              "      <td>4.812184</td>\n",
              "      <td>649</td>\n",
              "      <td>34</td>\n",
              "      <td>TYPE_A</td>\n",
              "      <td>3.4</td>\n",
              "      <td>Fish</td>\n",
              "      <td>Continental</td>\n",
              "      <td>train</td>\n",
              "      <td>0.108030</td>\n",
              "      <td>0</td>\n",
              "      <td>0.107790</td>\n",
              "      <td>0</td>\n",
              "      <td>5.118660</td>\n",
              "      <td>0.551145</td>\n",
              "      <td>2.161813</td>\n",
              "      <td>3.405601</td>\n",
              "      <td>3.097631</td>\n",
              "      <td>3.556204</td>\n",
              "      <td>3.398836</td>\n",
              "      <td>3.430377</td>\n",
              "      <td>3.564916</td>\n",
              "    </tr>\n",
              "  </tbody>\n",
              "</table>\n",
              "<p>489121 rows × 29 columns</p>\n",
              "</div>"
            ],
            "text/plain": [
              "             id  week  center_id  meal_id  checkout_price  base_price  \\\n",
              "0       1436842     1         10     1062        5.206147    5.206147   \n",
              "1       1205013     2         10     1062        5.216890    5.211451   \n",
              "...         ...   ...        ...      ...             ...         ...   \n",
              "489119  1429037   115        186     2956        6.366522    6.369952   \n",
              "489120  1285049   116        186     2956        5.680275    6.368239   \n",
              "\n",
              "        emailer_for_promotion  homepage_featured  num_orders  city_code  \\\n",
              "0                           0                  0    6.763885        590   \n",
              "1                           0                  0    6.663133        590   \n",
              "...                       ...                ...         ...        ...   \n",
              "489119                      0                  0    2.772589        649   \n",
              "489120                      0                  0    4.812184        649   \n",
              "\n",
              "        region_code center_type  op_area   category      cuisine  \\\n",
              "0                56      TYPE_B      6.3  Beverages      Italian   \n",
              "1                56      TYPE_B      6.3  Beverages      Italian   \n",
              "...             ...         ...      ...        ...          ...   \n",
              "489119           34      TYPE_A      3.4       Fish  Continental   \n",
              "489120           34      TYPE_A      3.4       Fish  Continental   \n",
              "\n",
              "       train_or_test  discount_on_base  neg_discount  price_last_curr_diff  \\\n",
              "0              train          0.000000             0              0.000086   \n",
              "1              train         -0.001044             1             -0.002064   \n",
              "...              ...               ...           ...                   ...   \n",
              "489119         train          0.000539             0              0.000539   \n",
              "489120         train          0.108030             0              0.107790   \n",
              "\n",
              "        price_increase  num_orders_lag_10  num_orders_lag_11  \\\n",
              "0                    0                NaN                NaN   \n",
              "1                    1                NaN                NaN   \n",
              "...                ...                ...                ...   \n",
              "489119               0           5.743528           6.457194   \n",
              "489120               0           5.118660           0.551145   \n",
              "\n",
              "        num_orders_lag_12  num_orders_lag_10_ewm_0.5  \\\n",
              "0                     NaN                        NaN   \n",
              "1                     NaN                        NaN   \n",
              "...                   ...                        ...   \n",
              "489119           2.063513                   3.097631   \n",
              "489120           2.161813                   3.405601   \n",
              "\n",
              "        num_orders_lag_11_ewm_0.5  num_orders_lag_12_ewm_0.5  \\\n",
              "0                             NaN                        NaN   \n",
              "1                             NaN                        NaN   \n",
              "...                           ...                        ...   \n",
              "489119                   3.556204                   3.398836   \n",
              "489120                   3.097631                   3.556204   \n",
              "\n",
              "        num_orders_lag_13_ewm_0.5  num_orders_lag_14_ewm_0.5  \\\n",
              "0                             NaN                        NaN   \n",
              "1                             NaN                        NaN   \n",
              "...                           ...                        ...   \n",
              "489119                   3.430377                   3.564916   \n",
              "489120                   3.398836                   3.430377   \n",
              "\n",
              "        num_orders_lag_15_ewm_0.5  \n",
              "0                             NaN  \n",
              "1                             NaN  \n",
              "...                           ...  \n",
              "489119                   3.392163  \n",
              "489120                   3.564916  \n",
              "\n",
              "[489121 rows x 29 columns]"
            ]
          },
          "metadata": {
            "tags": []
          }
        }
      ]
    },
    {
      "cell_type": "code",
      "metadata": {
        "colab_type": "code",
        "id": "u2qcWb-j7kVv",
        "colab": {}
      },
      "source": [
        "trn = all_df.loc[all_df['train_or_test']=='train', :]\n",
        "test = all_df.loc[all_df['train_or_test']=='test', :]"
      ],
      "execution_count": 0,
      "outputs": []
    },
    {
      "cell_type": "code",
      "metadata": {
        "colab_type": "code",
        "id": "P0X-hzgj7kVy",
        "outputId": "933b3c32-405c-4efa-82d4-644774cbd0b1",
        "colab": {
          "base_uri": "https://localhost:8080/",
          "height": 35
        }
      },
      "source": [
        "trn.shape"
      ],
      "execution_count": 51,
      "outputs": [
        {
          "output_type": "execute_result",
          "data": {
            "text/plain": [
              "(456548, 29)"
            ]
          },
          "metadata": {
            "tags": []
          },
          "execution_count": 51
        }
      ]
    },
    {
      "cell_type": "code",
      "metadata": {
        "colab_type": "code",
        "id": "pHgLmVs-7kV-",
        "outputId": "9886ad6e-5ebe-4d81-f690-468d66d4ae58",
        "colab": {
          "base_uri": "https://localhost:8080/",
          "height": 35
        }
      },
      "source": [
        "test.shape"
      ],
      "execution_count": 52,
      "outputs": [
        {
          "output_type": "execute_result",
          "data": {
            "text/plain": [
              "(32573, 29)"
            ]
          },
          "metadata": {
            "tags": []
          },
          "execution_count": 52
        }
      ]
    },
    {
      "cell_type": "code",
      "metadata": {
        "colab_type": "code",
        "id": "gfij1Aar7kWU",
        "outputId": "de0b99ca-8bbb-4b41-f1b3-95e013c39e4e",
        "colab": {
          "base_uri": "https://localhost:8080/",
          "height": 537
        }
      },
      "source": [
        "trn.isnull().sum()"
      ],
      "execution_count": 53,
      "outputs": [
        {
          "output_type": "execute_result",
          "data": {
            "text/plain": [
              "id                               0\n",
              "week                             0\n",
              "center_id                        0\n",
              "meal_id                          0\n",
              "checkout_price                   0\n",
              "base_price                       0\n",
              "emailer_for_promotion            0\n",
              "homepage_featured                0\n",
              "num_orders                       0\n",
              "city_code                        0\n",
              "region_code                      0\n",
              "center_type                      0\n",
              "op_area                          0\n",
              "category                         0\n",
              "cuisine                          0\n",
              "train_or_test                    0\n",
              "discount_on_base                 0\n",
              "neg_discount                     0\n",
              "price_last_curr_diff             0\n",
              "price_increase                   0\n",
              "num_orders_lag_10            35843\n",
              "num_orders_lag_11            39412\n",
              "num_orders_lag_12            42980\n",
              "num_orders_lag_10_ewm_0.5       10\n",
              "num_orders_lag_11_ewm_0.5       11\n",
              "num_orders_lag_12_ewm_0.5       12\n",
              "num_orders_lag_13_ewm_0.5       13\n",
              "num_orders_lag_14_ewm_0.5       14\n",
              "num_orders_lag_15_ewm_0.5       15\n",
              "dtype: int64"
            ]
          },
          "metadata": {
            "tags": []
          },
          "execution_count": 53
        }
      ]
    },
    {
      "cell_type": "markdown",
      "metadata": {
        "colab_type": "text",
        "id": "Iq5-zOqi7kWX"
      },
      "source": [
        "### Catboost"
      ]
    },
    {
      "cell_type": "code",
      "metadata": {
        "colab_type": "code",
        "id": "5UCMCvsI7kWX",
        "colab": {}
      },
      "source": [
        "avoid_columns1 = ['id', 'num_orders', 'train_or_test', 'checkout_price', 'base_price', 'city_code', 'region_code', 'center_type', '']"
      ],
      "execution_count": 0,
      "outputs": []
    },
    {
      "cell_type": "code",
      "metadata": {
        "colab_type": "code",
        "id": "Kcw7yUIX7kWZ",
        "colab": {}
      },
      "source": [
        "features1 = [col for col in test.columns if col not in avoid_columns1]"
      ],
      "execution_count": 0,
      "outputs": []
    },
    {
      "cell_type": "code",
      "metadata": {
        "colab_type": "code",
        "id": "NiL0jKAjDasm",
        "outputId": "c8396c08-00bd-41a5-eec3-2fda62c1a24c",
        "colab": {
          "base_uri": "https://localhost:8080/",
          "height": 381
        }
      },
      "source": [
        "features1"
      ],
      "execution_count": 56,
      "outputs": [
        {
          "output_type": "execute_result",
          "data": {
            "text/plain": [
              "['week',\n",
              " 'center_id',\n",
              " 'meal_id',\n",
              " 'emailer_for_promotion',\n",
              " 'homepage_featured',\n",
              " 'op_area',\n",
              " 'category',\n",
              " 'cuisine',\n",
              " 'discount_on_base',\n",
              " 'neg_discount',\n",
              " 'price_last_curr_diff',\n",
              " 'price_increase',\n",
              " 'num_orders_lag_10',\n",
              " 'num_orders_lag_11',\n",
              " 'num_orders_lag_12',\n",
              " 'num_orders_lag_10_ewm_0.5',\n",
              " 'num_orders_lag_11_ewm_0.5',\n",
              " 'num_orders_lag_12_ewm_0.5',\n",
              " 'num_orders_lag_13_ewm_0.5',\n",
              " 'num_orders_lag_14_ewm_0.5',\n",
              " 'num_orders_lag_15_ewm_0.5']"
            ]
          },
          "metadata": {
            "tags": []
          },
          "execution_count": 56
        }
      ]
    },
    {
      "cell_type": "code",
      "metadata": {
        "colab_type": "code",
        "id": "U8Q9_JJq7kWc",
        "colab": {}
      },
      "source": [
        "cat_ind1 = [1, 2, 3, 4, 6, 7, 9, 11]"
      ],
      "execution_count": 0,
      "outputs": []
    },
    {
      "cell_type": "code",
      "metadata": {
        "colab_type": "code",
        "id": "GJuUz2mm7kWg",
        "colab": {}
      },
      "source": [
        "cat_rg1 = cb.CatBoostRegressor(iterations=625, learning_rate=0.06, depth=8, l2_leaf_reg=10, loss_function='RMSE', random_seed=2018)"
      ],
      "execution_count": 0,
      "outputs": []
    },
    {
      "cell_type": "code",
      "metadata": {
        "colab_type": "code",
        "id": "J_v4PJPl7kWh",
        "outputId": "fed9eb56-0852-411f-a3f1-4d6cf07555d1",
        "scrolled": true,
        "colab": {
          "base_uri": "https://localhost:8080/",
          "height": 1000
        }
      },
      "source": [
        "cat_rg1.fit(X=trn[features1], y=trn['num_orders'], cat_features=cat_ind1, verbose=True)"
      ],
      "execution_count": 59,
      "outputs": [
        {
          "output_type": "stream",
          "text": [
            "0:\tlearn: 1.1544189\ttotal: 739ms\tremaining: 7m 41s\n",
            "1:\tlearn: 1.1092704\ttotal: 1.27s\tremaining: 6m 36s\n",
            "2:\tlearn: 1.0678288\ttotal: 1.83s\tremaining: 6m 19s\n",
            "3:\tlearn: 1.0292639\ttotal: 2.31s\tremaining: 5m 58s\n",
            "4:\tlearn: 0.9938776\ttotal: 2.82s\tremaining: 5m 49s\n",
            "5:\tlearn: 0.9609287\ttotal: 3.31s\tremaining: 5m 41s\n",
            "6:\tlearn: 0.9306646\ttotal: 3.84s\tremaining: 5m 39s\n",
            "7:\tlearn: 0.9026013\ttotal: 4.39s\tremaining: 5m 38s\n",
            "8:\tlearn: 0.8766736\ttotal: 4.94s\tremaining: 5m 38s\n",
            "9:\tlearn: 0.8524774\ttotal: 5.45s\tremaining: 5m 35s\n",
            "10:\tlearn: 0.8304854\ttotal: 5.97s\tremaining: 5m 33s\n",
            "11:\tlearn: 0.8102553\ttotal: 6.51s\tremaining: 5m 32s\n",
            "12:\tlearn: 0.7912245\ttotal: 7.07s\tremaining: 5m 32s\n",
            "13:\tlearn: 0.7737874\ttotal: 7.62s\tremaining: 5m 32s\n",
            "14:\tlearn: 0.7581064\ttotal: 8.15s\tremaining: 5m 31s\n",
            "15:\tlearn: 0.7434373\ttotal: 8.69s\tremaining: 5m 30s\n",
            "16:\tlearn: 0.7298781\ttotal: 9.21s\tremaining: 5m 29s\n",
            "17:\tlearn: 0.7175271\ttotal: 9.71s\tremaining: 5m 27s\n",
            "18:\tlearn: 0.7063954\ttotal: 10.2s\tremaining: 5m 26s\n",
            "19:\tlearn: 0.6949989\ttotal: 10.8s\tremaining: 5m 25s\n",
            "20:\tlearn: 0.6844574\ttotal: 11.2s\tremaining: 5m 22s\n",
            "21:\tlearn: 0.6750637\ttotal: 11.7s\tremaining: 5m 20s\n",
            "22:\tlearn: 0.6664240\ttotal: 12.1s\tremaining: 5m 16s\n",
            "23:\tlearn: 0.6583699\ttotal: 12.5s\tremaining: 5m 13s\n",
            "24:\tlearn: 0.6511431\ttotal: 13.1s\tremaining: 5m 13s\n",
            "25:\tlearn: 0.6443088\ttotal: 13.5s\tremaining: 5m 10s\n",
            "26:\tlearn: 0.6382477\ttotal: 14s\tremaining: 5m 9s\n",
            "27:\tlearn: 0.6328457\ttotal: 14.4s\tremaining: 5m 6s\n",
            "28:\tlearn: 0.6273978\ttotal: 14.8s\tremaining: 5m 5s\n",
            "29:\tlearn: 0.6224134\ttotal: 15.3s\tremaining: 5m 2s\n",
            "30:\tlearn: 0.6175760\ttotal: 15.7s\tremaining: 5m 1s\n",
            "31:\tlearn: 0.6128135\ttotal: 16.2s\tremaining: 5m\n",
            "32:\tlearn: 0.6085112\ttotal: 16.7s\tremaining: 4m 59s\n",
            "33:\tlearn: 0.6050209\ttotal: 17.1s\tremaining: 4m 57s\n",
            "34:\tlearn: 0.6015037\ttotal: 17.6s\tremaining: 4m 56s\n",
            "35:\tlearn: 0.5984837\ttotal: 18s\tremaining: 4m 55s\n",
            "36:\tlearn: 0.5957500\ttotal: 18.5s\tremaining: 4m 53s\n",
            "37:\tlearn: 0.5928952\ttotal: 19s\tremaining: 4m 52s\n",
            "38:\tlearn: 0.5904446\ttotal: 19.4s\tremaining: 4m 51s\n",
            "39:\tlearn: 0.5882277\ttotal: 19.8s\tremaining: 4m 50s\n",
            "40:\tlearn: 0.5861776\ttotal: 20.3s\tremaining: 4m 48s\n",
            "41:\tlearn: 0.5842454\ttotal: 20.8s\tremaining: 4m 48s\n",
            "42:\tlearn: 0.5816229\ttotal: 21.3s\tremaining: 4m 48s\n",
            "43:\tlearn: 0.5790208\ttotal: 21.8s\tremaining: 4m 47s\n",
            "44:\tlearn: 0.5765427\ttotal: 22.2s\tremaining: 4m 46s\n",
            "45:\tlearn: 0.5747992\ttotal: 22.7s\tremaining: 4m 46s\n",
            "46:\tlearn: 0.5727455\ttotal: 23.2s\tremaining: 4m 45s\n",
            "47:\tlearn: 0.5704961\ttotal: 23.7s\tremaining: 4m 44s\n",
            "48:\tlearn: 0.5689157\ttotal: 24.2s\tremaining: 4m 43s\n",
            "49:\tlearn: 0.5677177\ttotal: 24.7s\tremaining: 4m 43s\n",
            "50:\tlearn: 0.5660172\ttotal: 25.1s\tremaining: 4m 42s\n",
            "51:\tlearn: 0.5646554\ttotal: 25.6s\tremaining: 4m 41s\n",
            "52:\tlearn: 0.5634398\ttotal: 26s\tremaining: 4m 40s\n",
            "53:\tlearn: 0.5620575\ttotal: 26.5s\tremaining: 4m 40s\n",
            "54:\tlearn: 0.5609501\ttotal: 27s\tremaining: 4m 39s\n",
            "55:\tlearn: 0.5596531\ttotal: 27.4s\tremaining: 4m 38s\n",
            "56:\tlearn: 0.5582780\ttotal: 28s\tremaining: 4m 38s\n",
            "57:\tlearn: 0.5571686\ttotal: 28.4s\tremaining: 4m 37s\n",
            "58:\tlearn: 0.5564769\ttotal: 28.9s\tremaining: 4m 37s\n",
            "59:\tlearn: 0.5558843\ttotal: 29.4s\tremaining: 4m 36s\n",
            "60:\tlearn: 0.5550422\ttotal: 29.9s\tremaining: 4m 36s\n",
            "61:\tlearn: 0.5544011\ttotal: 30.5s\tremaining: 4m 36s\n",
            "62:\tlearn: 0.5536029\ttotal: 31s\tremaining: 4m 36s\n",
            "63:\tlearn: 0.5526952\ttotal: 31.4s\tremaining: 4m 35s\n",
            "64:\tlearn: 0.5521570\ttotal: 32s\tremaining: 4m 35s\n",
            "65:\tlearn: 0.5515078\ttotal: 32.4s\tremaining: 4m 34s\n",
            "66:\tlearn: 0.5507578\ttotal: 32.9s\tremaining: 4m 33s\n",
            "67:\tlearn: 0.5501991\ttotal: 33.4s\tremaining: 4m 33s\n",
            "68:\tlearn: 0.5496334\ttotal: 33.9s\tremaining: 4m 33s\n",
            "69:\tlearn: 0.5487855\ttotal: 34.4s\tremaining: 4m 32s\n",
            "70:\tlearn: 0.5481638\ttotal: 34.9s\tremaining: 4m 32s\n",
            "71:\tlearn: 0.5475295\ttotal: 35.3s\tremaining: 4m 31s\n",
            "72:\tlearn: 0.5470672\ttotal: 35.9s\tremaining: 4m 31s\n",
            "73:\tlearn: 0.5462610\ttotal: 36.5s\tremaining: 4m 31s\n",
            "74:\tlearn: 0.5453875\ttotal: 36.9s\tremaining: 4m 30s\n",
            "75:\tlearn: 0.5447953\ttotal: 37.4s\tremaining: 4m 30s\n",
            "76:\tlearn: 0.5442841\ttotal: 37.9s\tremaining: 4m 29s\n",
            "77:\tlearn: 0.5436519\ttotal: 38.3s\tremaining: 4m 28s\n",
            "78:\tlearn: 0.5432903\ttotal: 38.7s\tremaining: 4m 27s\n",
            "79:\tlearn: 0.5429733\ttotal: 39.2s\tremaining: 4m 27s\n",
            "80:\tlearn: 0.5425400\ttotal: 39.7s\tremaining: 4m 26s\n",
            "81:\tlearn: 0.5421601\ttotal: 40.2s\tremaining: 4m 26s\n",
            "82:\tlearn: 0.5417331\ttotal: 40.6s\tremaining: 4m 25s\n",
            "83:\tlearn: 0.5411940\ttotal: 41.1s\tremaining: 4m 24s\n",
            "84:\tlearn: 0.5406804\ttotal: 41.6s\tremaining: 4m 24s\n",
            "85:\tlearn: 0.5402003\ttotal: 42s\tremaining: 4m 23s\n",
            "86:\tlearn: 0.5395937\ttotal: 42.5s\tremaining: 4m 22s\n",
            "87:\tlearn: 0.5391177\ttotal: 42.9s\tremaining: 4m 21s\n",
            "88:\tlearn: 0.5387966\ttotal: 43.4s\tremaining: 4m 21s\n",
            "89:\tlearn: 0.5384913\ttotal: 43.9s\tremaining: 4m 21s\n",
            "90:\tlearn: 0.5381236\ttotal: 44.4s\tremaining: 4m 20s\n",
            "91:\tlearn: 0.5377678\ttotal: 44.9s\tremaining: 4m 20s\n",
            "92:\tlearn: 0.5374849\ttotal: 45.5s\tremaining: 4m 20s\n",
            "93:\tlearn: 0.5370078\ttotal: 45.9s\tremaining: 4m 19s\n",
            "94:\tlearn: 0.5364893\ttotal: 46.3s\tremaining: 4m 18s\n",
            "95:\tlearn: 0.5359702\ttotal: 46.7s\tremaining: 4m 17s\n",
            "96:\tlearn: 0.5355505\ttotal: 47.1s\tremaining: 4m 16s\n",
            "97:\tlearn: 0.5350789\ttotal: 47.6s\tremaining: 4m 16s\n",
            "98:\tlearn: 0.5347981\ttotal: 48.1s\tremaining: 4m 15s\n",
            "99:\tlearn: 0.5345198\ttotal: 48.5s\tremaining: 4m 14s\n",
            "100:\tlearn: 0.5342760\ttotal: 49s\tremaining: 4m 14s\n",
            "101:\tlearn: 0.5338749\ttotal: 49.4s\tremaining: 4m 13s\n",
            "102:\tlearn: 0.5335632\ttotal: 49.9s\tremaining: 4m 12s\n",
            "103:\tlearn: 0.5330411\ttotal: 50.4s\tremaining: 4m 12s\n",
            "104:\tlearn: 0.5326721\ttotal: 50.8s\tremaining: 4m 11s\n",
            "105:\tlearn: 0.5323482\ttotal: 51.2s\tremaining: 4m 10s\n",
            "106:\tlearn: 0.5319973\ttotal: 51.7s\tremaining: 4m 10s\n",
            "107:\tlearn: 0.5316952\ttotal: 52.2s\tremaining: 4m 10s\n",
            "108:\tlearn: 0.5313235\ttotal: 52.7s\tremaining: 4m 9s\n",
            "109:\tlearn: 0.5310428\ttotal: 53.1s\tremaining: 4m 8s\n",
            "110:\tlearn: 0.5305565\ttotal: 53.6s\tremaining: 4m 7s\n",
            "111:\tlearn: 0.5302644\ttotal: 54s\tremaining: 4m 7s\n",
            "112:\tlearn: 0.5299227\ttotal: 54.5s\tremaining: 4m 6s\n",
            "113:\tlearn: 0.5295914\ttotal: 54.9s\tremaining: 4m 5s\n",
            "114:\tlearn: 0.5292605\ttotal: 55.4s\tremaining: 4m 5s\n",
            "115:\tlearn: 0.5290429\ttotal: 55.9s\tremaining: 4m 5s\n",
            "116:\tlearn: 0.5287124\ttotal: 56.5s\tremaining: 4m 5s\n",
            "117:\tlearn: 0.5284798\ttotal: 57s\tremaining: 4m 4s\n",
            "118:\tlearn: 0.5280430\ttotal: 57.5s\tremaining: 4m 4s\n",
            "119:\tlearn: 0.5277508\ttotal: 57.9s\tremaining: 4m 3s\n",
            "120:\tlearn: 0.5275231\ttotal: 58.3s\tremaining: 4m 2s\n",
            "121:\tlearn: 0.5270115\ttotal: 58.9s\tremaining: 4m 2s\n",
            "122:\tlearn: 0.5266728\ttotal: 59.4s\tremaining: 4m 2s\n",
            "123:\tlearn: 0.5263163\ttotal: 59.9s\tremaining: 4m 1s\n",
            "124:\tlearn: 0.5260889\ttotal: 1m\tremaining: 4m 1s\n",
            "125:\tlearn: 0.5258122\ttotal: 1m\tremaining: 4m\n",
            "126:\tlearn: 0.5254523\ttotal: 1m 1s\tremaining: 4m\n",
            "127:\tlearn: 0.5252718\ttotal: 1m 1s\tremaining: 3m 59s\n",
            "128:\tlearn: 0.5249603\ttotal: 1m 2s\tremaining: 3m 59s\n",
            "129:\tlearn: 0.5247847\ttotal: 1m 2s\tremaining: 3m 58s\n",
            "130:\tlearn: 0.5246126\ttotal: 1m 3s\tremaining: 3m 58s\n",
            "131:\tlearn: 0.5243868\ttotal: 1m 3s\tremaining: 3m 58s\n",
            "132:\tlearn: 0.5242438\ttotal: 1m 4s\tremaining: 3m 57s\n",
            "133:\tlearn: 0.5239746\ttotal: 1m 4s\tremaining: 3m 57s\n",
            "134:\tlearn: 0.5237655\ttotal: 1m 5s\tremaining: 3m 56s\n",
            "135:\tlearn: 0.5234783\ttotal: 1m 5s\tremaining: 3m 56s\n",
            "136:\tlearn: 0.5233189\ttotal: 1m 6s\tremaining: 3m 55s\n",
            "137:\tlearn: 0.5229852\ttotal: 1m 6s\tremaining: 3m 55s\n",
            "138:\tlearn: 0.5228297\ttotal: 1m 7s\tremaining: 3m 54s\n",
            "139:\tlearn: 0.5226648\ttotal: 1m 7s\tremaining: 3m 54s\n",
            "140:\tlearn: 0.5224593\ttotal: 1m 8s\tremaining: 3m 53s\n",
            "141:\tlearn: 0.5222534\ttotal: 1m 8s\tremaining: 3m 53s\n",
            "142:\tlearn: 0.5220354\ttotal: 1m 9s\tremaining: 3m 52s\n",
            "143:\tlearn: 0.5217334\ttotal: 1m 9s\tremaining: 3m 52s\n",
            "144:\tlearn: 0.5215369\ttotal: 1m 9s\tremaining: 3m 51s\n",
            "145:\tlearn: 0.5213334\ttotal: 1m 10s\tremaining: 3m 51s\n",
            "146:\tlearn: 0.5210652\ttotal: 1m 11s\tremaining: 3m 51s\n",
            "147:\tlearn: 0.5208510\ttotal: 1m 11s\tremaining: 3m 50s\n",
            "148:\tlearn: 0.5206621\ttotal: 1m 12s\tremaining: 3m 50s\n",
            "149:\tlearn: 0.5204906\ttotal: 1m 12s\tremaining: 3m 50s\n",
            "150:\tlearn: 0.5203424\ttotal: 1m 13s\tremaining: 3m 49s\n",
            "151:\tlearn: 0.5201596\ttotal: 1m 13s\tremaining: 3m 49s\n",
            "152:\tlearn: 0.5200182\ttotal: 1m 14s\tremaining: 3m 48s\n",
            "153:\tlearn: 0.5198185\ttotal: 1m 14s\tremaining: 3m 48s\n",
            "154:\tlearn: 0.5196682\ttotal: 1m 15s\tremaining: 3m 47s\n",
            "155:\tlearn: 0.5193959\ttotal: 1m 15s\tremaining: 3m 47s\n",
            "156:\tlearn: 0.5190838\ttotal: 1m 16s\tremaining: 3m 46s\n",
            "157:\tlearn: 0.5188841\ttotal: 1m 16s\tremaining: 3m 46s\n",
            "158:\tlearn: 0.5186579\ttotal: 1m 17s\tremaining: 3m 45s\n",
            "159:\tlearn: 0.5185092\ttotal: 1m 17s\tremaining: 3m 45s\n",
            "160:\tlearn: 0.5183143\ttotal: 1m 18s\tremaining: 3m 44s\n",
            "161:\tlearn: 0.5180931\ttotal: 1m 18s\tremaining: 3m 44s\n",
            "162:\tlearn: 0.5179772\ttotal: 1m 19s\tremaining: 3m 44s\n",
            "163:\tlearn: 0.5177828\ttotal: 1m 19s\tremaining: 3m 43s\n",
            "164:\tlearn: 0.5176016\ttotal: 1m 20s\tremaining: 3m 43s\n",
            "165:\tlearn: 0.5174690\ttotal: 1m 20s\tremaining: 3m 42s\n",
            "166:\tlearn: 0.5173044\ttotal: 1m 21s\tremaining: 3m 42s\n",
            "167:\tlearn: 0.5171307\ttotal: 1m 21s\tremaining: 3m 42s\n",
            "168:\tlearn: 0.5169780\ttotal: 1m 22s\tremaining: 3m 41s\n",
            "169:\tlearn: 0.5168090\ttotal: 1m 22s\tremaining: 3m 41s\n",
            "170:\tlearn: 0.5166971\ttotal: 1m 23s\tremaining: 3m 41s\n",
            "171:\tlearn: 0.5165662\ttotal: 1m 23s\tremaining: 3m 40s\n",
            "172:\tlearn: 0.5164576\ttotal: 1m 24s\tremaining: 3m 40s\n",
            "173:\tlearn: 0.5163189\ttotal: 1m 24s\tremaining: 3m 39s\n",
            "174:\tlearn: 0.5161429\ttotal: 1m 25s\tremaining: 3m 39s\n",
            "175:\tlearn: 0.5159051\ttotal: 1m 25s\tremaining: 3m 38s\n",
            "176:\tlearn: 0.5157481\ttotal: 1m 26s\tremaining: 3m 37s\n",
            "177:\tlearn: 0.5156177\ttotal: 1m 26s\tremaining: 3m 37s\n",
            "178:\tlearn: 0.5153205\ttotal: 1m 27s\tremaining: 3m 37s\n",
            "179:\tlearn: 0.5151480\ttotal: 1m 27s\tremaining: 3m 36s\n",
            "180:\tlearn: 0.5149821\ttotal: 1m 28s\tremaining: 3m 36s\n",
            "181:\tlearn: 0.5148682\ttotal: 1m 28s\tremaining: 3m 35s\n",
            "182:\tlearn: 0.5147786\ttotal: 1m 29s\tremaining: 3m 35s\n",
            "183:\tlearn: 0.5145754\ttotal: 1m 29s\tremaining: 3m 34s\n",
            "184:\tlearn: 0.5143885\ttotal: 1m 30s\tremaining: 3m 34s\n",
            "185:\tlearn: 0.5142443\ttotal: 1m 30s\tremaining: 3m 33s\n",
            "186:\tlearn: 0.5140929\ttotal: 1m 31s\tremaining: 3m 33s\n",
            "187:\tlearn: 0.5138854\ttotal: 1m 31s\tremaining: 3m 32s\n",
            "188:\tlearn: 0.5137743\ttotal: 1m 32s\tremaining: 3m 32s\n",
            "189:\tlearn: 0.5135487\ttotal: 1m 32s\tremaining: 3m 31s\n",
            "190:\tlearn: 0.5132752\ttotal: 1m 33s\tremaining: 3m 31s\n",
            "191:\tlearn: 0.5130888\ttotal: 1m 33s\tremaining: 3m 31s\n",
            "192:\tlearn: 0.5128927\ttotal: 1m 34s\tremaining: 3m 30s\n",
            "193:\tlearn: 0.5128084\ttotal: 1m 34s\tremaining: 3m 30s\n",
            "194:\tlearn: 0.5127271\ttotal: 1m 35s\tremaining: 3m 30s\n",
            "195:\tlearn: 0.5125611\ttotal: 1m 35s\tremaining: 3m 29s\n",
            "196:\tlearn: 0.5124400\ttotal: 1m 36s\tremaining: 3m 29s\n",
            "197:\tlearn: 0.5122934\ttotal: 1m 36s\tremaining: 3m 28s\n",
            "198:\tlearn: 0.5121131\ttotal: 1m 37s\tremaining: 3m 28s\n",
            "199:\tlearn: 0.5119916\ttotal: 1m 37s\tremaining: 3m 28s\n",
            "200:\tlearn: 0.5118517\ttotal: 1m 38s\tremaining: 3m 27s\n",
            "201:\tlearn: 0.5117795\ttotal: 1m 38s\tremaining: 3m 26s\n",
            "202:\tlearn: 0.5116428\ttotal: 1m 39s\tremaining: 3m 26s\n",
            "203:\tlearn: 0.5115108\ttotal: 1m 39s\tremaining: 3m 25s\n",
            "204:\tlearn: 0.5113286\ttotal: 1m 40s\tremaining: 3m 25s\n",
            "205:\tlearn: 0.5109827\ttotal: 1m 40s\tremaining: 3m 25s\n",
            "206:\tlearn: 0.5107289\ttotal: 1m 41s\tremaining: 3m 24s\n",
            "207:\tlearn: 0.5105792\ttotal: 1m 41s\tremaining: 3m 24s\n",
            "208:\tlearn: 0.5104527\ttotal: 1m 42s\tremaining: 3m 23s\n",
            "209:\tlearn: 0.5102893\ttotal: 1m 42s\tremaining: 3m 23s\n",
            "210:\tlearn: 0.5101549\ttotal: 1m 43s\tremaining: 3m 22s\n",
            "211:\tlearn: 0.5099770\ttotal: 1m 43s\tremaining: 3m 22s\n",
            "212:\tlearn: 0.5098914\ttotal: 1m 44s\tremaining: 3m 21s\n",
            "213:\tlearn: 0.5097711\ttotal: 1m 44s\tremaining: 3m 21s\n",
            "214:\tlearn: 0.5096578\ttotal: 1m 45s\tremaining: 3m 20s\n",
            "215:\tlearn: 0.5095437\ttotal: 1m 45s\tremaining: 3m 20s\n",
            "216:\tlearn: 0.5093823\ttotal: 1m 46s\tremaining: 3m 19s\n",
            "217:\tlearn: 0.5092848\ttotal: 1m 46s\tremaining: 3m 19s\n",
            "218:\tlearn: 0.5091949\ttotal: 1m 47s\tremaining: 3m 18s\n",
            "219:\tlearn: 0.5090778\ttotal: 1m 47s\tremaining: 3m 18s\n",
            "220:\tlearn: 0.5089587\ttotal: 1m 47s\tremaining: 3m 17s\n",
            "221:\tlearn: 0.5088709\ttotal: 1m 48s\tremaining: 3m 16s\n",
            "222:\tlearn: 0.5087705\ttotal: 1m 48s\tremaining: 3m 16s\n",
            "223:\tlearn: 0.5085638\ttotal: 1m 49s\tremaining: 3m 15s\n",
            "224:\tlearn: 0.5084270\ttotal: 1m 49s\tremaining: 3m 15s\n",
            "225:\tlearn: 0.5082945\ttotal: 1m 50s\tremaining: 3m 14s\n",
            "226:\tlearn: 0.5081772\ttotal: 1m 50s\tremaining: 3m 14s\n",
            "227:\tlearn: 0.5080519\ttotal: 1m 51s\tremaining: 3m 13s\n",
            "228:\tlearn: 0.5079181\ttotal: 1m 51s\tremaining: 3m 13s\n",
            "229:\tlearn: 0.5078171\ttotal: 1m 52s\tremaining: 3m 13s\n",
            "230:\tlearn: 0.5077322\ttotal: 1m 52s\tremaining: 3m 12s\n",
            "231:\tlearn: 0.5076416\ttotal: 1m 53s\tremaining: 3m 12s\n",
            "232:\tlearn: 0.5075695\ttotal: 1m 53s\tremaining: 3m 11s\n",
            "233:\tlearn: 0.5074365\ttotal: 1m 54s\tremaining: 3m 11s\n",
            "234:\tlearn: 0.5072944\ttotal: 1m 54s\tremaining: 3m 10s\n",
            "235:\tlearn: 0.5071536\ttotal: 1m 55s\tremaining: 3m 10s\n",
            "236:\tlearn: 0.5070876\ttotal: 1m 55s\tremaining: 3m 9s\n",
            "237:\tlearn: 0.5070194\ttotal: 1m 56s\tremaining: 3m 9s\n",
            "238:\tlearn: 0.5069253\ttotal: 1m 56s\tremaining: 3m 8s\n",
            "239:\tlearn: 0.5067752\ttotal: 1m 57s\tremaining: 3m 8s\n",
            "240:\tlearn: 0.5066992\ttotal: 1m 57s\tremaining: 3m 7s\n",
            "241:\tlearn: 0.5065897\ttotal: 1m 58s\tremaining: 3m 6s\n",
            "242:\tlearn: 0.5064741\ttotal: 1m 58s\tremaining: 3m 6s\n",
            "243:\tlearn: 0.5063785\ttotal: 1m 58s\tremaining: 3m 5s\n",
            "244:\tlearn: 0.5062708\ttotal: 1m 59s\tremaining: 3m 4s\n",
            "245:\tlearn: 0.5061492\ttotal: 1m 59s\tremaining: 3m 4s\n",
            "246:\tlearn: 0.5060077\ttotal: 2m\tremaining: 3m 3s\n",
            "247:\tlearn: 0.5059140\ttotal: 2m\tremaining: 3m 3s\n",
            "248:\tlearn: 0.5057068\ttotal: 2m 1s\tremaining: 3m 3s\n",
            "249:\tlearn: 0.5056179\ttotal: 2m 1s\tremaining: 3m 2s\n",
            "250:\tlearn: 0.5055188\ttotal: 2m 2s\tremaining: 3m 2s\n",
            "251:\tlearn: 0.5054021\ttotal: 2m 2s\tremaining: 3m 1s\n",
            "252:\tlearn: 0.5052075\ttotal: 2m 3s\tremaining: 3m 1s\n",
            "253:\tlearn: 0.5050505\ttotal: 2m 3s\tremaining: 3m\n",
            "254:\tlearn: 0.5049633\ttotal: 2m 4s\tremaining: 3m\n",
            "255:\tlearn: 0.5048399\ttotal: 2m 4s\tremaining: 2m 59s\n",
            "256:\tlearn: 0.5046898\ttotal: 2m 5s\tremaining: 2m 59s\n",
            "257:\tlearn: 0.5045802\ttotal: 2m 5s\tremaining: 2m 58s\n",
            "258:\tlearn: 0.5043595\ttotal: 2m 6s\tremaining: 2m 58s\n",
            "259:\tlearn: 0.5042987\ttotal: 2m 6s\tremaining: 2m 58s\n",
            "260:\tlearn: 0.5042072\ttotal: 2m 7s\tremaining: 2m 57s\n",
            "261:\tlearn: 0.5040841\ttotal: 2m 7s\tremaining: 2m 57s\n",
            "262:\tlearn: 0.5040015\ttotal: 2m 8s\tremaining: 2m 56s\n",
            "263:\tlearn: 0.5039010\ttotal: 2m 8s\tremaining: 2m 56s\n",
            "264:\tlearn: 0.5037503\ttotal: 2m 9s\tremaining: 2m 55s\n",
            "265:\tlearn: 0.5036406\ttotal: 2m 9s\tremaining: 2m 55s\n",
            "266:\tlearn: 0.5035700\ttotal: 2m 10s\tremaining: 2m 54s\n",
            "267:\tlearn: 0.5035041\ttotal: 2m 10s\tremaining: 2m 54s\n",
            "268:\tlearn: 0.5033538\ttotal: 2m 11s\tremaining: 2m 53s\n",
            "269:\tlearn: 0.5031704\ttotal: 2m 11s\tremaining: 2m 53s\n",
            "270:\tlearn: 0.5030893\ttotal: 2m 12s\tremaining: 2m 52s\n",
            "271:\tlearn: 0.5029909\ttotal: 2m 12s\tremaining: 2m 52s\n",
            "272:\tlearn: 0.5028240\ttotal: 2m 13s\tremaining: 2m 51s\n",
            "273:\tlearn: 0.5027122\ttotal: 2m 13s\tremaining: 2m 51s\n",
            "274:\tlearn: 0.5026490\ttotal: 2m 14s\tremaining: 2m 50s\n",
            "275:\tlearn: 0.5024451\ttotal: 2m 14s\tremaining: 2m 50s\n",
            "276:\tlearn: 0.5023392\ttotal: 2m 15s\tremaining: 2m 49s\n",
            "277:\tlearn: 0.5022447\ttotal: 2m 15s\tremaining: 2m 49s\n",
            "278:\tlearn: 0.5021636\ttotal: 2m 16s\tremaining: 2m 48s\n",
            "279:\tlearn: 0.5020875\ttotal: 2m 16s\tremaining: 2m 48s\n",
            "280:\tlearn: 0.5020166\ttotal: 2m 17s\tremaining: 2m 48s\n",
            "281:\tlearn: 0.5019105\ttotal: 2m 17s\tremaining: 2m 47s\n",
            "282:\tlearn: 0.5018432\ttotal: 2m 18s\tremaining: 2m 47s\n",
            "283:\tlearn: 0.5017852\ttotal: 2m 18s\tremaining: 2m 46s\n",
            "284:\tlearn: 0.5017110\ttotal: 2m 19s\tremaining: 2m 46s\n",
            "285:\tlearn: 0.5016406\ttotal: 2m 19s\tremaining: 2m 45s\n",
            "286:\tlearn: 0.5015076\ttotal: 2m 20s\tremaining: 2m 45s\n",
            "287:\tlearn: 0.5014560\ttotal: 2m 20s\tremaining: 2m 44s\n",
            "288:\tlearn: 0.5013392\ttotal: 2m 21s\tremaining: 2m 44s\n",
            "289:\tlearn: 0.5012659\ttotal: 2m 21s\tremaining: 2m 43s\n",
            "290:\tlearn: 0.5012030\ttotal: 2m 22s\tremaining: 2m 43s\n",
            "291:\tlearn: 0.5011145\ttotal: 2m 22s\tremaining: 2m 42s\n",
            "292:\tlearn: 0.5010603\ttotal: 2m 23s\tremaining: 2m 42s\n",
            "293:\tlearn: 0.5009446\ttotal: 2m 23s\tremaining: 2m 42s\n",
            "294:\tlearn: 0.5008456\ttotal: 2m 24s\tremaining: 2m 41s\n",
            "295:\tlearn: 0.5007760\ttotal: 2m 24s\tremaining: 2m 41s\n",
            "296:\tlearn: 0.5006929\ttotal: 2m 25s\tremaining: 2m 40s\n",
            "297:\tlearn: 0.5006296\ttotal: 2m 25s\tremaining: 2m 39s\n",
            "298:\tlearn: 0.5005530\ttotal: 2m 26s\tremaining: 2m 39s\n",
            "299:\tlearn: 0.5004725\ttotal: 2m 26s\tremaining: 2m 38s\n",
            "300:\tlearn: 0.5003274\ttotal: 2m 27s\tremaining: 2m 38s\n",
            "301:\tlearn: 0.5002192\ttotal: 2m 27s\tremaining: 2m 38s\n",
            "302:\tlearn: 0.5001666\ttotal: 2m 28s\tremaining: 2m 37s\n",
            "303:\tlearn: 0.5001047\ttotal: 2m 28s\tremaining: 2m 37s\n",
            "304:\tlearn: 0.5000032\ttotal: 2m 29s\tremaining: 2m 36s\n",
            "305:\tlearn: 0.4999223\ttotal: 2m 29s\tremaining: 2m 36s\n",
            "306:\tlearn: 0.4998085\ttotal: 2m 30s\tremaining: 2m 35s\n",
            "307:\tlearn: 0.4997420\ttotal: 2m 30s\tremaining: 2m 35s\n",
            "308:\tlearn: 0.4996769\ttotal: 2m 31s\tremaining: 2m 34s\n",
            "309:\tlearn: 0.4995875\ttotal: 2m 31s\tremaining: 2m 34s\n",
            "310:\tlearn: 0.4995321\ttotal: 2m 32s\tremaining: 2m 33s\n",
            "311:\tlearn: 0.4994244\ttotal: 2m 32s\tremaining: 2m 33s\n",
            "312:\tlearn: 0.4993379\ttotal: 2m 33s\tremaining: 2m 32s\n",
            "313:\tlearn: 0.4992669\ttotal: 2m 33s\tremaining: 2m 32s\n",
            "314:\tlearn: 0.4991990\ttotal: 2m 34s\tremaining: 2m 31s\n",
            "315:\tlearn: 0.4991451\ttotal: 2m 34s\tremaining: 2m 31s\n",
            "316:\tlearn: 0.4990322\ttotal: 2m 35s\tremaining: 2m 30s\n",
            "317:\tlearn: 0.4989654\ttotal: 2m 35s\tremaining: 2m 30s\n",
            "318:\tlearn: 0.4988805\ttotal: 2m 36s\tremaining: 2m 29s\n",
            "319:\tlearn: 0.4988277\ttotal: 2m 36s\tremaining: 2m 29s\n",
            "320:\tlearn: 0.4987353\ttotal: 2m 37s\tremaining: 2m 28s\n",
            "321:\tlearn: 0.4986705\ttotal: 2m 37s\tremaining: 2m 28s\n",
            "322:\tlearn: 0.4985850\ttotal: 2m 38s\tremaining: 2m 28s\n",
            "323:\tlearn: 0.4984774\ttotal: 2m 38s\tremaining: 2m 27s\n",
            "324:\tlearn: 0.4984251\ttotal: 2m 39s\tremaining: 2m 27s\n",
            "325:\tlearn: 0.4983604\ttotal: 2m 39s\tremaining: 2m 26s\n",
            "326:\tlearn: 0.4982937\ttotal: 2m 40s\tremaining: 2m 26s\n",
            "327:\tlearn: 0.4982149\ttotal: 2m 40s\tremaining: 2m 25s\n",
            "328:\tlearn: 0.4981537\ttotal: 2m 41s\tremaining: 2m 25s\n",
            "329:\tlearn: 0.4979658\ttotal: 2m 41s\tremaining: 2m 24s\n",
            "330:\tlearn: 0.4979120\ttotal: 2m 42s\tremaining: 2m 24s\n",
            "331:\tlearn: 0.4977103\ttotal: 2m 42s\tremaining: 2m 23s\n",
            "332:\tlearn: 0.4976673\ttotal: 2m 43s\tremaining: 2m 23s\n",
            "333:\tlearn: 0.4975941\ttotal: 2m 43s\tremaining: 2m 22s\n",
            "334:\tlearn: 0.4975384\ttotal: 2m 44s\tremaining: 2m 22s\n",
            "335:\tlearn: 0.4974673\ttotal: 2m 44s\tremaining: 2m 21s\n",
            "336:\tlearn: 0.4973738\ttotal: 2m 45s\tremaining: 2m 21s\n",
            "337:\tlearn: 0.4973023\ttotal: 2m 45s\tremaining: 2m 20s\n",
            "338:\tlearn: 0.4971585\ttotal: 2m 46s\tremaining: 2m 20s\n",
            "339:\tlearn: 0.4970614\ttotal: 2m 46s\tremaining: 2m 19s\n",
            "340:\tlearn: 0.4969914\ttotal: 2m 47s\tremaining: 2m 19s\n",
            "341:\tlearn: 0.4969159\ttotal: 2m 47s\tremaining: 2m 18s\n",
            "342:\tlearn: 0.4968666\ttotal: 2m 48s\tremaining: 2m 18s\n",
            "343:\tlearn: 0.4967655\ttotal: 2m 48s\tremaining: 2m 17s\n",
            "344:\tlearn: 0.4966952\ttotal: 2m 49s\tremaining: 2m 17s\n",
            "345:\tlearn: 0.4965477\ttotal: 2m 50s\tremaining: 2m 17s\n",
            "346:\tlearn: 0.4964967\ttotal: 2m 50s\tremaining: 2m 16s\n",
            "347:\tlearn: 0.4964052\ttotal: 2m 51s\tremaining: 2m 16s\n",
            "348:\tlearn: 0.4963456\ttotal: 2m 51s\tremaining: 2m 15s\n",
            "349:\tlearn: 0.4962860\ttotal: 2m 52s\tremaining: 2m 15s\n",
            "350:\tlearn: 0.4962066\ttotal: 2m 52s\tremaining: 2m 14s\n",
            "351:\tlearn: 0.4961562\ttotal: 2m 53s\tremaining: 2m 14s\n",
            "352:\tlearn: 0.4961072\ttotal: 2m 53s\tremaining: 2m 13s\n",
            "353:\tlearn: 0.4960720\ttotal: 2m 53s\tremaining: 2m 13s\n",
            "354:\tlearn: 0.4960069\ttotal: 2m 54s\tremaining: 2m 12s\n",
            "355:\tlearn: 0.4959552\ttotal: 2m 54s\tremaining: 2m 12s\n",
            "356:\tlearn: 0.4959138\ttotal: 2m 55s\tremaining: 2m 11s\n",
            "357:\tlearn: 0.4958459\ttotal: 2m 55s\tremaining: 2m 11s\n",
            "358:\tlearn: 0.4957871\ttotal: 2m 56s\tremaining: 2m 10s\n",
            "359:\tlearn: 0.4957046\ttotal: 2m 56s\tremaining: 2m 10s\n",
            "360:\tlearn: 0.4956590\ttotal: 2m 57s\tremaining: 2m 9s\n",
            "361:\tlearn: 0.4955578\ttotal: 2m 57s\tremaining: 2m 9s\n",
            "362:\tlearn: 0.4954947\ttotal: 2m 58s\tremaining: 2m 8s\n",
            "363:\tlearn: 0.4953911\ttotal: 2m 59s\tremaining: 2m 8s\n",
            "364:\tlearn: 0.4953409\ttotal: 2m 59s\tremaining: 2m 7s\n",
            "365:\tlearn: 0.4952491\ttotal: 3m\tremaining: 2m 7s\n",
            "366:\tlearn: 0.4950785\ttotal: 3m\tremaining: 2m 6s\n",
            "367:\tlearn: 0.4950045\ttotal: 3m 1s\tremaining: 2m 6s\n",
            "368:\tlearn: 0.4949504\ttotal: 3m 1s\tremaining: 2m 5s\n",
            "369:\tlearn: 0.4948060\ttotal: 3m 2s\tremaining: 2m 5s\n",
            "370:\tlearn: 0.4947577\ttotal: 3m 2s\tremaining: 2m 5s\n",
            "371:\tlearn: 0.4947168\ttotal: 3m 3s\tremaining: 2m 4s\n",
            "372:\tlearn: 0.4946386\ttotal: 3m 3s\tremaining: 2m 4s\n",
            "373:\tlearn: 0.4945781\ttotal: 3m 4s\tremaining: 2m 3s\n",
            "374:\tlearn: 0.4944808\ttotal: 3m 4s\tremaining: 2m 3s\n",
            "375:\tlearn: 0.4944327\ttotal: 3m 5s\tremaining: 2m 2s\n",
            "376:\tlearn: 0.4943394\ttotal: 3m 5s\tremaining: 2m 2s\n",
            "377:\tlearn: 0.4942732\ttotal: 3m 6s\tremaining: 2m 1s\n",
            "378:\tlearn: 0.4941991\ttotal: 3m 6s\tremaining: 2m 1s\n",
            "379:\tlearn: 0.4941110\ttotal: 3m 7s\tremaining: 2m\n",
            "380:\tlearn: 0.4940364\ttotal: 3m 7s\tremaining: 2m\n",
            "381:\tlearn: 0.4939643\ttotal: 3m 8s\tremaining: 1m 59s\n",
            "382:\tlearn: 0.4938198\ttotal: 3m 8s\tremaining: 1m 59s\n",
            "383:\tlearn: 0.4937350\ttotal: 3m 9s\tremaining: 1m 58s\n",
            "384:\tlearn: 0.4936121\ttotal: 3m 9s\tremaining: 1m 58s\n",
            "385:\tlearn: 0.4934876\ttotal: 3m 10s\tremaining: 1m 57s\n",
            "386:\tlearn: 0.4934467\ttotal: 3m 10s\tremaining: 1m 57s\n",
            "387:\tlearn: 0.4933170\ttotal: 3m 11s\tremaining: 1m 56s\n",
            "388:\tlearn: 0.4932050\ttotal: 3m 11s\tremaining: 1m 56s\n",
            "389:\tlearn: 0.4931595\ttotal: 3m 12s\tremaining: 1m 55s\n",
            "390:\tlearn: 0.4931052\ttotal: 3m 12s\tremaining: 1m 55s\n",
            "391:\tlearn: 0.4930490\ttotal: 3m 13s\tremaining: 1m 54s\n",
            "392:\tlearn: 0.4930137\ttotal: 3m 13s\tremaining: 1m 54s\n",
            "393:\tlearn: 0.4929792\ttotal: 3m 14s\tremaining: 1m 53s\n",
            "394:\tlearn: 0.4929212\ttotal: 3m 14s\tremaining: 1m 53s\n",
            "395:\tlearn: 0.4928662\ttotal: 3m 15s\tremaining: 1m 52s\n",
            "396:\tlearn: 0.4928327\ttotal: 3m 15s\tremaining: 1m 52s\n",
            "397:\tlearn: 0.4927801\ttotal: 3m 16s\tremaining: 1m 51s\n",
            "398:\tlearn: 0.4927481\ttotal: 3m 16s\tremaining: 1m 51s\n",
            "399:\tlearn: 0.4926907\ttotal: 3m 17s\tremaining: 1m 50s\n",
            "400:\tlearn: 0.4926269\ttotal: 3m 17s\tremaining: 1m 50s\n",
            "401:\tlearn: 0.4925499\ttotal: 3m 18s\tremaining: 1m 50s\n",
            "402:\tlearn: 0.4924917\ttotal: 3m 18s\tremaining: 1m 49s\n",
            "403:\tlearn: 0.4924518\ttotal: 3m 19s\tremaining: 1m 49s\n",
            "404:\tlearn: 0.4923760\ttotal: 3m 19s\tremaining: 1m 48s\n",
            "405:\tlearn: 0.4923387\ttotal: 3m 20s\tremaining: 1m 48s\n",
            "406:\tlearn: 0.4922494\ttotal: 3m 20s\tremaining: 1m 47s\n",
            "407:\tlearn: 0.4921925\ttotal: 3m 21s\tremaining: 1m 47s\n",
            "408:\tlearn: 0.4921508\ttotal: 3m 21s\tremaining: 1m 46s\n",
            "409:\tlearn: 0.4921202\ttotal: 3m 22s\tremaining: 1m 46s\n",
            "410:\tlearn: 0.4920879\ttotal: 3m 22s\tremaining: 1m 45s\n",
            "411:\tlearn: 0.4920218\ttotal: 3m 23s\tremaining: 1m 45s\n",
            "412:\tlearn: 0.4919855\ttotal: 3m 23s\tremaining: 1m 44s\n",
            "413:\tlearn: 0.4919035\ttotal: 3m 24s\tremaining: 1m 44s\n",
            "414:\tlearn: 0.4917059\ttotal: 3m 24s\tremaining: 1m 43s\n",
            "415:\tlearn: 0.4916640\ttotal: 3m 25s\tremaining: 1m 43s\n",
            "416:\tlearn: 0.4916014\ttotal: 3m 25s\tremaining: 1m 42s\n",
            "417:\tlearn: 0.4915438\ttotal: 3m 26s\tremaining: 1m 42s\n",
            "418:\tlearn: 0.4914887\ttotal: 3m 26s\tremaining: 1m 41s\n",
            "419:\tlearn: 0.4913640\ttotal: 3m 27s\tremaining: 1m 41s\n",
            "420:\tlearn: 0.4913126\ttotal: 3m 27s\tremaining: 1m 40s\n",
            "421:\tlearn: 0.4912484\ttotal: 3m 28s\tremaining: 1m 40s\n",
            "422:\tlearn: 0.4912023\ttotal: 3m 28s\tremaining: 1m 39s\n",
            "423:\tlearn: 0.4911151\ttotal: 3m 29s\tremaining: 1m 39s\n",
            "424:\tlearn: 0.4910363\ttotal: 3m 29s\tremaining: 1m 38s\n",
            "425:\tlearn: 0.4910020\ttotal: 3m 30s\tremaining: 1m 38s\n",
            "426:\tlearn: 0.4909454\ttotal: 3m 31s\tremaining: 1m 37s\n",
            "427:\tlearn: 0.4908481\ttotal: 3m 31s\tremaining: 1m 37s\n",
            "428:\tlearn: 0.4908029\ttotal: 3m 32s\tremaining: 1m 36s\n",
            "429:\tlearn: 0.4907754\ttotal: 3m 32s\tremaining: 1m 36s\n",
            "430:\tlearn: 0.4906983\ttotal: 3m 32s\tremaining: 1m 35s\n",
            "431:\tlearn: 0.4906564\ttotal: 3m 33s\tremaining: 1m 35s\n",
            "432:\tlearn: 0.4906040\ttotal: 3m 33s\tremaining: 1m 34s\n",
            "433:\tlearn: 0.4905193\ttotal: 3m 34s\tremaining: 1m 34s\n",
            "434:\tlearn: 0.4904302\ttotal: 3m 35s\tremaining: 1m 33s\n",
            "435:\tlearn: 0.4903774\ttotal: 3m 35s\tremaining: 1m 33s\n",
            "436:\tlearn: 0.4903242\ttotal: 3m 36s\tremaining: 1m 32s\n",
            "437:\tlearn: 0.4902774\ttotal: 3m 36s\tremaining: 1m 32s\n",
            "438:\tlearn: 0.4902279\ttotal: 3m 37s\tremaining: 1m 32s\n",
            "439:\tlearn: 0.4901876\ttotal: 3m 37s\tremaining: 1m 31s\n",
            "440:\tlearn: 0.4901278\ttotal: 3m 38s\tremaining: 1m 31s\n",
            "441:\tlearn: 0.4900842\ttotal: 3m 38s\tremaining: 1m 30s\n",
            "442:\tlearn: 0.4900311\ttotal: 3m 39s\tremaining: 1m 30s\n",
            "443:\tlearn: 0.4899340\ttotal: 3m 39s\tremaining: 1m 29s\n",
            "444:\tlearn: 0.4898604\ttotal: 3m 40s\tremaining: 1m 29s\n",
            "445:\tlearn: 0.4898165\ttotal: 3m 40s\tremaining: 1m 28s\n",
            "446:\tlearn: 0.4897928\ttotal: 3m 41s\tremaining: 1m 28s\n",
            "447:\tlearn: 0.4897065\ttotal: 3m 41s\tremaining: 1m 27s\n",
            "448:\tlearn: 0.4896522\ttotal: 3m 42s\tremaining: 1m 27s\n",
            "449:\tlearn: 0.4895814\ttotal: 3m 42s\tremaining: 1m 26s\n",
            "450:\tlearn: 0.4894742\ttotal: 3m 43s\tremaining: 1m 26s\n",
            "451:\tlearn: 0.4894358\ttotal: 3m 43s\tremaining: 1m 25s\n",
            "452:\tlearn: 0.4893917\ttotal: 3m 44s\tremaining: 1m 25s\n",
            "453:\tlearn: 0.4893019\ttotal: 3m 44s\tremaining: 1m 24s\n",
            "454:\tlearn: 0.4892748\ttotal: 3m 45s\tremaining: 1m 24s\n",
            "455:\tlearn: 0.4891339\ttotal: 3m 45s\tremaining: 1m 23s\n",
            "456:\tlearn: 0.4890581\ttotal: 3m 46s\tremaining: 1m 23s\n",
            "457:\tlearn: 0.4889818\ttotal: 3m 46s\tremaining: 1m 22s\n",
            "458:\tlearn: 0.4889257\ttotal: 3m 47s\tremaining: 1m 22s\n",
            "459:\tlearn: 0.4888524\ttotal: 3m 47s\tremaining: 1m 21s\n",
            "460:\tlearn: 0.4888263\ttotal: 3m 48s\tremaining: 1m 21s\n",
            "461:\tlearn: 0.4887799\ttotal: 3m 48s\tremaining: 1m 20s\n",
            "462:\tlearn: 0.4887216\ttotal: 3m 49s\tremaining: 1m 20s\n",
            "463:\tlearn: 0.4886263\ttotal: 3m 49s\tremaining: 1m 19s\n",
            "464:\tlearn: 0.4885836\ttotal: 3m 50s\tremaining: 1m 19s\n",
            "465:\tlearn: 0.4885349\ttotal: 3m 50s\tremaining: 1m 18s\n",
            "466:\tlearn: 0.4884164\ttotal: 3m 51s\tremaining: 1m 18s\n",
            "467:\tlearn: 0.4883893\ttotal: 3m 51s\tremaining: 1m 17s\n",
            "468:\tlearn: 0.4883224\ttotal: 3m 52s\tremaining: 1m 17s\n",
            "469:\tlearn: 0.4882884\ttotal: 3m 52s\tremaining: 1m 16s\n",
            "470:\tlearn: 0.4882313\ttotal: 3m 53s\tremaining: 1m 16s\n",
            "471:\tlearn: 0.4881899\ttotal: 3m 53s\tremaining: 1m 15s\n",
            "472:\tlearn: 0.4881330\ttotal: 3m 54s\tremaining: 1m 15s\n",
            "473:\tlearn: 0.4880676\ttotal: 3m 54s\tremaining: 1m 14s\n",
            "474:\tlearn: 0.4880424\ttotal: 3m 55s\tremaining: 1m 14s\n",
            "475:\tlearn: 0.4880105\ttotal: 3m 55s\tremaining: 1m 13s\n",
            "476:\tlearn: 0.4879775\ttotal: 3m 56s\tremaining: 1m 13s\n",
            "477:\tlearn: 0.4879270\ttotal: 3m 56s\tremaining: 1m 12s\n",
            "478:\tlearn: 0.4878406\ttotal: 3m 57s\tremaining: 1m 12s\n",
            "479:\tlearn: 0.4878011\ttotal: 3m 57s\tremaining: 1m 11s\n",
            "480:\tlearn: 0.4877643\ttotal: 3m 58s\tremaining: 1m 11s\n",
            "481:\tlearn: 0.4877323\ttotal: 3m 58s\tremaining: 1m 10s\n",
            "482:\tlearn: 0.4876640\ttotal: 3m 59s\tremaining: 1m 10s\n",
            "483:\tlearn: 0.4876056\ttotal: 3m 59s\tremaining: 1m 9s\n",
            "484:\tlearn: 0.4875125\ttotal: 4m\tremaining: 1m 9s\n",
            "485:\tlearn: 0.4874575\ttotal: 4m\tremaining: 1m 8s\n",
            "486:\tlearn: 0.4874242\ttotal: 4m 1s\tremaining: 1m 8s\n",
            "487:\tlearn: 0.4873904\ttotal: 4m 1s\tremaining: 1m 7s\n",
            "488:\tlearn: 0.4873493\ttotal: 4m 2s\tremaining: 1m 7s\n",
            "489:\tlearn: 0.4873035\ttotal: 4m 2s\tremaining: 1m 6s\n",
            "490:\tlearn: 0.4872678\ttotal: 4m 3s\tremaining: 1m 6s\n",
            "491:\tlearn: 0.4872411\ttotal: 4m 3s\tremaining: 1m 5s\n",
            "492:\tlearn: 0.4871919\ttotal: 4m 4s\tremaining: 1m 5s\n",
            "493:\tlearn: 0.4871445\ttotal: 4m 4s\tremaining: 1m 4s\n",
            "494:\tlearn: 0.4871116\ttotal: 4m 5s\tremaining: 1m 4s\n",
            "495:\tlearn: 0.4870881\ttotal: 4m 6s\tremaining: 1m 3s\n",
            "496:\tlearn: 0.4870413\ttotal: 4m 6s\tremaining: 1m 3s\n",
            "497:\tlearn: 0.4869837\ttotal: 4m 6s\tremaining: 1m 2s\n",
            "498:\tlearn: 0.4869171\ttotal: 4m 7s\tremaining: 1m 2s\n",
            "499:\tlearn: 0.4868668\ttotal: 4m 7s\tremaining: 1m 1s\n",
            "500:\tlearn: 0.4868389\ttotal: 4m 8s\tremaining: 1m 1s\n",
            "501:\tlearn: 0.4868035\ttotal: 4m 8s\tremaining: 1m\n",
            "502:\tlearn: 0.4867727\ttotal: 4m 9s\tremaining: 1m\n",
            "503:\tlearn: 0.4867330\ttotal: 4m 10s\tremaining: 1m\n",
            "504:\tlearn: 0.4866802\ttotal: 4m 10s\tremaining: 59.5s\n",
            "505:\tlearn: 0.4866291\ttotal: 4m 11s\tremaining: 59.1s\n",
            "506:\tlearn: 0.4866069\ttotal: 4m 11s\tremaining: 58.6s\n",
            "507:\tlearn: 0.4865539\ttotal: 4m 12s\tremaining: 58.1s\n",
            "508:\tlearn: 0.4865170\ttotal: 4m 12s\tremaining: 57.6s\n",
            "509:\tlearn: 0.4864725\ttotal: 4m 13s\tremaining: 57.1s\n",
            "510:\tlearn: 0.4864307\ttotal: 4m 13s\tremaining: 56.6s\n",
            "511:\tlearn: 0.4864127\ttotal: 4m 14s\tremaining: 56.1s\n",
            "512:\tlearn: 0.4863766\ttotal: 4m 14s\tremaining: 55.7s\n",
            "513:\tlearn: 0.4863344\ttotal: 4m 15s\tremaining: 55.1s\n",
            "514:\tlearn: 0.4862729\ttotal: 4m 15s\tremaining: 54.7s\n",
            "515:\tlearn: 0.4862418\ttotal: 4m 16s\tremaining: 54.1s\n",
            "516:\tlearn: 0.4860910\ttotal: 4m 16s\tremaining: 53.7s\n",
            "517:\tlearn: 0.4860454\ttotal: 4m 17s\tremaining: 53.2s\n",
            "518:\tlearn: 0.4860078\ttotal: 4m 17s\tremaining: 52.6s\n",
            "519:\tlearn: 0.4859510\ttotal: 4m 18s\tremaining: 52.2s\n",
            "520:\tlearn: 0.4859087\ttotal: 4m 18s\tremaining: 51.7s\n",
            "521:\tlearn: 0.4858708\ttotal: 4m 19s\tremaining: 51.2s\n",
            "522:\tlearn: 0.4858157\ttotal: 4m 19s\tremaining: 50.7s\n",
            "523:\tlearn: 0.4857905\ttotal: 4m 20s\tremaining: 50.2s\n",
            "524:\tlearn: 0.4857338\ttotal: 4m 20s\tremaining: 49.7s\n",
            "525:\tlearn: 0.4856341\ttotal: 4m 21s\tremaining: 49.2s\n",
            "526:\tlearn: 0.4855974\ttotal: 4m 21s\tremaining: 48.7s\n",
            "527:\tlearn: 0.4855146\ttotal: 4m 22s\tremaining: 48.2s\n",
            "528:\tlearn: 0.4854869\ttotal: 4m 22s\tremaining: 47.7s\n",
            "529:\tlearn: 0.4854048\ttotal: 4m 23s\tremaining: 47.2s\n",
            "530:\tlearn: 0.4853682\ttotal: 4m 23s\tremaining: 46.7s\n",
            "531:\tlearn: 0.4853193\ttotal: 4m 24s\tremaining: 46.2s\n",
            "532:\tlearn: 0.4852315\ttotal: 4m 24s\tremaining: 45.7s\n",
            "533:\tlearn: 0.4851556\ttotal: 4m 25s\tremaining: 45.2s\n",
            "534:\tlearn: 0.4851366\ttotal: 4m 25s\tremaining: 44.7s\n",
            "535:\tlearn: 0.4850703\ttotal: 4m 26s\tremaining: 44.2s\n",
            "536:\tlearn: 0.4850391\ttotal: 4m 26s\tremaining: 43.8s\n",
            "537:\tlearn: 0.4849606\ttotal: 4m 27s\tremaining: 43.3s\n",
            "538:\tlearn: 0.4849192\ttotal: 4m 27s\tremaining: 42.8s\n",
            "539:\tlearn: 0.4848830\ttotal: 4m 28s\tremaining: 42.3s\n",
            "540:\tlearn: 0.4848451\ttotal: 4m 28s\tremaining: 41.8s\n",
            "541:\tlearn: 0.4848187\ttotal: 4m 29s\tremaining: 41.3s\n",
            "542:\tlearn: 0.4847746\ttotal: 4m 29s\tremaining: 40.8s\n",
            "543:\tlearn: 0.4846973\ttotal: 4m 30s\tremaining: 40.3s\n",
            "544:\tlearn: 0.4846743\ttotal: 4m 30s\tremaining: 39.8s\n",
            "545:\tlearn: 0.4846469\ttotal: 4m 31s\tremaining: 39.3s\n",
            "546:\tlearn: 0.4846187\ttotal: 4m 31s\tremaining: 38.8s\n",
            "547:\tlearn: 0.4845507\ttotal: 4m 32s\tremaining: 38.3s\n",
            "548:\tlearn: 0.4845152\ttotal: 4m 33s\tremaining: 37.8s\n",
            "549:\tlearn: 0.4844758\ttotal: 4m 33s\tremaining: 37.3s\n",
            "550:\tlearn: 0.4844427\ttotal: 4m 34s\tremaining: 36.8s\n",
            "551:\tlearn: 0.4844066\ttotal: 4m 34s\tremaining: 36.3s\n",
            "552:\tlearn: 0.4843736\ttotal: 4m 35s\tremaining: 35.8s\n",
            "553:\tlearn: 0.4843115\ttotal: 4m 35s\tremaining: 35.3s\n",
            "554:\tlearn: 0.4842785\ttotal: 4m 36s\tremaining: 34.8s\n",
            "555:\tlearn: 0.4842061\ttotal: 4m 36s\tremaining: 34.3s\n",
            "556:\tlearn: 0.4841594\ttotal: 4m 37s\tremaining: 33.8s\n",
            "557:\tlearn: 0.4841066\ttotal: 4m 37s\tremaining: 33.3s\n",
            "558:\tlearn: 0.4840911\ttotal: 4m 38s\tremaining: 32.9s\n",
            "559:\tlearn: 0.4840739\ttotal: 4m 38s\tremaining: 32.4s\n",
            "560:\tlearn: 0.4839773\ttotal: 4m 39s\tremaining: 31.9s\n",
            "561:\tlearn: 0.4839108\ttotal: 4m 40s\tremaining: 31.4s\n",
            "562:\tlearn: 0.4838637\ttotal: 4m 40s\tremaining: 30.9s\n",
            "563:\tlearn: 0.4838204\ttotal: 4m 40s\tremaining: 30.4s\n",
            "564:\tlearn: 0.4837840\ttotal: 4m 41s\tremaining: 29.9s\n",
            "565:\tlearn: 0.4837451\ttotal: 4m 41s\tremaining: 29.4s\n",
            "566:\tlearn: 0.4837067\ttotal: 4m 42s\tremaining: 28.9s\n",
            "567:\tlearn: 0.4836584\ttotal: 4m 42s\tremaining: 28.4s\n",
            "568:\tlearn: 0.4836020\ttotal: 4m 43s\tremaining: 27.9s\n",
            "569:\tlearn: 0.4835389\ttotal: 4m 43s\tremaining: 27.4s\n",
            "570:\tlearn: 0.4835023\ttotal: 4m 44s\tremaining: 26.9s\n",
            "571:\tlearn: 0.4834716\ttotal: 4m 45s\tremaining: 26.4s\n",
            "572:\tlearn: 0.4834169\ttotal: 4m 45s\tremaining: 25.9s\n",
            "573:\tlearn: 0.4833382\ttotal: 4m 46s\tremaining: 25.4s\n",
            "574:\tlearn: 0.4832943\ttotal: 4m 46s\tremaining: 24.9s\n",
            "575:\tlearn: 0.4832609\ttotal: 4m 47s\tremaining: 24.4s\n",
            "576:\tlearn: 0.4832239\ttotal: 4m 47s\tremaining: 23.9s\n",
            "577:\tlearn: 0.4831834\ttotal: 4m 48s\tremaining: 23.4s\n",
            "578:\tlearn: 0.4831617\ttotal: 4m 48s\tremaining: 22.9s\n",
            "579:\tlearn: 0.4831296\ttotal: 4m 49s\tremaining: 22.4s\n",
            "580:\tlearn: 0.4830778\ttotal: 4m 49s\tremaining: 21.9s\n",
            "581:\tlearn: 0.4830490\ttotal: 4m 50s\tremaining: 21.4s\n",
            "582:\tlearn: 0.4830081\ttotal: 4m 50s\tremaining: 20.9s\n",
            "583:\tlearn: 0.4829444\ttotal: 4m 51s\tremaining: 20.4s\n",
            "584:\tlearn: 0.4829141\ttotal: 4m 51s\tremaining: 19.9s\n",
            "585:\tlearn: 0.4828627\ttotal: 4m 52s\tremaining: 19.4s\n",
            "586:\tlearn: 0.4828482\ttotal: 4m 52s\tremaining: 18.9s\n",
            "587:\tlearn: 0.4828094\ttotal: 4m 53s\tremaining: 18.4s\n",
            "588:\tlearn: 0.4827556\ttotal: 4m 53s\tremaining: 17.9s\n",
            "589:\tlearn: 0.4826919\ttotal: 4m 53s\tremaining: 17.4s\n",
            "590:\tlearn: 0.4826552\ttotal: 4m 54s\tremaining: 16.9s\n",
            "591:\tlearn: 0.4825844\ttotal: 4m 54s\tremaining: 16.4s\n",
            "592:\tlearn: 0.4825402\ttotal: 4m 55s\tremaining: 15.9s\n",
            "593:\tlearn: 0.4825202\ttotal: 4m 55s\tremaining: 15.4s\n",
            "594:\tlearn: 0.4824881\ttotal: 4m 56s\tremaining: 14.9s\n",
            "595:\tlearn: 0.4824522\ttotal: 4m 56s\tremaining: 14.4s\n",
            "596:\tlearn: 0.4824080\ttotal: 4m 57s\tremaining: 13.9s\n",
            "597:\tlearn: 0.4823684\ttotal: 4m 57s\tremaining: 13.4s\n",
            "598:\tlearn: 0.4823092\ttotal: 4m 58s\tremaining: 13s\n",
            "599:\tlearn: 0.4822897\ttotal: 4m 58s\tremaining: 12.5s\n",
            "600:\tlearn: 0.4822695\ttotal: 4m 59s\tremaining: 12s\n",
            "601:\tlearn: 0.4822433\ttotal: 4m 59s\tremaining: 11.5s\n",
            "602:\tlearn: 0.4822117\ttotal: 5m\tremaining: 11s\n",
            "603:\tlearn: 0.4820869\ttotal: 5m 1s\tremaining: 10.5s\n",
            "604:\tlearn: 0.4820369\ttotal: 5m 1s\tremaining: 9.97s\n",
            "605:\tlearn: 0.4820068\ttotal: 5m 2s\tremaining: 9.47s\n",
            "606:\tlearn: 0.4819813\ttotal: 5m 2s\tremaining: 8.97s\n",
            "607:\tlearn: 0.4819542\ttotal: 5m 3s\tremaining: 8.47s\n",
            "608:\tlearn: 0.4819086\ttotal: 5m 3s\tremaining: 7.97s\n",
            "609:\tlearn: 0.4818817\ttotal: 5m 3s\tremaining: 7.47s\n",
            "610:\tlearn: 0.4817985\ttotal: 5m 4s\tremaining: 6.97s\n",
            "611:\tlearn: 0.4817715\ttotal: 5m 4s\tremaining: 6.47s\n",
            "612:\tlearn: 0.4817255\ttotal: 5m 5s\tremaining: 5.98s\n",
            "613:\tlearn: 0.4816956\ttotal: 5m 5s\tremaining: 5.48s\n",
            "614:\tlearn: 0.4816549\ttotal: 5m 6s\tremaining: 4.98s\n",
            "615:\tlearn: 0.4816196\ttotal: 5m 6s\tremaining: 4.48s\n",
            "616:\tlearn: 0.4816009\ttotal: 5m 7s\tremaining: 3.98s\n",
            "617:\tlearn: 0.4815301\ttotal: 5m 7s\tremaining: 3.49s\n",
            "618:\tlearn: 0.4815061\ttotal: 5m 8s\tremaining: 2.99s\n",
            "619:\tlearn: 0.4814447\ttotal: 5m 8s\tremaining: 2.49s\n",
            "620:\tlearn: 0.4813710\ttotal: 5m 9s\tremaining: 1.99s\n",
            "621:\tlearn: 0.4813176\ttotal: 5m 9s\tremaining: 1.49s\n",
            "622:\tlearn: 0.4812676\ttotal: 5m 10s\tremaining: 996ms\n",
            "623:\tlearn: 0.4812322\ttotal: 5m 10s\tremaining: 498ms\n",
            "624:\tlearn: 0.4811464\ttotal: 5m 11s\tremaining: 0us\n"
          ],
          "name": "stdout"
        },
        {
          "output_type": "execute_result",
          "data": {
            "text/plain": [
              "<catboost.core.CatBoostRegressor at 0x7f1f8b739160>"
            ]
          },
          "metadata": {
            "tags": []
          },
          "execution_count": 59
        }
      ]
    },
    {
      "cell_type": "markdown",
      "metadata": {
        "id": "63nq1KyBGbNQ",
        "colab_type": "text"
      },
      "source": [
        "624:\tlearn: 0.4839052\ttotal: 8m 15s\tremaining: 0us"
      ]
    },
    {
      "cell_type": "code",
      "metadata": {
        "colab_type": "code",
        "id": "Rrwagd3-7kWj",
        "colab": {}
      },
      "source": [
        "pred = cat_rg1.predict(test[features1])"
      ],
      "execution_count": 0,
      "outputs": []
    },
    {
      "cell_type": "code",
      "metadata": {
        "colab_type": "code",
        "id": "ktaMJbtjG-5U",
        "colab": {}
      },
      "source": [
        "pred = (np.exp(pred) - 1)"
      ],
      "execution_count": 0,
      "outputs": []
    },
    {
      "cell_type": "code",
      "metadata": {
        "colab_type": "code",
        "id": "EBGphk3F7kWm",
        "colab": {}
      },
      "source": [
        "sub_df = pd.DataFrame(columns=['id', 'num_orders'])\n",
        "sub_df['id'] = test['id']\n",
        "sub_df['num_orders'] = pred\n",
        "sub_df.to_csv(f'{SUB_PATH}/cat10.csv', index=False)"
      ],
      "execution_count": 0,
      "outputs": []
    },
    {
      "cell_type": "code",
      "metadata": {
        "colab_type": "code",
        "id": "tj3m5DODIV-K",
        "colab": {}
      },
      "source": [
        ""
      ],
      "execution_count": 0,
      "outputs": []
    },
    {
      "cell_type": "code",
      "metadata": {
        "colab_type": "code",
        "id": "lXJnd7PmIV6D",
        "colab": {}
      },
      "source": [
        ""
      ],
      "execution_count": 0,
      "outputs": []
    },
    {
      "cell_type": "code",
      "metadata": {
        "colab_type": "code",
        "id": "Mvf79nq97kWp",
        "colab": {}
      },
      "source": [
        "# for catboost plots\n",
        "# jupyter nbextension enable --py widgetsnbextension\n",
        "# https://www.slideshare.net/OwenZhang2/tips-for-data-science-competitions"
      ],
      "execution_count": 0,
      "outputs": []
    }
  ]
}